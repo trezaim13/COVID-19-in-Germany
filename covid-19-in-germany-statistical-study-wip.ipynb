{
 "cells": [
  {
   "cell_type": "markdown",
   "id": "d52397fb",
   "metadata": {
    "papermill": {
     "duration": 0.024307,
     "end_time": "2021-11-17T12:23:31.274131",
     "exception": false,
     "start_time": "2021-11-17T12:23:31.249824",
     "status": "completed"
    },
    "tags": []
   },
   "source": [
    "# Project Description"
   ]
  },
  {
   "cell_type": "markdown",
   "id": "54329547",
   "metadata": {
    "papermill": {
     "duration": 0.020791,
     "end_time": "2021-11-17T12:23:31.316404",
     "exception": false,
     "start_time": "2021-11-17T12:23:31.295613",
     "status": "completed"
    },
    "tags": []
   },
   "source": [
    "<b>At the end of 2019, the world was faced with a new challenge : the COVID-19 pandemic, which is a still ongoing global pandemic of coronavirus disease 2019. The novel virus was first identified in Wuhan, China in December 2019 but has managed to spread worlwide, which incluldes Germany of course.\n",
    "\n",
    "At hand, we have a dataset containing informations about the infections, deaths and vaccines in Germany.\n",
    "\n",
    "Let's analyse this data and see what we can retain from it.</b>"
   ]
  },
  {
   "cell_type": "markdown",
   "id": "25b0b2bd",
   "metadata": {
    "papermill": {
     "duration": 0.023815,
     "end_time": "2021-11-17T12:23:31.364878",
     "exception": false,
     "start_time": "2021-11-17T12:23:31.341063",
     "status": "completed"
    },
    "tags": []
   },
   "source": [
    "# Description of the data"
   ]
  },
  {
   "cell_type": "markdown",
   "id": "e63f79ed",
   "metadata": {
    "papermill": {
     "duration": 0.020636,
     "end_time": "2021-11-17T12:23:31.407605",
     "exception": false,
     "start_time": "2021-11-17T12:23:31.386969",
     "status": "completed"
    },
    "tags": []
   },
   "source": [
    "We will be using 3 datasets in this study :  \n",
    "\n",
    "- The first dataset, which we named **'`covid`'**, contains 831.604 rows of data with information on covid cases, deaths and recoveries in Germany. The data is separated into the following 8 columns :\n",
    "    - **`state`** : The state to which the tested individuals belong;\n",
    "    - **`county`** :  The county which the state belongs to;\n",
    "    - **`age_group`** : The age group of the tested (xx-xx);\n",
    "    - **`gender`** : The gender of the tested;\n",
    "    - **`date`** : The date of the tests (YYYY-MM-DD);\n",
    "    - **`cases`** : The number of new covid cases;\n",
    "    - **`deaths`** : The number of deaths;\n",
    "    - **`recovered`** : The number of recovered cases.\n",
    "    \n",
    "- The second dataset, which we named **'`vaccine`'**, contains 313 rows of data with information on the COVID vaccines in Germany. The data is separated into the following 9 columns :\n",
    "    - **`date`** : The date of the administration of the vaccine (YYYY-MM-DD);\n",
    "    - **`doses`** :  The number of doses administered;\n",
    "    - **`doses_first`** : The number of first doses administered;\n",
    "    - **`doses_second`** : The number of second doses administered;\n",
    "    - **`pfizer_cumul`** : The cumulated number of the Pfizer vaccine doses administered;\n",
    "    - **`moderna_cumul`** : The cumulated number of the Moderna vaccine doses administered;\n",
    "    - **`Astrazeneca_cumul`** : The cumulated number of the AstraZeneca vaccine doses administered;\n",
    "    - **`persons_first_cumul`** : The cumulated number of patients who have received the first dose of the vaccine;\n",
    "    - **`persons_second_cumul`** : The cumulated number of patients who are fully vaccinated, meaning they have received the second dose of the vaccine.\n",
    "\n",
    "- The third dataset, which we named **'`demographics`'**, contains 192 rows of data with information on the demographic distribution in Germany. The data is separated into the following 4 columns :\n",
    "    - **`state`** : The state to which the demographic belongs;\n",
    "    - **`gender`** : The gender of the demographic group;\n",
    "    - **`age_group`** : The age group of the demographic (xx-xx);\n",
    "    - **`population`** : The number of individuals;"
   ]
  },
  {
   "cell_type": "markdown",
   "id": "c41ccca3",
   "metadata": {
    "papermill": {
     "duration": 0.020588,
     "end_time": "2021-11-17T12:23:31.449934",
     "exception": false,
     "start_time": "2021-11-17T12:23:31.429346",
     "status": "completed"
    },
    "tags": []
   },
   "source": [
    "# Table of contents  "
   ]
  },
  {
   "cell_type": "markdown",
   "id": "ea3ca3da",
   "metadata": {
    "papermill": {
     "duration": 0.020526,
     "end_time": "2021-11-17T12:23:31.491315",
     "exception": false,
     "start_time": "2021-11-17T12:23:31.470789",
     "status": "completed"
    },
    "tags": []
   },
   "source": [
    "\n",
    "\n",
    "[**1 : Data Preprocessing**](#1)  \n",
    "&emsp;&emsp;[1.1 - Importing Libraries and Datasets](#11)     \n",
    "&emsp;&emsp;[1.2 - Checking Anomalies in Data](#12)  \n",
    "&emsp;&emsp;&emsp;&emsp;- [Missing Values](#121)  \n",
    "&emsp;&emsp;&emsp;&emsp;- [Duplicates](#122)  \n",
    "&emsp;&emsp;[1.3 - Converting Data](#13)  \n",
    "&emsp;&emsp;[1.4 - Conclusion](#14)   \n",
    "[**2 : Exploratory Data Analysis**](#2)     \n",
    "&emsp;&emsp;[2.1 - Data Description](#21)   \n",
    "&emsp;&emsp;[2.2 - Data Visualization](#22)    \n",
    "&emsp;&emsp;&emsp;&emsp;- Calls by Date   \n",
    "&emsp;&emsp;&emsp;&emsp;- Calls by Operator and by User  \n",
    "&emsp;&emsp;&emsp;&emsp;- Clients per Date  \n",
    "&emsp;&emsp;2.6 - Processing Outliers    \n",
    "**3 : Data Analysis**  \n",
    "&emsp;&emsp;3.1 - Catgorize Operators  \n",
    "&emsp;&emsp;&emsp;&emsp;- Ranking Operators    \n",
    "&emsp;&emsp;&emsp;&emsp;- The Most Ineffective Operators    \n",
    "&emsp;&emsp;&emsp;&emsp;- The Most Effective Operators  \n",
    "&emsp;&emsp;3.2 - Hypotheses  \n",
    "&emsp;&emsp;&emsp;&emsp;- Identify Relation Between Datasets (Operator - Tariff)  \n",
    "&emsp;&emsp;&emsp;&emsp;- Hypothsize  \n",
    "&emsp;&emsp;&emsp;&emsp;- Whitney-Mann Testing  \n",
    "**4 : Conclusions**  \n",
    "**5 : Dashboard**  \n",
    "&emsp;&emsp;4.1 - Dashboard Draft  \n",
    "&emsp;&emsp;4.1 - Dashboard Link  \n",
    "**6 : Presentation**   \n",
    "**7 : References and External Links**    \n",
    "\n"
   ]
  },
  {
   "cell_type": "markdown",
   "id": "b3f60128",
   "metadata": {
    "papermill": {
     "duration": 0.020489,
     "end_time": "2021-11-17T12:23:31.532575",
     "exception": false,
     "start_time": "2021-11-17T12:23:31.512086",
     "status": "completed"
    },
    "tags": []
   },
   "source": [
    "## 1. Data Preprocessing <a name=\"1\"></a>"
   ]
  },
  {
   "cell_type": "markdown",
   "id": "da546458",
   "metadata": {
    "papermill": {
     "duration": 0.020448,
     "end_time": "2021-11-17T12:23:31.573779",
     "exception": false,
     "start_time": "2021-11-17T12:23:31.553331",
     "status": "completed"
    },
    "tags": []
   },
   "source": [
    "### 1.1. Importing Libraries and Datasets<a name=\"11\"></a>"
   ]
  },
  {
   "cell_type": "code",
   "execution_count": 1,
   "id": "6edb447b",
   "metadata": {
    "execution": {
     "iopub.execute_input": "2021-11-17T12:23:31.628711Z",
     "iopub.status.busy": "2021-11-17T12:23:31.627798Z",
     "iopub.status.idle": "2021-11-17T12:23:34.857202Z",
     "shell.execute_reply": "2021-11-17T12:23:34.856112Z",
     "shell.execute_reply.started": "2021-11-11T16:42:35.32154Z"
    },
    "papermill": {
     "duration": 3.262891,
     "end_time": "2021-11-17T12:23:34.857403",
     "exception": false,
     "start_time": "2021-11-17T12:23:31.594512",
     "status": "completed"
    },
    "tags": []
   },
   "outputs": [],
   "source": [
    "import requests\n",
    "import sys\n",
    "import warnings\n",
    "import time\n",
    "\n",
    "import pandas as pd\n",
    "import numpy as np\n",
    "import datetime as dt\n",
    "import matplotlib.pyplot as plt\n",
    "import seaborn as sns\n",
    "import plotly.express as px\n",
    "import plotly.figure_factory as ff\n",
    "import math as mth\n",
    "\n",
    "from scipy import stats\n",
    "from io import BytesIO\n",
    "from scipy.stats import ttest_ind\n",
    "from IPython.display import display_html \n",
    "from pandas.plotting import register_matplotlib_converters\n",
    "from plotly import graph_objects as go \n",
    "from scipy.cluster.hierarchy import dendrogram, linkage \n",
    "from scipy.cluster import hierarchy\n",
    "from scipy.stats import rankdata\n",
    "\n",
    "if not sys.warnoptions:\n",
    "       warnings.simplefilter(\"ignore\")"
   ]
  },
  {
   "cell_type": "code",
   "execution_count": 2,
   "id": "8a6bd003",
   "metadata": {
    "execution": {
     "iopub.execute_input": "2021-11-17T12:23:34.906811Z",
     "iopub.status.busy": "2021-11-17T12:23:34.906024Z",
     "iopub.status.idle": "2021-11-17T12:23:36.690128Z",
     "shell.execute_reply": "2021-11-17T12:23:36.689571Z",
     "shell.execute_reply.started": "2021-11-11T16:41:40.690458Z"
    },
    "papermill": {
     "duration": 1.811688,
     "end_time": "2021-11-17T12:23:36.690275",
     "exception": false,
     "start_time": "2021-11-17T12:23:34.878587",
     "status": "completed"
    },
    "tags": []
   },
   "outputs": [
    {
     "name": "stdout",
     "output_type": "stream",
     "text": [
      "\n",
      "------------------------------------------ Informations About the Datasets ------------------------------------------\n",
      "\n",
      "<class 'pandas.core.frame.DataFrame'>\n",
      "RangeIndex: 1176455 entries, 0 to 1176454\n",
      "Data columns (total 8 columns):\n",
      " #   Column     Non-Null Count    Dtype \n",
      "---  ------     --------------    ----- \n",
      " 0   state      1176455 non-null  object\n",
      " 1   county     1176455 non-null  object\n",
      " 2   age_group  1174033 non-null  object\n",
      " 3   gender     1156365 non-null  object\n",
      " 4   date       1176455 non-null  object\n",
      " 5   cases      1176455 non-null  int64 \n",
      " 6   deaths     1176455 non-null  int64 \n",
      " 7   recovered  1176455 non-null  int64 \n",
      "dtypes: int64(3), object(5)\n",
      "memory usage: 71.8+ MB\n"
     ]
    },
    {
     "data": {
      "text/plain": [
       "None"
      ]
     },
     "metadata": {},
     "output_type": "display_data"
    },
    {
     "name": "stdout",
     "output_type": "stream",
     "text": [
      "\n",
      "<class 'pandas.core.frame.DataFrame'>\n",
      "RangeIndex: 324 entries, 0 to 323\n",
      "Data columns (total 9 columns):\n",
      " #   Column               Non-Null Count  Dtype \n",
      "---  ------               --------------  ----- \n",
      " 0   date                 324 non-null    object\n",
      " 1   doses                324 non-null    int64 \n",
      " 2   doses_first          324 non-null    int64 \n",
      " 3   doses_second         324 non-null    int64 \n",
      " 4   pfizer_cumul         324 non-null    int64 \n",
      " 5   moderna_cumul        324 non-null    int64 \n",
      " 6   astrazeneca_cumul    324 non-null    int64 \n",
      " 7   persons_first_cumul  324 non-null    int64 \n",
      " 8   persons_full_cumul   324 non-null    int64 \n",
      "dtypes: int64(8), object(1)\n",
      "memory usage: 22.9+ KB\n"
     ]
    },
    {
     "data": {
      "text/plain": [
       "None"
      ]
     },
     "metadata": {},
     "output_type": "display_data"
    },
    {
     "name": "stdout",
     "output_type": "stream",
     "text": [
      "\n",
      "<class 'pandas.core.frame.DataFrame'>\n",
      "RangeIndex: 192 entries, 0 to 191\n",
      "Data columns (total 4 columns):\n",
      " #   Column      Non-Null Count  Dtype \n",
      "---  ------      --------------  ----- \n",
      " 0   state       192 non-null    object\n",
      " 1   gender      192 non-null    object\n",
      " 2   age_group   192 non-null    object\n",
      " 3   population  192 non-null    int64 \n",
      "dtypes: int64(1), object(3)\n",
      "memory usage: 6.1+ KB\n"
     ]
    },
    {
     "data": {
      "text/plain": [
       "None"
      ]
     },
     "metadata": {},
     "output_type": "display_data"
    },
    {
     "name": "stdout",
     "output_type": "stream",
     "text": [
      "\n",
      "----------------------------------------------- Samples of the datasets ---------------------------------------------\n"
     ]
    },
    {
     "data": {
      "text/html": [
       "<div>\n",
       "<style scoped>\n",
       "    .dataframe tbody tr th:only-of-type {\n",
       "        vertical-align: middle;\n",
       "    }\n",
       "\n",
       "    .dataframe tbody tr th {\n",
       "        vertical-align: top;\n",
       "    }\n",
       "\n",
       "    .dataframe thead th {\n",
       "        text-align: right;\n",
       "    }\n",
       "</style>\n",
       "<table border=\"1\" class=\"dataframe\">\n",
       "  <thead>\n",
       "    <tr style=\"text-align: right;\">\n",
       "      <th></th>\n",
       "      <th>state</th>\n",
       "      <th>county</th>\n",
       "      <th>age_group</th>\n",
       "      <th>gender</th>\n",
       "      <th>date</th>\n",
       "      <th>cases</th>\n",
       "      <th>deaths</th>\n",
       "      <th>recovered</th>\n",
       "    </tr>\n",
       "  </thead>\n",
       "  <tbody>\n",
       "    <tr>\n",
       "      <th>993717</th>\n",
       "      <td>Rheinland-Pfalz</td>\n",
       "      <td>SK Trier</td>\n",
       "      <td>15-34</td>\n",
       "      <td>M</td>\n",
       "      <td>2021-04-22</td>\n",
       "      <td>1</td>\n",
       "      <td>0</td>\n",
       "      <td>1</td>\n",
       "    </tr>\n",
       "    <tr>\n",
       "      <th>198946</th>\n",
       "      <td>Bayern</td>\n",
       "      <td>LK Donau-Ries</td>\n",
       "      <td>60-79</td>\n",
       "      <td>M</td>\n",
       "      <td>2021-01-19</td>\n",
       "      <td>2</td>\n",
       "      <td>0</td>\n",
       "      <td>2</td>\n",
       "    </tr>\n",
       "    <tr>\n",
       "      <th>509134</th>\n",
       "      <td>Hessen</td>\n",
       "      <td>LK Darmstadt-Dieburg</td>\n",
       "      <td>15-34</td>\n",
       "      <td>F</td>\n",
       "      <td>2020-04-13</td>\n",
       "      <td>1</td>\n",
       "      <td>0</td>\n",
       "      <td>1</td>\n",
       "    </tr>\n",
       "    <tr>\n",
       "      <th>903028</th>\n",
       "      <td>Nordrhein-Westfalen</td>\n",
       "      <td>SK Remscheid</td>\n",
       "      <td>60-79</td>\n",
       "      <td>F</td>\n",
       "      <td>2021-01-16</td>\n",
       "      <td>3</td>\n",
       "      <td>0</td>\n",
       "      <td>3</td>\n",
       "    </tr>\n",
       "    <tr>\n",
       "      <th>974432</th>\n",
       "      <td>Rheinland-Pfalz</td>\n",
       "      <td>SK Frankenthal</td>\n",
       "      <td>35-59</td>\n",
       "      <td>M</td>\n",
       "      <td>2021-04-22</td>\n",
       "      <td>4</td>\n",
       "      <td>0</td>\n",
       "      <td>4</td>\n",
       "    </tr>\n",
       "    <tr>\n",
       "      <th>563657</th>\n",
       "      <td>Hessen</td>\n",
       "      <td>LK Waldeck-Frankenberg</td>\n",
       "      <td>35-59</td>\n",
       "      <td>F</td>\n",
       "      <td>2021-06-13</td>\n",
       "      <td>1</td>\n",
       "      <td>0</td>\n",
       "      <td>1</td>\n",
       "    </tr>\n",
       "    <tr>\n",
       "      <th>959419</th>\n",
       "      <td>Rheinland-Pfalz</td>\n",
       "      <td>LK Rhein-Pfalz-Kreis</td>\n",
       "      <td>00-04</td>\n",
       "      <td>M</td>\n",
       "      <td>2021-06-02</td>\n",
       "      <td>1</td>\n",
       "      <td>0</td>\n",
       "      <td>1</td>\n",
       "    </tr>\n",
       "    <tr>\n",
       "      <th>38054</th>\n",
       "      <td>Baden-Wuerttemberg</td>\n",
       "      <td>LK Heidenheim</td>\n",
       "      <td>00-04</td>\n",
       "      <td>F</td>\n",
       "      <td>2021-07-17</td>\n",
       "      <td>1</td>\n",
       "      <td>0</td>\n",
       "      <td>1</td>\n",
       "    </tr>\n",
       "    <tr>\n",
       "      <th>487945</th>\n",
       "      <td>Brandenburg</td>\n",
       "      <td>SK Frankfurt</td>\n",
       "      <td>35-59</td>\n",
       "      <td>F</td>\n",
       "      <td>2021-06-06</td>\n",
       "      <td>1</td>\n",
       "      <td>0</td>\n",
       "      <td>1</td>\n",
       "    </tr>\n",
       "    <tr>\n",
       "      <th>1025750</th>\n",
       "      <td>Sachsen</td>\n",
       "      <td>LK Leipzig</td>\n",
       "      <td>15-34</td>\n",
       "      <td>F</td>\n",
       "      <td>2021-01-14</td>\n",
       "      <td>4</td>\n",
       "      <td>0</td>\n",
       "      <td>4</td>\n",
       "    </tr>\n",
       "  </tbody>\n",
       "</table>\n",
       "</div>"
      ],
      "text/plain": [
       "                       state                  county age_group gender  \\\n",
       "993717       Rheinland-Pfalz                SK Trier     15-34      M   \n",
       "198946                Bayern           LK Donau-Ries     60-79      M   \n",
       "509134                Hessen    LK Darmstadt-Dieburg     15-34      F   \n",
       "903028   Nordrhein-Westfalen            SK Remscheid     60-79      F   \n",
       "974432       Rheinland-Pfalz          SK Frankenthal     35-59      M   \n",
       "563657                Hessen  LK Waldeck-Frankenberg     35-59      F   \n",
       "959419       Rheinland-Pfalz    LK Rhein-Pfalz-Kreis     00-04      M   \n",
       "38054     Baden-Wuerttemberg           LK Heidenheim     00-04      F   \n",
       "487945           Brandenburg           SK Frankfurt      35-59      F   \n",
       "1025750              Sachsen              LK Leipzig     15-34      F   \n",
       "\n",
       "               date  cases  deaths  recovered  \n",
       "993717   2021-04-22      1       0          1  \n",
       "198946   2021-01-19      2       0          2  \n",
       "509134   2020-04-13      1       0          1  \n",
       "903028   2021-01-16      3       0          3  \n",
       "974432   2021-04-22      4       0          4  \n",
       "563657   2021-06-13      1       0          1  \n",
       "959419   2021-06-02      1       0          1  \n",
       "38054    2021-07-17      1       0          1  \n",
       "487945   2021-06-06      1       0          1  \n",
       "1025750  2021-01-14      4       0          4  "
      ]
     },
     "metadata": {},
     "output_type": "display_data"
    },
    {
     "name": "stdout",
     "output_type": "stream",
     "text": [
      "\n"
     ]
    },
    {
     "data": {
      "text/html": [
       "<div>\n",
       "<style scoped>\n",
       "    .dataframe tbody tr th:only-of-type {\n",
       "        vertical-align: middle;\n",
       "    }\n",
       "\n",
       "    .dataframe tbody tr th {\n",
       "        vertical-align: top;\n",
       "    }\n",
       "\n",
       "    .dataframe thead th {\n",
       "        text-align: right;\n",
       "    }\n",
       "</style>\n",
       "<table border=\"1\" class=\"dataframe\">\n",
       "  <thead>\n",
       "    <tr style=\"text-align: right;\">\n",
       "      <th></th>\n",
       "      <th>date</th>\n",
       "      <th>doses</th>\n",
       "      <th>doses_first</th>\n",
       "      <th>doses_second</th>\n",
       "      <th>pfizer_cumul</th>\n",
       "      <th>moderna_cumul</th>\n",
       "      <th>astrazeneca_cumul</th>\n",
       "      <th>persons_first_cumul</th>\n",
       "      <th>persons_full_cumul</th>\n",
       "    </tr>\n",
       "  </thead>\n",
       "  <tbody>\n",
       "    <tr>\n",
       "      <th>76</th>\n",
       "      <td>2021-03-13</td>\n",
       "      <td>241271</td>\n",
       "      <td>190878</td>\n",
       "      <td>50393</td>\n",
       "      <td>7403134</td>\n",
       "      <td>352352</td>\n",
       "      <td>1758508</td>\n",
       "      <td>6578719</td>\n",
       "      <td>2935374</td>\n",
       "    </tr>\n",
       "    <tr>\n",
       "      <th>124</th>\n",
       "      <td>2021-04-30</td>\n",
       "      <td>805673</td>\n",
       "      <td>668953</td>\n",
       "      <td>136720</td>\n",
       "      <td>22138531</td>\n",
       "      <td>1770485</td>\n",
       "      <td>5875981</td>\n",
       "      <td>23226921</td>\n",
       "      <td>6564712</td>\n",
       "    </tr>\n",
       "    <tr>\n",
       "      <th>54</th>\n",
       "      <td>2021-02-19</td>\n",
       "      <td>159075</td>\n",
       "      <td>103152</td>\n",
       "      <td>55923</td>\n",
       "      <td>4670119</td>\n",
       "      <td>141187</td>\n",
       "      <td>168293</td>\n",
       "      <td>3221238</td>\n",
       "      <td>1758460</td>\n",
       "    </tr>\n",
       "    <tr>\n",
       "      <th>305</th>\n",
       "      <td>2021-10-28</td>\n",
       "      <td>246462</td>\n",
       "      <td>50488</td>\n",
       "      <td>81853</td>\n",
       "      <td>85957670</td>\n",
       "      <td>9782447</td>\n",
       "      <td>12704273</td>\n",
       "      <td>57685076</td>\n",
       "      <td>55408770</td>\n",
       "    </tr>\n",
       "    <tr>\n",
       "      <th>91</th>\n",
       "      <td>2021-03-28</td>\n",
       "      <td>196764</td>\n",
       "      <td>143426</td>\n",
       "      <td>53338</td>\n",
       "      <td>9800190</td>\n",
       "      <td>651879</td>\n",
       "      <td>2792552</td>\n",
       "      <td>9275578</td>\n",
       "      <td>3969153</td>\n",
       "    </tr>\n",
       "    <tr>\n",
       "      <th>289</th>\n",
       "      <td>2021-10-12</td>\n",
       "      <td>178794</td>\n",
       "      <td>49992</td>\n",
       "      <td>77401</td>\n",
       "      <td>83748225</td>\n",
       "      <td>9714297</td>\n",
       "      <td>12699750</td>\n",
       "      <td>57104794</td>\n",
       "      <td>54441416</td>\n",
       "    </tr>\n",
       "    <tr>\n",
       "      <th>70</th>\n",
       "      <td>2021-03-07</td>\n",
       "      <td>147883</td>\n",
       "      <td>114359</td>\n",
       "      <td>33524</td>\n",
       "      <td>6552062</td>\n",
       "      <td>275602</td>\n",
       "      <td>1050992</td>\n",
       "      <td>5300155</td>\n",
       "      <td>2578602</td>\n",
       "    </tr>\n",
       "    <tr>\n",
       "      <th>11</th>\n",
       "      <td>2021-01-07</td>\n",
       "      <td>54777</td>\n",
       "      <td>54757</td>\n",
       "      <td>20</td>\n",
       "      <td>520213</td>\n",
       "      <td>37</td>\n",
       "      <td>9</td>\n",
       "      <td>519045</td>\n",
       "      <td>1250</td>\n",
       "    </tr>\n",
       "    <tr>\n",
       "      <th>298</th>\n",
       "      <td>2021-10-21</td>\n",
       "      <td>205395</td>\n",
       "      <td>49646</td>\n",
       "      <td>80450</td>\n",
       "      <td>84993021</td>\n",
       "      <td>9752683</td>\n",
       "      <td>12701353</td>\n",
       "      <td>57453999</td>\n",
       "      <td>55024275</td>\n",
       "    </tr>\n",
       "    <tr>\n",
       "      <th>130</th>\n",
       "      <td>2021-05-06</td>\n",
       "      <td>992951</td>\n",
       "      <td>772910</td>\n",
       "      <td>220037</td>\n",
       "      <td>25080587</td>\n",
       "      <td>2155297</td>\n",
       "      <td>6571981</td>\n",
       "      <td>26406020</td>\n",
       "      <td>7445256</td>\n",
       "    </tr>\n",
       "  </tbody>\n",
       "</table>\n",
       "</div>"
      ],
      "text/plain": [
       "           date   doses  doses_first  doses_second  pfizer_cumul  \\\n",
       "76   2021-03-13  241271       190878         50393       7403134   \n",
       "124  2021-04-30  805673       668953        136720      22138531   \n",
       "54   2021-02-19  159075       103152         55923       4670119   \n",
       "305  2021-10-28  246462        50488         81853      85957670   \n",
       "91   2021-03-28  196764       143426         53338       9800190   \n",
       "289  2021-10-12  178794        49992         77401      83748225   \n",
       "70   2021-03-07  147883       114359         33524       6552062   \n",
       "11   2021-01-07   54777        54757            20        520213   \n",
       "298  2021-10-21  205395        49646         80450      84993021   \n",
       "130  2021-05-06  992951       772910        220037      25080587   \n",
       "\n",
       "     moderna_cumul  astrazeneca_cumul  persons_first_cumul  persons_full_cumul  \n",
       "76          352352            1758508              6578719             2935374  \n",
       "124        1770485            5875981             23226921             6564712  \n",
       "54          141187             168293              3221238             1758460  \n",
       "305        9782447           12704273             57685076            55408770  \n",
       "91          651879            2792552              9275578             3969153  \n",
       "289        9714297           12699750             57104794            54441416  \n",
       "70          275602            1050992              5300155             2578602  \n",
       "11              37                  9               519045                1250  \n",
       "298        9752683           12701353             57453999            55024275  \n",
       "130        2155297            6571981             26406020             7445256  "
      ]
     },
     "metadata": {},
     "output_type": "display_data"
    },
    {
     "name": "stdout",
     "output_type": "stream",
     "text": [
      "\n"
     ]
    },
    {
     "data": {
      "text/html": [
       "<div>\n",
       "<style scoped>\n",
       "    .dataframe tbody tr th:only-of-type {\n",
       "        vertical-align: middle;\n",
       "    }\n",
       "\n",
       "    .dataframe tbody tr th {\n",
       "        vertical-align: top;\n",
       "    }\n",
       "\n",
       "    .dataframe thead th {\n",
       "        text-align: right;\n",
       "    }\n",
       "</style>\n",
       "<table border=\"1\" class=\"dataframe\">\n",
       "  <thead>\n",
       "    <tr style=\"text-align: right;\">\n",
       "      <th></th>\n",
       "      <th>state</th>\n",
       "      <th>gender</th>\n",
       "      <th>age_group</th>\n",
       "      <th>population</th>\n",
       "    </tr>\n",
       "  </thead>\n",
       "  <tbody>\n",
       "    <tr>\n",
       "      <th>137</th>\n",
       "      <td>Saarland</td>\n",
       "      <td>female</td>\n",
       "      <td>80-99</td>\n",
       "      <td>45781</td>\n",
       "    </tr>\n",
       "    <tr>\n",
       "      <th>129</th>\n",
       "      <td>Rheinland-Pfalz</td>\n",
       "      <td>male</td>\n",
       "      <td>35-59</td>\n",
       "      <td>716037</td>\n",
       "    </tr>\n",
       "    <tr>\n",
       "      <th>60</th>\n",
       "      <td>Hamburg</td>\n",
       "      <td>female</td>\n",
       "      <td>00-04</td>\n",
       "      <td>48335</td>\n",
       "    </tr>\n",
       "    <tr>\n",
       "      <th>12</th>\n",
       "      <td>Bayern</td>\n",
       "      <td>female</td>\n",
       "      <td>00-04</td>\n",
       "      <td>306378</td>\n",
       "    </tr>\n",
       "    <tr>\n",
       "      <th>46</th>\n",
       "      <td>Brandenburg</td>\n",
       "      <td>male</td>\n",
       "      <td>60-79</td>\n",
       "      <td>299105</td>\n",
       "    </tr>\n",
       "    <tr>\n",
       "      <th>166</th>\n",
       "      <td>Sachsen-Anhalt</td>\n",
       "      <td>male</td>\n",
       "      <td>60-79</td>\n",
       "      <td>273670</td>\n",
       "    </tr>\n",
       "    <tr>\n",
       "      <th>171</th>\n",
       "      <td>Schleswig-Holstein</td>\n",
       "      <td>female</td>\n",
       "      <td>35-59</td>\n",
       "      <td>517809</td>\n",
       "    </tr>\n",
       "    <tr>\n",
       "      <th>31</th>\n",
       "      <td>Berlin</td>\n",
       "      <td>male</td>\n",
       "      <td>05-14</td>\n",
       "      <td>164059</td>\n",
       "    </tr>\n",
       "    <tr>\n",
       "      <th>57</th>\n",
       "      <td>Bremen</td>\n",
       "      <td>male</td>\n",
       "      <td>35-59</td>\n",
       "      <td>116674</td>\n",
       "    </tr>\n",
       "    <tr>\n",
       "      <th>145</th>\n",
       "      <td>Sachsen</td>\n",
       "      <td>female</td>\n",
       "      <td>05-14</td>\n",
       "      <td>172239</td>\n",
       "    </tr>\n",
       "  </tbody>\n",
       "</table>\n",
       "</div>"
      ],
      "text/plain": [
       "                  state  gender age_group  population\n",
       "137            Saarland  female     80-99       45781\n",
       "129     Rheinland-Pfalz    male     35-59      716037\n",
       "60              Hamburg  female     00-04       48335\n",
       "12               Bayern  female     00-04      306378\n",
       "46          Brandenburg    male     60-79      299105\n",
       "166      Sachsen-Anhalt    male     60-79      273670\n",
       "171  Schleswig-Holstein  female     35-59      517809\n",
       "31               Berlin    male     05-14      164059\n",
       "57               Bremen    male     35-59      116674\n",
       "145             Sachsen  female     05-14      172239"
      ]
     },
     "metadata": {},
     "output_type": "display_data"
    },
    {
     "name": "stdout",
     "output_type": "stream",
     "text": [
      "\n"
     ]
    }
   ],
   "source": [
    "# Opening the data files, taking into consideration the separator\n",
    "covid = pd.read_csv('/kaggle/input/covid19-tracking-germany/covid_de.csv')\n",
    "vaccine = pd.read_csv('/kaggle/input/covid19-tracking-germany/covid_de_vaccines.csv')\n",
    "demographics = pd.read_csv('/kaggle/input/covid19-tracking-germany/demographics_de.csv')\n",
    "\n",
    "# We print informations about the dataset to examine\n",
    "print('')\n",
    "print('------------------------------------------ Informations About the Datasets ------------------------------------------')\n",
    "print('')\n",
    "display (covid.info())\n",
    "print('')\n",
    "display (vaccine.info())\n",
    "print('')\n",
    "display (demographics.info())\n",
    "print('')\n",
    "\n",
    "# Print a few lines of the datasets to examine data\n",
    "print('----------------------------------------------- Samples of the datasets ---------------------------------------------')\n",
    "display(covid.sample(10))\n",
    "print('')\n",
    "display(vaccine.sample(10))\n",
    "print('')\n",
    "display(demographics.sample(10))\n",
    "print('')"
   ]
  },
  {
   "cell_type": "markdown",
   "id": "16c8a716",
   "metadata": {
    "papermill": {
     "duration": 0.026011,
     "end_time": "2021-11-17T12:23:36.742550",
     "exception": false,
     "start_time": "2021-11-17T12:23:36.716539",
     "status": "completed"
    },
    "tags": []
   },
   "source": [
    "<b>Observations :</b>  \n",
    "\n",
    "We have imported the three datasets we will use for the study and named them **covid**, **vaccine** and **demographics**. From the first look at the datasets and their informations, we observe the following :  \n",
    "\n",
    "For the **`covid`** dataset :  \n",
    "- The dataset consists of 1.138.488 logs, and 8 columns;  \n",
    "- 3 Numerical columns : 'cases', 'deaths', and 'recovered';\n",
    "- 1 Timestamp column : 'date';\n",
    "- 4 Categorical columns : 'state', 'county', 'gender' and 'age_group'.\n",
    "\n",
    "For the **`vaccine`** datatset :\n",
    "- The dataset consists of 314 rows and 9 columns;\n",
    "- 1 Timestamp column : 'date';\n",
    "- 8 Numerical columns : the remaining columns.  \n",
    "\n",
    "For the **`demographics`** dataset :  \n",
    "- The dataset consists of 192 logs, and 4 columns;  \n",
    "- 1 Numerical column : 'population';\n",
    "- 3 Categorical columns : 'state', 'gender' and 'age_group'.\n",
    "\n",
    "\n",
    "The dataset informations allow us to see the data types, which we can already state that they are not correctly assigned. In the next steps, we will address the data types in more detail.\n",
    "</div>"
   ]
  },
  {
   "cell_type": "markdown",
   "id": "4b3420bf",
   "metadata": {
    "papermill": {
     "duration": 0.024918,
     "end_time": "2021-11-17T12:23:36.792949",
     "exception": false,
     "start_time": "2021-11-17T12:23:36.768031",
     "status": "completed"
    },
    "tags": []
   },
   "source": [
    "### 1.2. Checking Anomalies in Data<a name=\"12\"></a>"
   ]
  },
  {
   "cell_type": "markdown",
   "id": "b5061b73",
   "metadata": {
    "papermill": {
     "duration": 0.025873,
     "end_time": "2021-11-17T12:23:36.844785",
     "exception": false,
     "start_time": "2021-11-17T12:23:36.818912",
     "status": "completed"
    },
    "tags": []
   },
   "source": [
    "#### 1.2.1. Missing Values<a name=\"121\"></a>"
   ]
  },
  {
   "cell_type": "markdown",
   "id": "ba052e06",
   "metadata": {
    "papermill": {
     "duration": 0.025349,
     "end_time": "2021-11-17T12:23:36.895529",
     "exception": false,
     "start_time": "2021-11-17T12:23:36.870180",
     "status": "completed"
    },
    "tags": []
   },
   "source": [
    "From the datasets information above, we can already see that there are instances of missing data in **`covid`** in two columns : 'age_group' and 'gender'. But **how much data is exactly missing?** Let's calculate the exact amount of missing values in thisdataset and display a sample of the rows with missing values."
   ]
  },
  {
   "cell_type": "code",
   "execution_count": 3,
   "id": "1ac950a4",
   "metadata": {
    "execution": {
     "iopub.execute_input": "2021-11-17T12:23:36.953068Z",
     "iopub.status.busy": "2021-11-17T12:23:36.949480Z",
     "iopub.status.idle": "2021-11-17T12:23:37.628078Z",
     "shell.execute_reply": "2021-11-17T12:23:37.627420Z",
     "shell.execute_reply.started": "2021-11-11T16:41:43.110436Z"
    },
    "papermill": {
     "duration": 0.707318,
     "end_time": "2021-11-17T12:23:37.628232",
     "exception": false,
     "start_time": "2021-11-17T12:23:36.920914",
     "status": "completed"
    },
    "tags": []
   },
   "outputs": [
    {
     "name": "stdout",
     "output_type": "stream",
     "text": [
      "----------------- Missing Values Per Column ------------------\n",
      "\n"
     ]
    },
    {
     "data": {
      "text/plain": [
       "state            0\n",
       "county           0\n",
       "age_group     2422\n",
       "gender       20090\n",
       "date             0\n",
       "cases            0\n",
       "deaths           0\n",
       "recovered        0\n",
       "dtype: int64"
      ]
     },
     "metadata": {},
     "output_type": "display_data"
    },
    {
     "name": "stdout",
     "output_type": "stream",
     "text": [
      "--------------------------------------------------------------\n",
      "\n",
      "1.91% of rows in the covid dataset are missing data.\n",
      "\n",
      "--------------------------------------------------------------\n"
     ]
    },
    {
     "data": {
      "text/html": [
       "<div>\n",
       "<style scoped>\n",
       "    .dataframe tbody tr th:only-of-type {\n",
       "        vertical-align: middle;\n",
       "    }\n",
       "\n",
       "    .dataframe tbody tr th {\n",
       "        vertical-align: top;\n",
       "    }\n",
       "\n",
       "    .dataframe thead th {\n",
       "        text-align: right;\n",
       "    }\n",
       "</style>\n",
       "<table border=\"1\" class=\"dataframe\">\n",
       "  <thead>\n",
       "    <tr style=\"text-align: right;\">\n",
       "      <th></th>\n",
       "      <th>state</th>\n",
       "      <th>county</th>\n",
       "      <th>age_group</th>\n",
       "      <th>gender</th>\n",
       "      <th>date</th>\n",
       "      <th>cases</th>\n",
       "      <th>deaths</th>\n",
       "      <th>recovered</th>\n",
       "    </tr>\n",
       "  </thead>\n",
       "  <tbody>\n",
       "    <tr>\n",
       "      <th>716</th>\n",
       "      <td>Baden-Wuerttemberg</td>\n",
       "      <td>LK Alb-Donau-Kreis</td>\n",
       "      <td>05-14</td>\n",
       "      <td>NaN</td>\n",
       "      <td>2020-10-30</td>\n",
       "      <td>1</td>\n",
       "      <td>0</td>\n",
       "      <td>1</td>\n",
       "    </tr>\n",
       "    <tr>\n",
       "      <th>717</th>\n",
       "      <td>Baden-Wuerttemberg</td>\n",
       "      <td>LK Alb-Donau-Kreis</td>\n",
       "      <td>05-14</td>\n",
       "      <td>NaN</td>\n",
       "      <td>2020-11-19</td>\n",
       "      <td>1</td>\n",
       "      <td>0</td>\n",
       "      <td>1</td>\n",
       "    </tr>\n",
       "    <tr>\n",
       "      <th>718</th>\n",
       "      <td>Baden-Wuerttemberg</td>\n",
       "      <td>LK Alb-Donau-Kreis</td>\n",
       "      <td>05-14</td>\n",
       "      <td>NaN</td>\n",
       "      <td>2021-06-14</td>\n",
       "      <td>1</td>\n",
       "      <td>0</td>\n",
       "      <td>1</td>\n",
       "    </tr>\n",
       "    <tr>\n",
       "      <th>719</th>\n",
       "      <td>Baden-Wuerttemberg</td>\n",
       "      <td>LK Alb-Donau-Kreis</td>\n",
       "      <td>05-14</td>\n",
       "      <td>NaN</td>\n",
       "      <td>2021-11-03</td>\n",
       "      <td>1</td>\n",
       "      <td>0</td>\n",
       "      <td>1</td>\n",
       "    </tr>\n",
       "    <tr>\n",
       "      <th>720</th>\n",
       "      <td>Baden-Wuerttemberg</td>\n",
       "      <td>LK Alb-Donau-Kreis</td>\n",
       "      <td>05-14</td>\n",
       "      <td>NaN</td>\n",
       "      <td>2021-11-08</td>\n",
       "      <td>1</td>\n",
       "      <td>0</td>\n",
       "      <td>0</td>\n",
       "    </tr>\n",
       "  </tbody>\n",
       "</table>\n",
       "</div>"
      ],
      "text/plain": [
       "                  state              county age_group gender        date  \\\n",
       "716  Baden-Wuerttemberg  LK Alb-Donau-Kreis     05-14    NaN  2020-10-30   \n",
       "717  Baden-Wuerttemberg  LK Alb-Donau-Kreis     05-14    NaN  2020-11-19   \n",
       "718  Baden-Wuerttemberg  LK Alb-Donau-Kreis     05-14    NaN  2021-06-14   \n",
       "719  Baden-Wuerttemberg  LK Alb-Donau-Kreis     05-14    NaN  2021-11-03   \n",
       "720  Baden-Wuerttemberg  LK Alb-Donau-Kreis     05-14    NaN  2021-11-08   \n",
       "\n",
       "     cases  deaths  recovered  \n",
       "716      1       0          1  \n",
       "717      1       0          1  \n",
       "718      1       0          1  \n",
       "719      1       0          1  \n",
       "720      1       0          0  "
      ]
     },
     "metadata": {},
     "output_type": "display_data"
    },
    {
     "data": {
      "text/html": [
       "<div>\n",
       "<style scoped>\n",
       "    .dataframe tbody tr th:only-of-type {\n",
       "        vertical-align: middle;\n",
       "    }\n",
       "\n",
       "    .dataframe tbody tr th {\n",
       "        vertical-align: top;\n",
       "    }\n",
       "\n",
       "    .dataframe thead th {\n",
       "        text-align: right;\n",
       "    }\n",
       "</style>\n",
       "<table border=\"1\" class=\"dataframe\">\n",
       "  <thead>\n",
       "    <tr style=\"text-align: right;\">\n",
       "      <th></th>\n",
       "      <th>state</th>\n",
       "      <th>county</th>\n",
       "      <th>age_group</th>\n",
       "      <th>gender</th>\n",
       "      <th>date</th>\n",
       "      <th>cases</th>\n",
       "      <th>deaths</th>\n",
       "      <th>recovered</th>\n",
       "    </tr>\n",
       "  </thead>\n",
       "  <tbody>\n",
       "    <tr>\n",
       "      <th>3284</th>\n",
       "      <td>Baden-Wuerttemberg</td>\n",
       "      <td>LK Alb-Donau-Kreis</td>\n",
       "      <td>NaN</td>\n",
       "      <td>F</td>\n",
       "      <td>2020-10-26</td>\n",
       "      <td>1</td>\n",
       "      <td>0</td>\n",
       "      <td>1</td>\n",
       "    </tr>\n",
       "    <tr>\n",
       "      <th>3285</th>\n",
       "      <td>Baden-Wuerttemberg</td>\n",
       "      <td>LK Alb-Donau-Kreis</td>\n",
       "      <td>NaN</td>\n",
       "      <td>F</td>\n",
       "      <td>2020-12-24</td>\n",
       "      <td>1</td>\n",
       "      <td>0</td>\n",
       "      <td>1</td>\n",
       "    </tr>\n",
       "    <tr>\n",
       "      <th>3286</th>\n",
       "      <td>Baden-Wuerttemberg</td>\n",
       "      <td>LK Alb-Donau-Kreis</td>\n",
       "      <td>NaN</td>\n",
       "      <td>M</td>\n",
       "      <td>2021-11-13</td>\n",
       "      <td>1</td>\n",
       "      <td>0</td>\n",
       "      <td>0</td>\n",
       "    </tr>\n",
       "    <tr>\n",
       "      <th>6508</th>\n",
       "      <td>Baden-Wuerttemberg</td>\n",
       "      <td>LK Biberach</td>\n",
       "      <td>NaN</td>\n",
       "      <td>F</td>\n",
       "      <td>2021-11-15</td>\n",
       "      <td>1</td>\n",
       "      <td>0</td>\n",
       "      <td>0</td>\n",
       "    </tr>\n",
       "    <tr>\n",
       "      <th>10590</th>\n",
       "      <td>Baden-Wuerttemberg</td>\n",
       "      <td>LK Boeblingen</td>\n",
       "      <td>NaN</td>\n",
       "      <td>F</td>\n",
       "      <td>2021-11-12</td>\n",
       "      <td>2</td>\n",
       "      <td>0</td>\n",
       "      <td>0</td>\n",
       "    </tr>\n",
       "  </tbody>\n",
       "</table>\n",
       "</div>"
      ],
      "text/plain": [
       "                    state              county age_group gender        date  \\\n",
       "3284   Baden-Wuerttemberg  LK Alb-Donau-Kreis       NaN      F  2020-10-26   \n",
       "3285   Baden-Wuerttemberg  LK Alb-Donau-Kreis       NaN      F  2020-12-24   \n",
       "3286   Baden-Wuerttemberg  LK Alb-Donau-Kreis       NaN      M  2021-11-13   \n",
       "6508   Baden-Wuerttemberg         LK Biberach       NaN      F  2021-11-15   \n",
       "10590  Baden-Wuerttemberg       LK Boeblingen       NaN      F  2021-11-12   \n",
       "\n",
       "       cases  deaths  recovered  \n",
       "3284       1       0          1  \n",
       "3285       1       0          1  \n",
       "3286       1       0          0  \n",
       "6508       1       0          0  \n",
       "10590      2       0          0  "
      ]
     },
     "metadata": {},
     "output_type": "display_data"
    }
   ],
   "source": [
    "# Missing data count\n",
    "missing_values = covid.isnull().sum()\n",
    "\n",
    "# Display\n",
    "print('----------------- Missing Values Per Column ------------------')\n",
    "print('')\n",
    "display(missing_values)\n",
    "print('--------------------------------------------------------------')\n",
    "print('')\n",
    "print('{:.2%} of rows in the covid dataset are missing data.'.format(covid.isnull().sum().sum()/len(covid)))\n",
    "print('')\n",
    "print('--------------------------------------------------------------')\n",
    "\n",
    "# Sample of rows with missing values from covid\n",
    "display(covid[covid['gender'].isnull()].head(5))\n",
    "display(covid[covid['age_group'].isnull()].head(5))"
   ]
  },
  {
   "cell_type": "markdown",
   "id": "a2049aab",
   "metadata": {
    "papermill": {
     "duration": 0.027266,
     "end_time": "2021-11-17T12:23:37.683451",
     "exception": false,
     "start_time": "2021-11-17T12:23:37.656185",
     "status": "completed"
    },
    "tags": []
   },
   "source": [
    "<b>Observations :</b>   \n",
    "\n",
    "We notice above that the number of rows missing data in the **`age_group`** column is very small : **2217 rows, which makes for 0,19% of the dataset rows**. This means that we can simply drop these rows, as their effect on the study redults will be minimal.\n",
    "\n",
    "On the other hand, the number is bigger for the **`gender`** column, which is missing 18.672 rows. Before we decide how to treat these rows, let's take a look at the rows with missing values. We will display, as an example, the data for the state of 'Baden-Wuerttemberg', the county of 'LK Alb-Donau-Kreis', for the age groups '05-14' and '15-34', on the following dates : '2020-10-30', '2020-11-19' and '2020-06-14'.\n"
   ]
  },
  {
   "cell_type": "code",
   "execution_count": 4,
   "id": "f05b6fb0",
   "metadata": {
    "execution": {
     "iopub.execute_input": "2021-11-17T12:23:37.743861Z",
     "iopub.status.busy": "2021-11-17T12:23:37.742964Z",
     "iopub.status.idle": "2021-11-17T12:23:37.894731Z",
     "shell.execute_reply": "2021-11-17T12:23:37.894117Z",
     "shell.execute_reply.started": "2021-11-11T16:41:44.670967Z"
    },
    "papermill": {
     "duration": 0.183757,
     "end_time": "2021-11-17T12:23:37.894866",
     "exception": false,
     "start_time": "2021-11-17T12:23:37.711109",
     "status": "completed"
    },
    "tags": []
   },
   "outputs": [
    {
     "data": {
      "text/html": [
       "<div>\n",
       "<style scoped>\n",
       "    .dataframe tbody tr th:only-of-type {\n",
       "        vertical-align: middle;\n",
       "    }\n",
       "\n",
       "    .dataframe tbody tr th {\n",
       "        vertical-align: top;\n",
       "    }\n",
       "\n",
       "    .dataframe thead th {\n",
       "        text-align: right;\n",
       "    }\n",
       "</style>\n",
       "<table border=\"1\" class=\"dataframe\">\n",
       "  <thead>\n",
       "    <tr style=\"text-align: right;\">\n",
       "      <th></th>\n",
       "      <th>state</th>\n",
       "      <th>county</th>\n",
       "      <th>age_group</th>\n",
       "      <th>gender</th>\n",
       "      <th>date</th>\n",
       "      <th>cases</th>\n",
       "      <th>deaths</th>\n",
       "      <th>recovered</th>\n",
       "    </tr>\n",
       "  </thead>\n",
       "  <tbody>\n",
       "    <tr>\n",
       "      <th>264</th>\n",
       "      <td>Baden-Wuerttemberg</td>\n",
       "      <td>LK Alb-Donau-Kreis</td>\n",
       "      <td>05-14</td>\n",
       "      <td>F</td>\n",
       "      <td>2020-10-30</td>\n",
       "      <td>2</td>\n",
       "      <td>0</td>\n",
       "      <td>2</td>\n",
       "    </tr>\n",
       "    <tr>\n",
       "      <th>504</th>\n",
       "      <td>Baden-Wuerttemberg</td>\n",
       "      <td>LK Alb-Donau-Kreis</td>\n",
       "      <td>05-14</td>\n",
       "      <td>M</td>\n",
       "      <td>2020-10-30</td>\n",
       "      <td>1</td>\n",
       "      <td>0</td>\n",
       "      <td>1</td>\n",
       "    </tr>\n",
       "    <tr>\n",
       "      <th>716</th>\n",
       "      <td>Baden-Wuerttemberg</td>\n",
       "      <td>LK Alb-Donau-Kreis</td>\n",
       "      <td>05-14</td>\n",
       "      <td>NaN</td>\n",
       "      <td>2020-10-30</td>\n",
       "      <td>1</td>\n",
       "      <td>0</td>\n",
       "      <td>1</td>\n",
       "    </tr>\n",
       "    <tr>\n",
       "      <th>817</th>\n",
       "      <td>Baden-Wuerttemberg</td>\n",
       "      <td>LK Alb-Donau-Kreis</td>\n",
       "      <td>15-34</td>\n",
       "      <td>F</td>\n",
       "      <td>2020-10-30</td>\n",
       "      <td>8</td>\n",
       "      <td>0</td>\n",
       "      <td>8</td>\n",
       "    </tr>\n",
       "    <tr>\n",
       "      <th>1225</th>\n",
       "      <td>Baden-Wuerttemberg</td>\n",
       "      <td>LK Alb-Donau-Kreis</td>\n",
       "      <td>15-34</td>\n",
       "      <td>M</td>\n",
       "      <td>2020-10-30</td>\n",
       "      <td>9</td>\n",
       "      <td>0</td>\n",
       "      <td>9</td>\n",
       "    </tr>\n",
       "    <tr>\n",
       "      <th>1544</th>\n",
       "      <td>Baden-Wuerttemberg</td>\n",
       "      <td>LK Alb-Donau-Kreis</td>\n",
       "      <td>15-34</td>\n",
       "      <td>NaN</td>\n",
       "      <td>2020-10-30</td>\n",
       "      <td>2</td>\n",
       "      <td>0</td>\n",
       "      <td>2</td>\n",
       "    </tr>\n",
       "    <tr>\n",
       "      <th>276</th>\n",
       "      <td>Baden-Wuerttemberg</td>\n",
       "      <td>LK Alb-Donau-Kreis</td>\n",
       "      <td>05-14</td>\n",
       "      <td>F</td>\n",
       "      <td>2020-11-19</td>\n",
       "      <td>4</td>\n",
       "      <td>0</td>\n",
       "      <td>4</td>\n",
       "    </tr>\n",
       "    <tr>\n",
       "      <th>518</th>\n",
       "      <td>Baden-Wuerttemberg</td>\n",
       "      <td>LK Alb-Donau-Kreis</td>\n",
       "      <td>05-14</td>\n",
       "      <td>M</td>\n",
       "      <td>2020-11-19</td>\n",
       "      <td>2</td>\n",
       "      <td>0</td>\n",
       "      <td>2</td>\n",
       "    </tr>\n",
       "    <tr>\n",
       "      <th>717</th>\n",
       "      <td>Baden-Wuerttemberg</td>\n",
       "      <td>LK Alb-Donau-Kreis</td>\n",
       "      <td>05-14</td>\n",
       "      <td>NaN</td>\n",
       "      <td>2020-11-19</td>\n",
       "      <td>1</td>\n",
       "      <td>0</td>\n",
       "      <td>1</td>\n",
       "    </tr>\n",
       "    <tr>\n",
       "      <th>835</th>\n",
       "      <td>Baden-Wuerttemberg</td>\n",
       "      <td>LK Alb-Donau-Kreis</td>\n",
       "      <td>15-34</td>\n",
       "      <td>F</td>\n",
       "      <td>2020-11-19</td>\n",
       "      <td>7</td>\n",
       "      <td>0</td>\n",
       "      <td>7</td>\n",
       "    </tr>\n",
       "    <tr>\n",
       "      <th>1245</th>\n",
       "      <td>Baden-Wuerttemberg</td>\n",
       "      <td>LK Alb-Donau-Kreis</td>\n",
       "      <td>15-34</td>\n",
       "      <td>M</td>\n",
       "      <td>2020-11-19</td>\n",
       "      <td>11</td>\n",
       "      <td>0</td>\n",
       "      <td>11</td>\n",
       "    </tr>\n",
       "  </tbody>\n",
       "</table>\n",
       "</div>"
      ],
      "text/plain": [
       "                   state              county age_group gender        date  \\\n",
       "264   Baden-Wuerttemberg  LK Alb-Donau-Kreis     05-14      F  2020-10-30   \n",
       "504   Baden-Wuerttemberg  LK Alb-Donau-Kreis     05-14      M  2020-10-30   \n",
       "716   Baden-Wuerttemberg  LK Alb-Donau-Kreis     05-14    NaN  2020-10-30   \n",
       "817   Baden-Wuerttemberg  LK Alb-Donau-Kreis     15-34      F  2020-10-30   \n",
       "1225  Baden-Wuerttemberg  LK Alb-Donau-Kreis     15-34      M  2020-10-30   \n",
       "1544  Baden-Wuerttemberg  LK Alb-Donau-Kreis     15-34    NaN  2020-10-30   \n",
       "276   Baden-Wuerttemberg  LK Alb-Donau-Kreis     05-14      F  2020-11-19   \n",
       "518   Baden-Wuerttemberg  LK Alb-Donau-Kreis     05-14      M  2020-11-19   \n",
       "717   Baden-Wuerttemberg  LK Alb-Donau-Kreis     05-14    NaN  2020-11-19   \n",
       "835   Baden-Wuerttemberg  LK Alb-Donau-Kreis     15-34      F  2020-11-19   \n",
       "1245  Baden-Wuerttemberg  LK Alb-Donau-Kreis     15-34      M  2020-11-19   \n",
       "\n",
       "      cases  deaths  recovered  \n",
       "264       2       0          2  \n",
       "504       1       0          1  \n",
       "716       1       0          1  \n",
       "817       8       0          8  \n",
       "1225      9       0          9  \n",
       "1544      2       0          2  \n",
       "276       4       0          4  \n",
       "518       2       0          2  \n",
       "717       1       0          1  \n",
       "835       7       0          7  \n",
       "1245     11       0         11  "
      ]
     },
     "execution_count": 4,
     "metadata": {},
     "output_type": "execute_result"
    }
   ],
   "source": [
    "# Creating data slice\n",
    "\n",
    "Slice = covid.query('state == \"Baden-Wuerttemberg\" and county == \"LK Alb-Donau-Kreis\" and age_group == [\"05-14\",\"15-34\"] and date == [\"2020-10-30\", \"2020-11-19\"]')\n",
    "Slice.sort_values(by = 'date')"
   ]
  },
  {
   "cell_type": "markdown",
   "id": "aa363939",
   "metadata": {
    "papermill": {
     "duration": 0.028881,
     "end_time": "2021-11-17T12:23:37.952215",
     "exception": false,
     "start_time": "2021-11-17T12:23:37.923334",
     "status": "completed"
    },
    "tags": []
   },
   "source": [
    "<b>Observations :</b>   \n",
    "\n",
    "This allows us to see that for all these instances, both genders are already present, and that the row with the missing value is either due to human error, where the doctors testing the patients for example did not note the gender of the patient, and in older gender slices, it can be due to the personal choice of the tested person to not reveal their gender, or to not identify as either of the binary gender values. \n",
    "\n",
    "**Therefore, we will assign the value 'U' to this category to indicate that their gender is unkown.**"
   ]
  },
  {
   "cell_type": "code",
   "execution_count": 5,
   "id": "4075feb2",
   "metadata": {
    "execution": {
     "iopub.execute_input": "2021-11-17T12:23:38.066247Z",
     "iopub.status.busy": "2021-11-17T12:23:38.065521Z",
     "iopub.status.idle": "2021-11-17T12:23:38.741610Z",
     "shell.execute_reply": "2021-11-17T12:23:38.742148Z",
     "shell.execute_reply.started": "2021-11-11T16:41:44.908332Z"
    },
    "papermill": {
     "duration": 0.762001,
     "end_time": "2021-11-17T12:23:38.742330",
     "exception": false,
     "start_time": "2021-11-17T12:23:37.980329",
     "status": "completed"
    },
    "tags": []
   },
   "outputs": [
    {
     "name": "stdout",
     "output_type": "stream",
     "text": [
      "<class 'pandas.core.frame.DataFrame'>\n",
      "Int64Index: 1174033 entries, 0 to 1176450\n",
      "Data columns (total 8 columns):\n",
      " #   Column     Non-Null Count    Dtype \n",
      "---  ------     --------------    ----- \n",
      " 0   state      1174033 non-null  object\n",
      " 1   county     1174033 non-null  object\n",
      " 2   age_group  1174033 non-null  object\n",
      " 3   gender     1174033 non-null  object\n",
      " 4   date       1174033 non-null  object\n",
      " 5   cases      1174033 non-null  int64 \n",
      " 6   deaths     1174033 non-null  int64 \n",
      " 7   recovered  1174033 non-null  int64 \n",
      "dtypes: int64(3), object(5)\n",
      "memory usage: 80.6+ MB\n"
     ]
    }
   ],
   "source": [
    "# Fillinf missing values in the gender column with the value 'U'\n",
    "covid['gender'] = covid['gender'].fillna('U')\n",
    "\n",
    "# Dropping the remaining missing values which are from the age group column\n",
    "covid = covid.dropna()\n",
    "\n",
    "# Infos on the dataset\n",
    "covid.info()"
   ]
  },
  {
   "cell_type": "markdown",
   "id": "4625d4b5",
   "metadata": {
    "papermill": {
     "duration": 0.029802,
     "end_time": "2021-11-17T12:23:38.801728",
     "exception": false,
     "start_time": "2021-11-17T12:23:38.771926",
     "status": "completed"
    },
    "tags": []
   },
   "source": [
    "#### 1.2.1. Duplicates<a name=\"122\"></a>"
   ]
  },
  {
   "cell_type": "markdown",
   "id": "6c30b229",
   "metadata": {
    "papermill": {
     "duration": 0.029237,
     "end_time": "2021-11-17T12:23:38.860813",
     "exception": false,
     "start_time": "2021-11-17T12:23:38.831576",
     "status": "completed"
    },
    "tags": []
   },
   "source": [
    "After having dropped the rows with the missing values, we are now left with 1.136.271 rows of data in the **`covid`** dataset, which along with the two other datasets needs to now be checked for duplicates."
   ]
  },
  {
   "cell_type": "code",
   "execution_count": 6,
   "id": "d2b39428",
   "metadata": {
    "execution": {
     "iopub.execute_input": "2021-11-17T12:23:38.928543Z",
     "iopub.status.busy": "2021-11-17T12:23:38.927851Z",
     "iopub.status.idle": "2021-11-17T12:23:39.465674Z",
     "shell.execute_reply": "2021-11-17T12:23:39.466598Z",
     "shell.execute_reply.started": "2021-11-11T16:41:46.429907Z"
    },
    "papermill": {
     "duration": 0.57419,
     "end_time": "2021-11-17T12:23:39.466895",
     "exception": false,
     "start_time": "2021-11-17T12:23:38.892705",
     "status": "completed"
    },
    "tags": []
   },
   "outputs": [
    {
     "name": "stdout",
     "output_type": "stream",
     "text": [
      "----------------------------------------------------------------------------------\n",
      "\n",
      "number of duplicated rows in \"covid\" : 0\n",
      "\n",
      "number of duplicated rows in \"vaccine\" : 0\n",
      "\n",
      "number of duplicated rows in \"demographics\" : 0\n",
      "\n",
      "----------------------------------------------------------------------------------\n"
     ]
    }
   ],
   "source": [
    "# Checking for duplicates\n",
    "print('----------------------------------------------------------------------------------')\n",
    "print('')\n",
    "print('number of duplicated rows in \"covid\" :', covid.duplicated().sum())\n",
    "print('')\n",
    "print('number of duplicated rows in \"vaccine\" :', vaccine.duplicated().sum())\n",
    "print('')\n",
    "print('number of duplicated rows in \"demographics\" :', demographics.duplicated().sum())\n",
    "print('')\n",
    "print('----------------------------------------------------------------------------------')"
   ]
  },
  {
   "cell_type": "markdown",
   "id": "2df9d583",
   "metadata": {
    "papermill": {
     "duration": 0.029648,
     "end_time": "2021-11-17T12:23:39.526575",
     "exception": false,
     "start_time": "2021-11-17T12:23:39.496927",
     "status": "completed"
    },
    "tags": []
   },
   "source": [
    "<b>Observations :</b>  \n",
    "\n",
    "**All three datasets have no duplicated rows**, which makes them ready for the next step."
   ]
  },
  {
   "cell_type": "markdown",
   "id": "f4076905",
   "metadata": {
    "papermill": {
     "duration": 0.0287,
     "end_time": "2021-11-17T12:23:39.584374",
     "exception": false,
     "start_time": "2021-11-17T12:23:39.555674",
     "status": "completed"
    },
    "tags": []
   },
   "source": [
    "### 1.3. Converting Data <a name=\"13\"></a>"
   ]
  },
  {
   "cell_type": "markdown",
   "id": "34481837",
   "metadata": {
    "papermill": {
     "duration": 0.09039,
     "end_time": "2021-11-17T12:23:39.705352",
     "exception": false,
     "start_time": "2021-11-17T12:23:39.614962",
     "status": "completed"
    },
    "tags": []
   },
   "source": [
    "As mentioned previously, we noticed that there are columns with wrong data types. In this step, we will convert the date columns into the right data type."
   ]
  },
  {
   "cell_type": "code",
   "execution_count": 7,
   "id": "581e1d3b",
   "metadata": {
    "execution": {
     "iopub.execute_input": "2021-11-17T12:23:39.793869Z",
     "iopub.status.busy": "2021-11-17T12:23:39.792547Z",
     "iopub.status.idle": "2021-11-17T12:23:40.316137Z",
     "shell.execute_reply": "2021-11-17T12:23:40.315571Z",
     "shell.execute_reply.started": "2021-11-11T16:41:47.087062Z"
    },
    "papermill": {
     "duration": 0.580766,
     "end_time": "2021-11-17T12:23:40.316349",
     "exception": false,
     "start_time": "2021-11-17T12:23:39.735583",
     "status": "completed"
    },
    "tags": []
   },
   "outputs": [
    {
     "name": "stdout",
     "output_type": "stream",
     "text": [
      " \n",
      "----------------------------------- Information About the Covis Dataset -----------------------------------\n",
      " \n",
      "<class 'pandas.core.frame.DataFrame'>\n",
      "Int64Index: 1174033 entries, 0 to 1176450\n",
      "Data columns (total 8 columns):\n",
      " #   Column     Non-Null Count    Dtype         \n",
      "---  ------     --------------    -----         \n",
      " 0   state      1174033 non-null  object        \n",
      " 1   county     1174033 non-null  object        \n",
      " 2   age_group  1174033 non-null  object        \n",
      " 3   gender     1174033 non-null  object        \n",
      " 4   date       1174033 non-null  datetime64[ns]\n",
      " 5   cases      1174033 non-null  int64         \n",
      " 6   deaths     1174033 non-null  int64         \n",
      " 7   recovered  1174033 non-null  int64         \n",
      "dtypes: datetime64[ns](1), int64(3), object(4)\n",
      "memory usage: 80.6+ MB\n"
     ]
    },
    {
     "data": {
      "text/plain": [
       "None"
      ]
     },
     "metadata": {},
     "output_type": "display_data"
    },
    {
     "name": "stdout",
     "output_type": "stream",
     "text": [
      "---------------------------------- Information About the Vaccine Dataset ----------------------------------\n",
      " \n",
      "<class 'pandas.core.frame.DataFrame'>\n",
      "RangeIndex: 324 entries, 0 to 323\n",
      "Data columns (total 9 columns):\n",
      " #   Column               Non-Null Count  Dtype         \n",
      "---  ------               --------------  -----         \n",
      " 0   date                 324 non-null    datetime64[ns]\n",
      " 1   doses                324 non-null    int64         \n",
      " 2   doses_first          324 non-null    int64         \n",
      " 3   doses_second         324 non-null    int64         \n",
      " 4   pfizer_cumul         324 non-null    int64         \n",
      " 5   moderna_cumul        324 non-null    int64         \n",
      " 6   astrazeneca_cumul    324 non-null    int64         \n",
      " 7   persons_first_cumul  324 non-null    int64         \n",
      " 8   persons_full_cumul   324 non-null    int64         \n",
      "dtypes: datetime64[ns](1), int64(8)\n",
      "memory usage: 22.9 KB\n"
     ]
    },
    {
     "data": {
      "text/plain": [
       "None"
      ]
     },
     "metadata": {},
     "output_type": "display_data"
    }
   ],
   "source": [
    "# Converting the 'date' columns\n",
    "covid['date'] = covid['date'].astype('datetime64[D]')\n",
    "vaccine['date'] = vaccine['date'].astype('datetime64[D]')\n",
    "\n",
    "# We print informations about the dataset to make sure the data types are updated\n",
    "print(' ')\n",
    "print('----------------------------------- Information About the Covis Dataset -----------------------------------')\n",
    "print(' ')\n",
    "display(covid.info())\n",
    "print('---------------------------------- Information About the Vaccine Dataset ----------------------------------')\n",
    "print(' ')\n",
    "display(vaccine.info())"
   ]
  },
  {
   "cell_type": "markdown",
   "id": "0730b5a9",
   "metadata": {
    "papermill": {
     "duration": 0.030579,
     "end_time": "2021-11-17T12:23:40.377968",
     "exception": false,
     "start_time": "2021-11-17T12:23:40.347389",
     "status": "completed"
    },
    "tags": []
   },
   "source": [
    "### 1.4. Conclusion <a name=\"14\"></a>"
   ]
  },
  {
   "cell_type": "markdown",
   "id": "6e5aa1ea",
   "metadata": {
    "papermill": {
     "duration": 0.030332,
     "end_time": "2021-11-17T12:23:40.439077",
     "exception": false,
     "start_time": "2021-11-17T12:23:40.408745",
     "status": "completed"
    },
    "tags": []
   },
   "source": [
    "So far we have treated the missing data, where **we removed 2217 rows of data, which was about 0.19% of the entirety of the covid dataset**. We have found no duplicates in all three datasets. \n",
    "\n",
    "**We have also converted the dates to the proper format, which makes our datatsets now ready for the next step.**"
   ]
  },
  {
   "cell_type": "markdown",
   "id": "23c0a60c",
   "metadata": {
    "papermill": {
     "duration": 0.030126,
     "end_time": "2021-11-17T12:23:40.499941",
     "exception": false,
     "start_time": "2021-11-17T12:23:40.469815",
     "status": "completed"
    },
    "tags": []
   },
   "source": [
    "## 2. Exploratory Data Analysis<a name=\"2\"></a>\n"
   ]
  },
  {
   "cell_type": "markdown",
   "id": "88d84fc3",
   "metadata": {
    "papermill": {
     "duration": 0.030043,
     "end_time": "2021-11-17T12:23:40.560868",
     "exception": false,
     "start_time": "2021-11-17T12:23:40.530825",
     "status": "completed"
    },
    "tags": []
   },
   "source": [
    "To start the exploratory data analysis, we will retreive some numerical informations from the datasets."
   ]
  },
  {
   "cell_type": "markdown",
   "id": "0005b372",
   "metadata": {
    "papermill": {
     "duration": 0.030461,
     "end_time": "2021-11-17T12:23:40.621663",
     "exception": false,
     "start_time": "2021-11-17T12:23:40.591202",
     "status": "completed"
    },
    "tags": []
   },
   "source": [
    "### 2.1. Data Description<a name=\"21\"></a>"
   ]
  },
  {
   "cell_type": "markdown",
   "id": "41727cc7",
   "metadata": {
    "papermill": {
     "duration": 0.038217,
     "end_time": "2021-11-17T12:23:40.692760",
     "exception": false,
     "start_time": "2021-11-17T12:23:40.654543",
     "status": "completed"
    },
    "tags": []
   },
   "source": [
    "Let's take a closer look at the data we already have, by making some simple calculations."
   ]
  },
  {
   "cell_type": "code",
   "execution_count": 8,
   "id": "cd863132",
   "metadata": {
    "execution": {
     "iopub.execute_input": "2021-11-17T12:23:40.767093Z",
     "iopub.status.busy": "2021-11-17T12:23:40.766289Z",
     "iopub.status.idle": "2021-11-17T12:23:40.835131Z",
     "shell.execute_reply": "2021-11-17T12:23:40.835647Z",
     "shell.execute_reply.started": "2021-11-11T16:41:47.994288Z"
    },
    "papermill": {
     "duration": 0.112187,
     "end_time": "2021-11-17T12:23:40.835823",
     "exception": false,
     "start_time": "2021-11-17T12:23:40.723636",
     "status": "completed"
    },
    "tags": []
   },
   "outputs": [
    {
     "name": "stdout",
     "output_type": "stream",
     "text": [
      "------------------------------------------- Dataset Descriptions -------------------------------------------\n"
     ]
    },
    {
     "data": {
      "text/html": [
       "<div>\n",
       "<style scoped>\n",
       "    .dataframe tbody tr th:only-of-type {\n",
       "        vertical-align: middle;\n",
       "    }\n",
       "\n",
       "    .dataframe tbody tr th {\n",
       "        vertical-align: top;\n",
       "    }\n",
       "\n",
       "    .dataframe thead th {\n",
       "        text-align: right;\n",
       "    }\n",
       "</style>\n",
       "<table border=\"1\" class=\"dataframe\">\n",
       "  <thead>\n",
       "    <tr style=\"text-align: right;\">\n",
       "      <th></th>\n",
       "      <th>doses</th>\n",
       "      <th>doses_first</th>\n",
       "      <th>doses_second</th>\n",
       "      <th>pfizer_cumul</th>\n",
       "      <th>moderna_cumul</th>\n",
       "      <th>astrazeneca_cumul</th>\n",
       "      <th>persons_first_cumul</th>\n",
       "      <th>persons_full_cumul</th>\n",
       "    </tr>\n",
       "  </thead>\n",
       "  <tbody>\n",
       "    <tr>\n",
       "      <th>count</th>\n",
       "      <td>324.00</td>\n",
       "      <td>324.00</td>\n",
       "      <td>324.00</td>\n",
       "      <td>324.00</td>\n",
       "      <td>324.00</td>\n",
       "      <td>324.00</td>\n",
       "      <td>324.00</td>\n",
       "      <td>324.00</td>\n",
       "    </tr>\n",
       "    <tr>\n",
       "      <th>mean</th>\n",
       "      <td>355530.12</td>\n",
       "      <td>179946.81</td>\n",
       "      <td>163137.15</td>\n",
       "      <td>42512506.47</td>\n",
       "      <td>4807416.56</td>\n",
       "      <td>7644238.46</td>\n",
       "      <td>32418664.37</td>\n",
       "      <td>24955631.49</td>\n",
       "    </tr>\n",
       "    <tr>\n",
       "      <th>std</th>\n",
       "      <td>311360.87</td>\n",
       "      <td>188807.42</td>\n",
       "      <td>181848.14</td>\n",
       "      <td>32476329.30</td>\n",
       "      <td>4024905.28</td>\n",
       "      <td>5194202.43</td>\n",
       "      <td>22254227.97</td>\n",
       "      <td>22084975.50</td>\n",
       "    </tr>\n",
       "    <tr>\n",
       "      <th>min</th>\n",
       "      <td>13883.00</td>\n",
       "      <td>4542.00</td>\n",
       "      <td>5.00</td>\n",
       "      <td>24349.00</td>\n",
       "      <td>6.00</td>\n",
       "      <td>0.00</td>\n",
       "      <td>24344.00</td>\n",
       "      <td>11.00</td>\n",
       "    </tr>\n",
       "    <tr>\n",
       "      <th>25%</th>\n",
       "      <td>134135.00</td>\n",
       "      <td>55351.75</td>\n",
       "      <td>53385.25</td>\n",
       "      <td>8129693.75</td>\n",
       "      <td>413673.00</td>\n",
       "      <td>1920935.00</td>\n",
       "      <td>7227658.50</td>\n",
       "      <td>3236740.25</td>\n",
       "    </tr>\n",
       "    <tr>\n",
       "      <th>50%</th>\n",
       "      <td>250176.00</td>\n",
       "      <td>106697.50</td>\n",
       "      <td>81275.00</td>\n",
       "      <td>40492460.00</td>\n",
       "      <td>4485247.00</td>\n",
       "      <td>9685893.50</td>\n",
       "      <td>38227997.00</td>\n",
       "      <td>18221867.50</td>\n",
       "    </tr>\n",
       "    <tr>\n",
       "      <th>75%</th>\n",
       "      <td>455790.25</td>\n",
       "      <td>229845.00</td>\n",
       "      <td>213118.00</td>\n",
       "      <td>76501673.25</td>\n",
       "      <td>9338189.50</td>\n",
       "      <td>12657717.75</td>\n",
       "      <td>54081315.75</td>\n",
       "      <td>50017006.25</td>\n",
       "    </tr>\n",
       "    <tr>\n",
       "      <th>max</th>\n",
       "      <td>1428602.00</td>\n",
       "      <td>1056367.00</td>\n",
       "      <td>879492.00</td>\n",
       "      <td>89225246.00</td>\n",
       "      <td>9897747.00</td>\n",
       "      <td>12712123.00</td>\n",
       "      <td>58302768.00</td>\n",
       "      <td>56213082.00</td>\n",
       "    </tr>\n",
       "  </tbody>\n",
       "</table>\n",
       "</div>"
      ],
      "text/plain": [
       "            doses  doses_first  doses_second  pfizer_cumul  moderna_cumul  \\\n",
       "count      324.00       324.00        324.00        324.00         324.00   \n",
       "mean    355530.12    179946.81     163137.15   42512506.47     4807416.56   \n",
       "std     311360.87    188807.42     181848.14   32476329.30     4024905.28   \n",
       "min      13883.00      4542.00          5.00      24349.00           6.00   \n",
       "25%     134135.00     55351.75      53385.25    8129693.75      413673.00   \n",
       "50%     250176.00    106697.50      81275.00   40492460.00     4485247.00   \n",
       "75%     455790.25    229845.00     213118.00   76501673.25     9338189.50   \n",
       "max    1428602.00   1056367.00     879492.00   89225246.00     9897747.00   \n",
       "\n",
       "       astrazeneca_cumul  persons_first_cumul  persons_full_cumul  \n",
       "count             324.00               324.00              324.00  \n",
       "mean          7644238.46          32418664.37         24955631.49  \n",
       "std           5194202.43          22254227.97         22084975.50  \n",
       "min                 0.00             24344.00               11.00  \n",
       "25%           1920935.00           7227658.50          3236740.25  \n",
       "50%           9685893.50          38227997.00         18221867.50  \n",
       "75%          12657717.75          54081315.75         50017006.25  \n",
       "max          12712123.00          58302768.00         56213082.00  "
      ]
     },
     "metadata": {},
     "output_type": "display_data"
    },
    {
     "data": {
      "text/html": [
       "<div>\n",
       "<style scoped>\n",
       "    .dataframe tbody tr th:only-of-type {\n",
       "        vertical-align: middle;\n",
       "    }\n",
       "\n",
       "    .dataframe tbody tr th {\n",
       "        vertical-align: top;\n",
       "    }\n",
       "\n",
       "    .dataframe thead th {\n",
       "        text-align: right;\n",
       "    }\n",
       "</style>\n",
       "<table border=\"1\" class=\"dataframe\">\n",
       "  <thead>\n",
       "    <tr style=\"text-align: right;\">\n",
       "      <th></th>\n",
       "      <th>population</th>\n",
       "    </tr>\n",
       "  </thead>\n",
       "  <tbody>\n",
       "    <tr>\n",
       "      <th>count</th>\n",
       "      <td>192.00</td>\n",
       "    </tr>\n",
       "    <tr>\n",
       "      <th>mean</th>\n",
       "      <td>432391.73</td>\n",
       "    </tr>\n",
       "    <tr>\n",
       "      <th>std</th>\n",
       "      <td>557233.70</td>\n",
       "    </tr>\n",
       "    <tr>\n",
       "      <th>min</th>\n",
       "      <td>15906.00</td>\n",
       "    </tr>\n",
       "    <tr>\n",
       "      <th>25%</th>\n",
       "      <td>95457.00</td>\n",
       "    </tr>\n",
       "    <tr>\n",
       "      <th>50%</th>\n",
       "      <td>234596.00</td>\n",
       "    </tr>\n",
       "    <tr>\n",
       "      <th>75%</th>\n",
       "      <td>484169.00</td>\n",
       "    </tr>\n",
       "    <tr>\n",
       "      <th>max</th>\n",
       "      <td>3147565.00</td>\n",
       "    </tr>\n",
       "  </tbody>\n",
       "</table>\n",
       "</div>"
      ],
      "text/plain": [
       "       population\n",
       "count      192.00\n",
       "mean    432391.73\n",
       "std     557233.70\n",
       "min      15906.00\n",
       "25%      95457.00\n",
       "50%     234596.00\n",
       "75%     484169.00\n",
       "max    3147565.00"
      ]
     },
     "metadata": {},
     "output_type": "display_data"
    },
    {
     "name": "stdout",
     "output_type": "stream",
     "text": [
      "------------------------------------------------------------------------------------------------------------\n",
      "\n",
      "The data in \"covid\" covers the period between : 2020-01-02 00:00:00 and 2021-11-15 00:00:00 .\n",
      "\n",
      "The data in \"vaccine\" covers the period between : 2020-12-27 00:00:00 and 2021-11-15 00:00:00 .\n",
      "\n",
      "------------------------------------------------------------------------------------------------------------\n",
      "The total number of COVID-19 cases in Germany is : 5073231 cases.\n",
      "\n",
      "The total number of COVID-19 deaths in Germany is : 97971 deaths.\n",
      "\n",
      "The total number of COVID-19 recoveries in Germany is : 4513132 cases.\n",
      "\n",
      "------------------------------------------------------------------------------------------------------------\n",
      "The first registered case of COVID-19 in Germany was on the : 2020-01-02 00:00:00 .\n",
      "\n",
      "The first registered administered vaccine against COVID-19 in Germany was on the : 2020-12-27 00:00:00 .\n",
      "\n",
      "------------------------------------------------------------------------------------------------------------\n",
      "On the 04-11-2021, a total of 56.21 Million individuals are fully vaccinated against COVID-19.\n",
      "\n",
      "On the 04-11-2021, a total of 58.3 Million individuals have received the fist dose of the vaccine against COVID-19.\n",
      "\n",
      "------------------------------------------------------------------------------------------------------------\n",
      "On the 04-11-2021, a total of 67.71 % of the population fully vaccinated against COVID-19.\n",
      "\n",
      "On the 04-11-2021, a total of 70.23 % of the population has received the fist dose of the vaccine against COVID-19.\n",
      "\n",
      "------------------------------------------------------------------------------------------------------------\n"
     ]
    }
   ],
   "source": [
    "print('------------------------------------------- Dataset Descriptions -------------------------------------------')\n",
    "display(vaccine.describe().round(2))\n",
    "display(demographics.describe().round(2))\n",
    "\n",
    "print('------------------------------------------------------------------------------------------------------------')\n",
    "print('')\n",
    "print('The data in \"covid\" covers the period between :', covid.date.min(), 'and', covid.date.max(),'.')\n",
    "print('')\n",
    "print('The data in \"vaccine\" covers the period between :', vaccine.date.min(), 'and', vaccine.date.max(),'.')\n",
    "print('')\n",
    "print('------------------------------------------------------------------------------------------------------------')\n",
    "print('The total number of COVID-19 cases in Germany is :', covid.cases.sum(), 'cases.')\n",
    "print('')\n",
    "print('The total number of COVID-19 deaths in Germany is :', covid.deaths.sum(), 'deaths.')\n",
    "print('')\n",
    "print('The total number of COVID-19 recoveries in Germany is :', covid.recovered.sum(), 'cases.')\n",
    "print('')\n",
    "print('------------------------------------------------------------------------------------------------------------')\n",
    "print('The first registered case of COVID-19 in Germany was on the :', covid.date.min(), '.')\n",
    "print('')\n",
    "print('The first registered administered vaccine against COVID-19 in Germany was on the :', vaccine.date.min(), '.')\n",
    "print('')\n",
    "print('------------------------------------------------------------------------------------------------------------')\n",
    "print('On the 04-11-2021, a total of', round(vaccine.persons_full_cumul.max()/1000000 , 2), 'Million individuals are fully vaccinated against COVID-19.')\n",
    "print('')\n",
    "print('On the 04-11-2021, a total of', round(vaccine.persons_first_cumul.max()/1000000 , 2), 'Million individuals have received the fist dose of the vaccine against COVID-19.')\n",
    "print('')\n",
    "print('------------------------------------------------------------------------------------------------------------')\n",
    "print('On the 04-11-2021, a total of', round((vaccine.persons_full_cumul.max())/(demographics.population.sum())*100 , 2), '% of the population fully vaccinated against COVID-19.')\n",
    "print('')\n",
    "print('On the 04-11-2021, a total of', round((vaccine.persons_first_cumul.max())/(demographics.population.sum())*100 , 2), '% of the population has received the fist dose of the vaccine against COVID-19.')\n",
    "print('')\n",
    "print('------------------------------------------------------------------------------------------------------------')"
   ]
  },
  {
   "cell_type": "markdown",
   "id": "6395c7b0",
   "metadata": {
    "papermill": {
     "duration": 0.033322,
     "end_time": "2021-11-17T12:23:40.903226",
     "exception": false,
     "start_time": "2021-11-17T12:23:40.869904",
     "status": "completed"
    },
    "tags": []
   },
   "source": [
    "<b>Observations :</b> \n",
    "\n",
    "From the description of the datasets above, we retain the following :\n",
    "\n",
    "- The date of the detection of **the first COVID-19 case in Germany was on the 02-01-2020**. **The date of the administration of the first dose of vaccine in Germany is the 27-12-2020**, nearly a year later.  \n",
    "- **The most commonly administered vaccine in Germany is the Pfizer vaccine at at total of nearly 87 Million doses (79.4% of total doses)**, followed by AstraZeneca at 12.7 Million doses (11.6%) and Moderna at 9.8 Million doses(9%);  \n",
    "- There has been 4.74 Million confirmed cases of COVID-19 in Germany. **93% of these cases have recovered from the virus (4.3 Million recoveries)**;  \n",
    "- The **Infection Fatality Rate** (IFR), which calculates the percentage of cases with a death outcome to the number of cases with the formula below, is 2.03% in Germany. This means that **2 out of every 100 confirmed COVID-19 cases has a fatal outcome.** This is similar to the global fatality rate which is 2% according to a [study](https://www.ncbi.nlm.nih.gov/pmc/articles/PMC8451339/) by PMC Labs   \n",
    "\n",
    "<img src=\"https://latex.codecogs.com/gif.latex?Infection&space;Fatality&space;Rate&space;(IFR)&space;=&space;\\frac{Deaths}{Cases}\" title=\"Infection Fatality Rate (IFR) = \\frac{Deaths}{Cases}\" />\n",
    "\n",
    "- The **Mortality Rate** (MR) calculates the COVID-19 deaths by total population of Germany. \n",
    "\n",
    "<img src=\"https://latex.codecogs.com/gif.latex?Mortality&space;Rate&space;(MR)&space;=&space;\\frac{Deaths}{Total&space;Population}\" title=\"Mortality Rate (MR) = \\frac{Deaths}{Total Population}\" />\n",
    "\n",
    "The Mortality Rate for COVID-19 in Germany is the total deaths (96.481 deaths) divided by the total population of Germany (83.019.213 population), which results in 0.116%. This translates to **116 deaths per 100.000 population**, or **1 death every 862 people**. \n",
    "\n",
    "This mortality rate is smaller compared to other countries such as [Bulgaria](https://coronavirus.jhu.edu/data/mortality) with a MR of 357 deaths per 100.000 population, The United States of America with 230 deaths per 100.000 population, but it's also higher than certain countries such as Vietnam and Egypt with respectively 23 and 19 deaths per 100.000 population (Note that the countries given in the example are all, including Germany in the top 20 countries with the most COVID-19 cases).\n"
   ]
  },
  {
   "cell_type": "markdown",
   "id": "48a78eec",
   "metadata": {
    "papermill": {
     "duration": 0.033675,
     "end_time": "2021-11-17T12:23:40.969656",
     "exception": false,
     "start_time": "2021-11-17T12:23:40.935981",
     "status": "completed"
    },
    "tags": []
   },
   "source": [
    "### 2.2. Calculating Number of Active Cases<a name=\"22\"></a>"
   ]
  },
  {
   "cell_type": "markdown",
   "id": "6d0a8a97",
   "metadata": {
    "papermill": {
     "duration": 0.032734,
     "end_time": "2021-11-17T12:23:41.035330",
     "exception": false,
     "start_time": "2021-11-17T12:23:41.002596",
     "status": "completed"
    },
    "tags": []
   },
   "source": [
    "The number of **active cases** can be defined as the number of confirmed cases minus the number of recovered cases and deaths. It is the number of cases still considered to be infectious."
   ]
  },
  {
   "cell_type": "code",
   "execution_count": 9,
   "id": "cc4a67cc",
   "metadata": {
    "execution": {
     "iopub.execute_input": "2021-11-17T12:23:41.106116Z",
     "iopub.status.busy": "2021-11-17T12:23:41.105396Z",
     "iopub.status.idle": "2021-11-17T12:23:41.203477Z",
     "shell.execute_reply": "2021-11-17T12:23:41.204172Z",
     "shell.execute_reply.started": "2021-11-11T16:41:48.08232Z"
    },
    "papermill": {
     "duration": 0.134303,
     "end_time": "2021-11-17T12:23:41.204399",
     "exception": false,
     "start_time": "2021-11-17T12:23:41.070096",
     "status": "completed"
    },
    "tags": []
   },
   "outputs": [
    {
     "data": {
      "text/html": [
       "<div>\n",
       "<style scoped>\n",
       "    .dataframe tbody tr th:only-of-type {\n",
       "        vertical-align: middle;\n",
       "    }\n",
       "\n",
       "    .dataframe tbody tr th {\n",
       "        vertical-align: top;\n",
       "    }\n",
       "\n",
       "    .dataframe thead th {\n",
       "        text-align: right;\n",
       "    }\n",
       "</style>\n",
       "<table border=\"1\" class=\"dataframe\">\n",
       "  <thead>\n",
       "    <tr style=\"text-align: right;\">\n",
       "      <th></th>\n",
       "      <th>state</th>\n",
       "      <th>county</th>\n",
       "      <th>age_group</th>\n",
       "      <th>gender</th>\n",
       "      <th>date</th>\n",
       "      <th>cases</th>\n",
       "      <th>deaths</th>\n",
       "      <th>recovered</th>\n",
       "      <th>active</th>\n",
       "    </tr>\n",
       "  </thead>\n",
       "  <tbody>\n",
       "    <tr>\n",
       "      <th>444286</th>\n",
       "      <td>Berlin</td>\n",
       "      <td>SK Berlin Tempelhof-Schoeneberg</td>\n",
       "      <td>15-34</td>\n",
       "      <td>F</td>\n",
       "      <td>2021-09-28</td>\n",
       "      <td>9</td>\n",
       "      <td>0</td>\n",
       "      <td>9</td>\n",
       "      <td>0</td>\n",
       "    </tr>\n",
       "    <tr>\n",
       "      <th>1136381</th>\n",
       "      <td>Thueringen</td>\n",
       "      <td>LK Greiz</td>\n",
       "      <td>60-79</td>\n",
       "      <td>M</td>\n",
       "      <td>2021-03-02</td>\n",
       "      <td>4</td>\n",
       "      <td>0</td>\n",
       "      <td>4</td>\n",
       "      <td>0</td>\n",
       "    </tr>\n",
       "    <tr>\n",
       "      <th>966011</th>\n",
       "      <td>Rheinland-Pfalz</td>\n",
       "      <td>LK Trier-Saarburg</td>\n",
       "      <td>00-04</td>\n",
       "      <td>F</td>\n",
       "      <td>2020-12-13</td>\n",
       "      <td>1</td>\n",
       "      <td>0</td>\n",
       "      <td>1</td>\n",
       "      <td>0</td>\n",
       "    </tr>\n",
       "    <tr>\n",
       "      <th>264651</th>\n",
       "      <td>Bayern</td>\n",
       "      <td>LK Muenchen</td>\n",
       "      <td>00-04</td>\n",
       "      <td>F</td>\n",
       "      <td>2021-10-25</td>\n",
       "      <td>3</td>\n",
       "      <td>0</td>\n",
       "      <td>1</td>\n",
       "      <td>2</td>\n",
       "    </tr>\n",
       "    <tr>\n",
       "      <th>478221</th>\n",
       "      <td>Brandenburg</td>\n",
       "      <td>LK Spree-Neisse</td>\n",
       "      <td>35-59</td>\n",
       "      <td>M</td>\n",
       "      <td>2021-11-02</td>\n",
       "      <td>21</td>\n",
       "      <td>0</td>\n",
       "      <td>13</td>\n",
       "      <td>8</td>\n",
       "    </tr>\n",
       "  </tbody>\n",
       "</table>\n",
       "</div>"
      ],
      "text/plain": [
       "                   state                           county age_group gender  \\\n",
       "444286            Berlin  SK Berlin Tempelhof-Schoeneberg     15-34      F   \n",
       "1136381       Thueringen                         LK Greiz     60-79      M   \n",
       "966011   Rheinland-Pfalz                LK Trier-Saarburg     00-04      F   \n",
       "264651            Bayern                      LK Muenchen     00-04      F   \n",
       "478221       Brandenburg                  LK Spree-Neisse     35-59      M   \n",
       "\n",
       "              date  cases  deaths  recovered  active  \n",
       "444286  2021-09-28      9       0          9       0  \n",
       "1136381 2021-03-02      4       0          4       0  \n",
       "966011  2020-12-13      1       0          1       0  \n",
       "264651  2021-10-25      3       0          1       2  \n",
       "478221  2021-11-02     21       0         13       8  "
      ]
     },
     "metadata": {},
     "output_type": "display_data"
    },
    {
     "name": "stdout",
     "output_type": "stream",
     "text": [
      "------------------------------------------------------------------------------------------------------------\n",
      "\n",
      "On the 04-11-2021, there are 462128 active COVID-19 cases.\n",
      "\n",
      "------------------------------------------------------------------------------------------------------------\n"
     ]
    }
   ],
   "source": [
    "# Calculating \"active\"\n",
    "covid['active'] = covid['cases'] - covid['recovered'] - covid['deaths']\n",
    "\n",
    "# Display\n",
    "display(covid.sample(5))\n",
    "\n",
    "# Calculating number of currently active cases\n",
    "print('------------------------------------------------------------------------------------------------------------')\n",
    "print('')\n",
    "print('On the 04-11-2021, there are', covid.active.sum(), 'active COVID-19 cases.')\n",
    "print('')\n",
    "print('------------------------------------------------------------------------------------------------------------')"
   ]
  },
  {
   "cell_type": "markdown",
   "id": "bfbae50b",
   "metadata": {
    "papermill": {
     "duration": 0.032633,
     "end_time": "2021-11-17T12:23:41.272388",
     "exception": false,
     "start_time": "2021-11-17T12:23:41.239755",
     "status": "completed"
    },
    "tags": []
   },
   "source": [
    "### 2.3. Data Visualizations<a name=\"23\"></a>"
   ]
  },
  {
   "cell_type": "markdown",
   "id": "0290e784",
   "metadata": {
    "papermill": {
     "duration": 0.034081,
     "end_time": "2021-11-17T12:23:41.341439",
     "exception": false,
     "start_time": "2021-11-17T12:23:41.307358",
     "status": "completed"
    },
    "tags": []
   },
   "source": [
    "After Having made the calculations above, we will now visualize some of the data from all three datasets."
   ]
  },
  {
   "cell_type": "markdown",
   "id": "68e0733a",
   "metadata": {
    "papermill": {
     "duration": 0.032874,
     "end_time": "2021-11-17T12:23:41.407403",
     "exception": false,
     "start_time": "2021-11-17T12:23:41.374529",
     "status": "completed"
    },
    "tags": []
   },
   "source": [
    "#### 2.2.1 Daily Cases<a name=\"221\"></a>"
   ]
  },
  {
   "cell_type": "markdown",
   "id": "db6acbab",
   "metadata": {
    "papermill": {
     "duration": 0.033854,
     "end_time": "2021-11-17T12:23:41.474272",
     "exception": false,
     "start_time": "2021-11-17T12:23:41.440418",
     "status": "completed"
    },
    "tags": []
   },
   "source": [
    "We group the **`covid`** dataset by date, to be able to see the total daily cases."
   ]
  },
  {
   "cell_type": "code",
   "execution_count": 10,
   "id": "2ab7e999",
   "metadata": {
    "execution": {
     "iopub.execute_input": "2021-11-17T12:23:41.550687Z",
     "iopub.status.busy": "2021-11-17T12:23:41.549981Z",
     "iopub.status.idle": "2021-11-17T12:23:42.928692Z",
     "shell.execute_reply": "2021-11-17T12:23:42.927911Z",
     "shell.execute_reply.started": "2021-11-11T16:41:48.182123Z"
    },
    "papermill": {
     "duration": 1.419472,
     "end_time": "2021-11-17T12:23:42.928909",
     "exception": false,
     "start_time": "2021-11-17T12:23:41.509437",
     "status": "completed"
    },
    "tags": []
   },
   "outputs": [
    {
     "data": {
      "text/html": [
       "        <script type=\"text/javascript\">\n",
       "        window.PlotlyConfig = {MathJaxConfig: 'local'};\n",
       "        if (window.MathJax) {MathJax.Hub.Config({SVG: {font: \"STIX-Web\"}});}\n",
       "        if (typeof require !== 'undefined') {\n",
       "        require.undef(\"plotly\");\n",
       "        requirejs.config({\n",
       "            paths: {\n",
       "                'plotly': ['https://cdn.plot.ly/plotly-2.4.2.min']\n",
       "            }\n",
       "        });\n",
       "        require(['plotly'], function(Plotly) {\n",
       "            window._Plotly = Plotly;\n",
       "        });\n",
       "        }\n",
       "        </script>\n",
       "        "
      ]
     },
     "metadata": {},
     "output_type": "display_data"
    },
    {
     "data": {
      "text/html": [
       "<div>                            <div id=\"12a213ec-feee-4a3b-9146-77388a013b51\" class=\"plotly-graph-div\" style=\"height:400px; width:100%;\"></div>            <script type=\"text/javascript\">                require([\"plotly\"], function(Plotly) {                    window.PLOTLYENV=window.PLOTLYENV || {};                                    if (document.getElementById(\"12a213ec-feee-4a3b-9146-77388a013b51\")) {                    Plotly.newPlot(                        \"12a213ec-feee-4a3b-9146-77388a013b51\",                        [{\"alignmentgroup\":\"True\",\"hovertemplate\":\"date=%{x}<br>cases=%{marker.color}<extra></extra>\",\"legendgroup\":\"\",\"marker\":{\"color\":[1,1,2,2,4,1,1,4,1,1,1,2,1,1,2,1,3,7,23,47,23,35,41,84,157,186,186,142,103,345,596,755,991,1459,1303,980,2035,3026,3599,4056,4043,3356,2262,3729,4880,5676,5900,5980,4720,3075,4117,6059,6254,6546,6193,4342,2535,3660,5188,5273,4906,3353,2884,1864,1596,2463,3321,3415,3042,2106,1374,1709,2182,2486,2088,1903,1272,703,1117,1460,1430,1457,919,620,424,729,1089,1221,1198,979,678,341,685,854,909,808,727,459,315,542,727,828,419,524,337,218,412,617,648,529,444,374,179,137,304,496,528,437,285,164,295,425,518,281,352,299,172,259,518,862,763,996,569,222,442,540,506,564,574,325,200,415,457,482,472,426,292,142,322,391,450,425,424,276,131,326,465,540,553,521,440,179,453,522,699,694,805,541,211,527,753,909,860,914,561,305,789,947,1106,1165,1003,710,319,1101,1194,1541,1490,1374,754,492,1546,1533,1754,1620,1656,918,565,1426,1485,1615,1538,1390,833,536,1182,1317,1414,1518,1490,1103,582,1408,1376,1743,1591,1651,1223,761,1484,2004,2191,2351,2167,1393,689,1654,1810,2207,2391,2325,1786,871,1830,2163,2730,2922,2920,2196,1152,2403,3582,4482,4651,5054,3626,2266,4182,5356,7241,7908,7958,5687,3672,6476,9426,12382,13907,14018,11097,7433,12008,15922,19218,19825,19404,13984,10511,15232,19323,21187,22247,21552,15912,10106,15922,19591,22676,23399,21316,15787,8839,14672,20325,23665,23705,22265,14770,8818,15059,19389,22034,22751,20117,14923,8782,13275,19202,23183,24401,22234,15710,10231,16432,22776,27632,29020,27245,20598,12490,19046,26921,31349,31951,29759,21695,13890,20281,28963,33965,21152,13166,11534,9801,15723,27561,31048,19573,10263,9999,8820,14284,27409,27962,26101,24510,16657,8463,13460,22578,24091,20385,18285,13431,6593,9145,18455,19482,16799,15017,11569,5015,6737,15504,15815,13353,12554,9937,4196,5857,12292,13405,11500,9998,8383,3091,4182,9093,10275,9357,8534,5593,3759,4379,9236,9998,9221,8720,7782,3037,4399,10179,11289,9909,9449,7651,3450,4677,10950,11301,10119,9658,8291,3360,4834,11493,13985,13143,12532,10473,4839,6819,15783,18354,16713,15700,13213,5956,8874,19447,22644,21864,20026,15769,7577,10987,20380,23994,21424,15480,10632,7147,7041,11506,23715,25759,23289,18039,8857,12100,26714,28541,25062,23071,17699,8819,12279,27932,29370,25450,22947,18007,8675,12196,25244,24996,21421,19152,15061,6658,9124,20975,20847,17151,15476,12044,5325,7386,16751,16485,9671,7628,8590,4276,5235,12329,11306,8425,7579,5815,1999,1802,3667,7140,6811,5154,3686,1604,2440,5102,4488,2937,2272,2305,1125,1710,3527,2861,2269,1841,1305,514,932,1700,1443,1151,1027,739,274,599,1054,900,821,737,485,222,512,895,860,707,667,508,209,548,1057,962,958,945,790,313,790,1767,1625,1516,1618,1282,497,1426,2336,2289,2222,2116,1595,641,1660,3091,2838,2634,2524,1962,783,2111,3753,3550,3530,3531,2794,1137,2924,5557,5642,5439,5787,4630,2072,4507,8912,8753,8664,8832,6828,3104,6554,12888,12718,11615,10386,8392,3748,7060,14568,14731,12710,12049,9480,4053,7000,15121,14149,12370,11136,8564,3286,6859,13381,12219,10261,8878,7041,2779,5411,11244,10443,9088,8400,6350,2640,5760,12631,11375,9496,8381,6151,2644,5648,12204,11085,10113,9197,7019,2637,6225,12628,12049,11297,11118,8479,3404,8059,19075,17914,17209,16628,13291,5162,11788,26300,27298,24262,22522,17071,7462,11399,24294,36031,36374,33622,23747,11834,24024,46575,50214,48466,43442,31699,17441,21088],\"coloraxis\":\"coloraxis\",\"pattern\":{\"shape\":\"\"}},\"name\":\"\",\"offsetgroup\":\"\",\"orientation\":\"v\",\"showlegend\":false,\"textposition\":\"auto\",\"type\":\"bar\",\"x\":[\"2020-01-02T00:00:00\",\"2020-01-23T00:00:00\",\"2020-01-28T00:00:00\",\"2020-01-29T00:00:00\",\"2020-01-31T00:00:00\",\"2020-02-01T00:00:00\",\"2020-02-03T00:00:00\",\"2020-02-04T00:00:00\",\"2020-02-05T00:00:00\",\"2020-02-06T00:00:00\",\"2020-02-07T00:00:00\",\"2020-02-11T00:00:00\",\"2020-02-17T00:00:00\",\"2020-02-18T00:00:00\",\"2020-02-20T00:00:00\",\"2020-02-24T00:00:00\",\"2020-02-25T00:00:00\",\"2020-02-26T00:00:00\",\"2020-02-27T00:00:00\",\"2020-02-28T00:00:00\",\"2020-02-29T00:00:00\",\"2020-03-01T00:00:00\",\"2020-03-02T00:00:00\",\"2020-03-03T00:00:00\",\"2020-03-04T00:00:00\",\"2020-03-05T00:00:00\",\"2020-03-06T00:00:00\",\"2020-03-07T00:00:00\",\"2020-03-08T00:00:00\",\"2020-03-09T00:00:00\",\"2020-03-10T00:00:00\",\"2020-03-11T00:00:00\",\"2020-03-12T00:00:00\",\"2020-03-13T00:00:00\",\"2020-03-14T00:00:00\",\"2020-03-15T00:00:00\",\"2020-03-16T00:00:00\",\"2020-03-17T00:00:00\",\"2020-03-18T00:00:00\",\"2020-03-19T00:00:00\",\"2020-03-20T00:00:00\",\"2020-03-21T00:00:00\",\"2020-03-22T00:00:00\",\"2020-03-23T00:00:00\",\"2020-03-24T00:00:00\",\"2020-03-25T00:00:00\",\"2020-03-26T00:00:00\",\"2020-03-27T00:00:00\",\"2020-03-28T00:00:00\",\"2020-03-29T00:00:00\",\"2020-03-30T00:00:00\",\"2020-03-31T00:00:00\",\"2020-04-01T00:00:00\",\"2020-04-02T00:00:00\",\"2020-04-03T00:00:00\",\"2020-04-04T00:00:00\",\"2020-04-05T00:00:00\",\"2020-04-06T00:00:00\",\"2020-04-07T00:00:00\",\"2020-04-08T00:00:00\",\"2020-04-09T00:00:00\",\"2020-04-10T00:00:00\",\"2020-04-11T00:00:00\",\"2020-04-12T00:00:00\",\"2020-04-13T00:00:00\",\"2020-04-14T00:00:00\",\"2020-04-15T00:00:00\",\"2020-04-16T00:00:00\",\"2020-04-17T00:00:00\",\"2020-04-18T00:00:00\",\"2020-04-19T00:00:00\",\"2020-04-20T00:00:00\",\"2020-04-21T00:00:00\",\"2020-04-22T00:00:00\",\"2020-04-23T00:00:00\",\"2020-04-24T00:00:00\",\"2020-04-25T00:00:00\",\"2020-04-26T00:00:00\",\"2020-04-27T00:00:00\",\"2020-04-28T00:00:00\",\"2020-04-29T00:00:00\",\"2020-04-30T00:00:00\",\"2020-05-01T00:00:00\",\"2020-05-02T00:00:00\",\"2020-05-03T00:00:00\",\"2020-05-04T00:00:00\",\"2020-05-05T00:00:00\",\"2020-05-06T00:00:00\",\"2020-05-07T00:00:00\",\"2020-05-08T00:00:00\",\"2020-05-09T00:00:00\",\"2020-05-10T00:00:00\",\"2020-05-11T00:00:00\",\"2020-05-12T00:00:00\",\"2020-05-13T00:00:00\",\"2020-05-14T00:00:00\",\"2020-05-15T00:00:00\",\"2020-05-16T00:00:00\",\"2020-05-17T00:00:00\",\"2020-05-18T00:00:00\",\"2020-05-19T00:00:00\",\"2020-05-20T00:00:00\",\"2020-05-21T00:00:00\",\"2020-05-22T00:00:00\",\"2020-05-23T00:00:00\",\"2020-05-24T00:00:00\",\"2020-05-25T00:00:00\",\"2020-05-26T00:00:00\",\"2020-05-27T00:00:00\",\"2020-05-28T00:00:00\",\"2020-05-29T00:00:00\",\"2020-05-30T00:00:00\",\"2020-05-31T00:00:00\",\"2020-06-01T00:00:00\",\"2020-06-02T00:00:00\",\"2020-06-03T00:00:00\",\"2020-06-04T00:00:00\",\"2020-06-05T00:00:00\",\"2020-06-06T00:00:00\",\"2020-06-07T00:00:00\",\"2020-06-08T00:00:00\",\"2020-06-09T00:00:00\",\"2020-06-10T00:00:00\",\"2020-06-11T00:00:00\",\"2020-06-12T00:00:00\",\"2020-06-13T00:00:00\",\"2020-06-14T00:00:00\",\"2020-06-15T00:00:00\",\"2020-06-16T00:00:00\",\"2020-06-17T00:00:00\",\"2020-06-18T00:00:00\",\"2020-06-19T00:00:00\",\"2020-06-20T00:00:00\",\"2020-06-21T00:00:00\",\"2020-06-22T00:00:00\",\"2020-06-23T00:00:00\",\"2020-06-24T00:00:00\",\"2020-06-25T00:00:00\",\"2020-06-26T00:00:00\",\"2020-06-27T00:00:00\",\"2020-06-28T00:00:00\",\"2020-06-29T00:00:00\",\"2020-06-30T00:00:00\",\"2020-07-01T00:00:00\",\"2020-07-02T00:00:00\",\"2020-07-03T00:00:00\",\"2020-07-04T00:00:00\",\"2020-07-05T00:00:00\",\"2020-07-06T00:00:00\",\"2020-07-07T00:00:00\",\"2020-07-08T00:00:00\",\"2020-07-09T00:00:00\",\"2020-07-10T00:00:00\",\"2020-07-11T00:00:00\",\"2020-07-12T00:00:00\",\"2020-07-13T00:00:00\",\"2020-07-14T00:00:00\",\"2020-07-15T00:00:00\",\"2020-07-16T00:00:00\",\"2020-07-17T00:00:00\",\"2020-07-18T00:00:00\",\"2020-07-19T00:00:00\",\"2020-07-20T00:00:00\",\"2020-07-21T00:00:00\",\"2020-07-22T00:00:00\",\"2020-07-23T00:00:00\",\"2020-07-24T00:00:00\",\"2020-07-25T00:00:00\",\"2020-07-26T00:00:00\",\"2020-07-27T00:00:00\",\"2020-07-28T00:00:00\",\"2020-07-29T00:00:00\",\"2020-07-30T00:00:00\",\"2020-07-31T00:00:00\",\"2020-08-01T00:00:00\",\"2020-08-02T00:00:00\",\"2020-08-03T00:00:00\",\"2020-08-04T00:00:00\",\"2020-08-05T00:00:00\",\"2020-08-06T00:00:00\",\"2020-08-07T00:00:00\",\"2020-08-08T00:00:00\",\"2020-08-09T00:00:00\",\"2020-08-10T00:00:00\",\"2020-08-11T00:00:00\",\"2020-08-12T00:00:00\",\"2020-08-13T00:00:00\",\"2020-08-14T00:00:00\",\"2020-08-15T00:00:00\",\"2020-08-16T00:00:00\",\"2020-08-17T00:00:00\",\"2020-08-18T00:00:00\",\"2020-08-19T00:00:00\",\"2020-08-20T00:00:00\",\"2020-08-21T00:00:00\",\"2020-08-22T00:00:00\",\"2020-08-23T00:00:00\",\"2020-08-24T00:00:00\",\"2020-08-25T00:00:00\",\"2020-08-26T00:00:00\",\"2020-08-27T00:00:00\",\"2020-08-28T00:00:00\",\"2020-08-29T00:00:00\",\"2020-08-30T00:00:00\",\"2020-08-31T00:00:00\",\"2020-09-01T00:00:00\",\"2020-09-02T00:00:00\",\"2020-09-03T00:00:00\",\"2020-09-04T00:00:00\",\"2020-09-05T00:00:00\",\"2020-09-06T00:00:00\",\"2020-09-07T00:00:00\",\"2020-09-08T00:00:00\",\"2020-09-09T00:00:00\",\"2020-09-10T00:00:00\",\"2020-09-11T00:00:00\",\"2020-09-12T00:00:00\",\"2020-09-13T00:00:00\",\"2020-09-14T00:00:00\",\"2020-09-15T00:00:00\",\"2020-09-16T00:00:00\",\"2020-09-17T00:00:00\",\"2020-09-18T00:00:00\",\"2020-09-19T00:00:00\",\"2020-09-20T00:00:00\",\"2020-09-21T00:00:00\",\"2020-09-22T00:00:00\",\"2020-09-23T00:00:00\",\"2020-09-24T00:00:00\",\"2020-09-25T00:00:00\",\"2020-09-26T00:00:00\",\"2020-09-27T00:00:00\",\"2020-09-28T00:00:00\",\"2020-09-29T00:00:00\",\"2020-09-30T00:00:00\",\"2020-10-01T00:00:00\",\"2020-10-02T00:00:00\",\"2020-10-03T00:00:00\",\"2020-10-04T00:00:00\",\"2020-10-05T00:00:00\",\"2020-10-06T00:00:00\",\"2020-10-07T00:00:00\",\"2020-10-08T00:00:00\",\"2020-10-09T00:00:00\",\"2020-10-10T00:00:00\",\"2020-10-11T00:00:00\",\"2020-10-12T00:00:00\",\"2020-10-13T00:00:00\",\"2020-10-14T00:00:00\",\"2020-10-15T00:00:00\",\"2020-10-16T00:00:00\",\"2020-10-17T00:00:00\",\"2020-10-18T00:00:00\",\"2020-10-19T00:00:00\",\"2020-10-20T00:00:00\",\"2020-10-21T00:00:00\",\"2020-10-22T00:00:00\",\"2020-10-23T00:00:00\",\"2020-10-24T00:00:00\",\"2020-10-25T00:00:00\",\"2020-10-26T00:00:00\",\"2020-10-27T00:00:00\",\"2020-10-28T00:00:00\",\"2020-10-29T00:00:00\",\"2020-10-30T00:00:00\",\"2020-10-31T00:00:00\",\"2020-11-01T00:00:00\",\"2020-11-02T00:00:00\",\"2020-11-03T00:00:00\",\"2020-11-04T00:00:00\",\"2020-11-05T00:00:00\",\"2020-11-06T00:00:00\",\"2020-11-07T00:00:00\",\"2020-11-08T00:00:00\",\"2020-11-09T00:00:00\",\"2020-11-10T00:00:00\",\"2020-11-11T00:00:00\",\"2020-11-12T00:00:00\",\"2020-11-13T00:00:00\",\"2020-11-14T00:00:00\",\"2020-11-15T00:00:00\",\"2020-11-16T00:00:00\",\"2020-11-17T00:00:00\",\"2020-11-18T00:00:00\",\"2020-11-19T00:00:00\",\"2020-11-20T00:00:00\",\"2020-11-21T00:00:00\",\"2020-11-22T00:00:00\",\"2020-11-23T00:00:00\",\"2020-11-24T00:00:00\",\"2020-11-25T00:00:00\",\"2020-11-26T00:00:00\",\"2020-11-27T00:00:00\",\"2020-11-28T00:00:00\",\"2020-11-29T00:00:00\",\"2020-11-30T00:00:00\",\"2020-12-01T00:00:00\",\"2020-12-02T00:00:00\",\"2020-12-03T00:00:00\",\"2020-12-04T00:00:00\",\"2020-12-05T00:00:00\",\"2020-12-06T00:00:00\",\"2020-12-07T00:00:00\",\"2020-12-08T00:00:00\",\"2020-12-09T00:00:00\",\"2020-12-10T00:00:00\",\"2020-12-11T00:00:00\",\"2020-12-12T00:00:00\",\"2020-12-13T00:00:00\",\"2020-12-14T00:00:00\",\"2020-12-15T00:00:00\",\"2020-12-16T00:00:00\",\"2020-12-17T00:00:00\",\"2020-12-18T00:00:00\",\"2020-12-19T00:00:00\",\"2020-12-20T00:00:00\",\"2020-12-21T00:00:00\",\"2020-12-22T00:00:00\",\"2020-12-23T00:00:00\",\"2020-12-24T00:00:00\",\"2020-12-25T00:00:00\",\"2020-12-26T00:00:00\",\"2020-12-27T00:00:00\",\"2020-12-28T00:00:00\",\"2020-12-29T00:00:00\",\"2020-12-30T00:00:00\",\"2020-12-31T00:00:00\",\"2021-01-01T00:00:00\",\"2021-01-02T00:00:00\",\"2021-01-03T00:00:00\",\"2021-01-04T00:00:00\",\"2021-01-05T00:00:00\",\"2021-01-06T00:00:00\",\"2021-01-07T00:00:00\",\"2021-01-08T00:00:00\",\"2021-01-09T00:00:00\",\"2021-01-10T00:00:00\",\"2021-01-11T00:00:00\",\"2021-01-12T00:00:00\",\"2021-01-13T00:00:00\",\"2021-01-14T00:00:00\",\"2021-01-15T00:00:00\",\"2021-01-16T00:00:00\",\"2021-01-17T00:00:00\",\"2021-01-18T00:00:00\",\"2021-01-19T00:00:00\",\"2021-01-20T00:00:00\",\"2021-01-21T00:00:00\",\"2021-01-22T00:00:00\",\"2021-01-23T00:00:00\",\"2021-01-24T00:00:00\",\"2021-01-25T00:00:00\",\"2021-01-26T00:00:00\",\"2021-01-27T00:00:00\",\"2021-01-28T00:00:00\",\"2021-01-29T00:00:00\",\"2021-01-30T00:00:00\",\"2021-01-31T00:00:00\",\"2021-02-01T00:00:00\",\"2021-02-02T00:00:00\",\"2021-02-03T00:00:00\",\"2021-02-04T00:00:00\",\"2021-02-05T00:00:00\",\"2021-02-06T00:00:00\",\"2021-02-07T00:00:00\",\"2021-02-08T00:00:00\",\"2021-02-09T00:00:00\",\"2021-02-10T00:00:00\",\"2021-02-11T00:00:00\",\"2021-02-12T00:00:00\",\"2021-02-13T00:00:00\",\"2021-02-14T00:00:00\",\"2021-02-15T00:00:00\",\"2021-02-16T00:00:00\",\"2021-02-17T00:00:00\",\"2021-02-18T00:00:00\",\"2021-02-19T00:00:00\",\"2021-02-20T00:00:00\",\"2021-02-21T00:00:00\",\"2021-02-22T00:00:00\",\"2021-02-23T00:00:00\",\"2021-02-24T00:00:00\",\"2021-02-25T00:00:00\",\"2021-02-26T00:00:00\",\"2021-02-27T00:00:00\",\"2021-02-28T00:00:00\",\"2021-03-01T00:00:00\",\"2021-03-02T00:00:00\",\"2021-03-03T00:00:00\",\"2021-03-04T00:00:00\",\"2021-03-05T00:00:00\",\"2021-03-06T00:00:00\",\"2021-03-07T00:00:00\",\"2021-03-08T00:00:00\",\"2021-03-09T00:00:00\",\"2021-03-10T00:00:00\",\"2021-03-11T00:00:00\",\"2021-03-12T00:00:00\",\"2021-03-13T00:00:00\",\"2021-03-14T00:00:00\",\"2021-03-15T00:00:00\",\"2021-03-16T00:00:00\",\"2021-03-17T00:00:00\",\"2021-03-18T00:00:00\",\"2021-03-19T00:00:00\",\"2021-03-20T00:00:00\",\"2021-03-21T00:00:00\",\"2021-03-22T00:00:00\",\"2021-03-23T00:00:00\",\"2021-03-24T00:00:00\",\"2021-03-25T00:00:00\",\"2021-03-26T00:00:00\",\"2021-03-27T00:00:00\",\"2021-03-28T00:00:00\",\"2021-03-29T00:00:00\",\"2021-03-30T00:00:00\",\"2021-03-31T00:00:00\",\"2021-04-01T00:00:00\",\"2021-04-02T00:00:00\",\"2021-04-03T00:00:00\",\"2021-04-04T00:00:00\",\"2021-04-05T00:00:00\",\"2021-04-06T00:00:00\",\"2021-04-07T00:00:00\",\"2021-04-08T00:00:00\",\"2021-04-09T00:00:00\",\"2021-04-10T00:00:00\",\"2021-04-11T00:00:00\",\"2021-04-12T00:00:00\",\"2021-04-13T00:00:00\",\"2021-04-14T00:00:00\",\"2021-04-15T00:00:00\",\"2021-04-16T00:00:00\",\"2021-04-17T00:00:00\",\"2021-04-18T00:00:00\",\"2021-04-19T00:00:00\",\"2021-04-20T00:00:00\",\"2021-04-21T00:00:00\",\"2021-04-22T00:00:00\",\"2021-04-23T00:00:00\",\"2021-04-24T00:00:00\",\"2021-04-25T00:00:00\",\"2021-04-26T00:00:00\",\"2021-04-27T00:00:00\",\"2021-04-28T00:00:00\",\"2021-04-29T00:00:00\",\"2021-04-30T00:00:00\",\"2021-05-01T00:00:00\",\"2021-05-02T00:00:00\",\"2021-05-03T00:00:00\",\"2021-05-04T00:00:00\",\"2021-05-05T00:00:00\",\"2021-05-06T00:00:00\",\"2021-05-07T00:00:00\",\"2021-05-08T00:00:00\",\"2021-05-09T00:00:00\",\"2021-05-10T00:00:00\",\"2021-05-11T00:00:00\",\"2021-05-12T00:00:00\",\"2021-05-13T00:00:00\",\"2021-05-14T00:00:00\",\"2021-05-15T00:00:00\",\"2021-05-16T00:00:00\",\"2021-05-17T00:00:00\",\"2021-05-18T00:00:00\",\"2021-05-19T00:00:00\",\"2021-05-20T00:00:00\",\"2021-05-21T00:00:00\",\"2021-05-22T00:00:00\",\"2021-05-23T00:00:00\",\"2021-05-24T00:00:00\",\"2021-05-25T00:00:00\",\"2021-05-26T00:00:00\",\"2021-05-27T00:00:00\",\"2021-05-28T00:00:00\",\"2021-05-29T00:00:00\",\"2021-05-30T00:00:00\",\"2021-05-31T00:00:00\",\"2021-06-01T00:00:00\",\"2021-06-02T00:00:00\",\"2021-06-03T00:00:00\",\"2021-06-04T00:00:00\",\"2021-06-05T00:00:00\",\"2021-06-06T00:00:00\",\"2021-06-07T00:00:00\",\"2021-06-08T00:00:00\",\"2021-06-09T00:00:00\",\"2021-06-10T00:00:00\",\"2021-06-11T00:00:00\",\"2021-06-12T00:00:00\",\"2021-06-13T00:00:00\",\"2021-06-14T00:00:00\",\"2021-06-15T00:00:00\",\"2021-06-16T00:00:00\",\"2021-06-17T00:00:00\",\"2021-06-18T00:00:00\",\"2021-06-19T00:00:00\",\"2021-06-20T00:00:00\",\"2021-06-21T00:00:00\",\"2021-06-22T00:00:00\",\"2021-06-23T00:00:00\",\"2021-06-24T00:00:00\",\"2021-06-25T00:00:00\",\"2021-06-26T00:00:00\",\"2021-06-27T00:00:00\",\"2021-06-28T00:00:00\",\"2021-06-29T00:00:00\",\"2021-06-30T00:00:00\",\"2021-07-01T00:00:00\",\"2021-07-02T00:00:00\",\"2021-07-03T00:00:00\",\"2021-07-04T00:00:00\",\"2021-07-05T00:00:00\",\"2021-07-06T00:00:00\",\"2021-07-07T00:00:00\",\"2021-07-08T00:00:00\",\"2021-07-09T00:00:00\",\"2021-07-10T00:00:00\",\"2021-07-11T00:00:00\",\"2021-07-12T00:00:00\",\"2021-07-13T00:00:00\",\"2021-07-14T00:00:00\",\"2021-07-15T00:00:00\",\"2021-07-16T00:00:00\",\"2021-07-17T00:00:00\",\"2021-07-18T00:00:00\",\"2021-07-19T00:00:00\",\"2021-07-20T00:00:00\",\"2021-07-21T00:00:00\",\"2021-07-22T00:00:00\",\"2021-07-23T00:00:00\",\"2021-07-24T00:00:00\",\"2021-07-25T00:00:00\",\"2021-07-26T00:00:00\",\"2021-07-27T00:00:00\",\"2021-07-28T00:00:00\",\"2021-07-29T00:00:00\",\"2021-07-30T00:00:00\",\"2021-07-31T00:00:00\",\"2021-08-01T00:00:00\",\"2021-08-02T00:00:00\",\"2021-08-03T00:00:00\",\"2021-08-04T00:00:00\",\"2021-08-05T00:00:00\",\"2021-08-06T00:00:00\",\"2021-08-07T00:00:00\",\"2021-08-08T00:00:00\",\"2021-08-09T00:00:00\",\"2021-08-10T00:00:00\",\"2021-08-11T00:00:00\",\"2021-08-12T00:00:00\",\"2021-08-13T00:00:00\",\"2021-08-14T00:00:00\",\"2021-08-15T00:00:00\",\"2021-08-16T00:00:00\",\"2021-08-17T00:00:00\",\"2021-08-18T00:00:00\",\"2021-08-19T00:00:00\",\"2021-08-20T00:00:00\",\"2021-08-21T00:00:00\",\"2021-08-22T00:00:00\",\"2021-08-23T00:00:00\",\"2021-08-24T00:00:00\",\"2021-08-25T00:00:00\",\"2021-08-26T00:00:00\",\"2021-08-27T00:00:00\",\"2021-08-28T00:00:00\",\"2021-08-29T00:00:00\",\"2021-08-30T00:00:00\",\"2021-08-31T00:00:00\",\"2021-09-01T00:00:00\",\"2021-09-02T00:00:00\",\"2021-09-03T00:00:00\",\"2021-09-04T00:00:00\",\"2021-09-05T00:00:00\",\"2021-09-06T00:00:00\",\"2021-09-07T00:00:00\",\"2021-09-08T00:00:00\",\"2021-09-09T00:00:00\",\"2021-09-10T00:00:00\",\"2021-09-11T00:00:00\",\"2021-09-12T00:00:00\",\"2021-09-13T00:00:00\",\"2021-09-14T00:00:00\",\"2021-09-15T00:00:00\",\"2021-09-16T00:00:00\",\"2021-09-17T00:00:00\",\"2021-09-18T00:00:00\",\"2021-09-19T00:00:00\",\"2021-09-20T00:00:00\",\"2021-09-21T00:00:00\",\"2021-09-22T00:00:00\",\"2021-09-23T00:00:00\",\"2021-09-24T00:00:00\",\"2021-09-25T00:00:00\",\"2021-09-26T00:00:00\",\"2021-09-27T00:00:00\",\"2021-09-28T00:00:00\",\"2021-09-29T00:00:00\",\"2021-09-30T00:00:00\",\"2021-10-01T00:00:00\",\"2021-10-02T00:00:00\",\"2021-10-03T00:00:00\",\"2021-10-04T00:00:00\",\"2021-10-05T00:00:00\",\"2021-10-06T00:00:00\",\"2021-10-07T00:00:00\",\"2021-10-08T00:00:00\",\"2021-10-09T00:00:00\",\"2021-10-10T00:00:00\",\"2021-10-11T00:00:00\",\"2021-10-12T00:00:00\",\"2021-10-13T00:00:00\",\"2021-10-14T00:00:00\",\"2021-10-15T00:00:00\",\"2021-10-16T00:00:00\",\"2021-10-17T00:00:00\",\"2021-10-18T00:00:00\",\"2021-10-19T00:00:00\",\"2021-10-20T00:00:00\",\"2021-10-21T00:00:00\",\"2021-10-22T00:00:00\",\"2021-10-23T00:00:00\",\"2021-10-24T00:00:00\",\"2021-10-25T00:00:00\",\"2021-10-26T00:00:00\",\"2021-10-27T00:00:00\",\"2021-10-28T00:00:00\",\"2021-10-29T00:00:00\",\"2021-10-30T00:00:00\",\"2021-10-31T00:00:00\",\"2021-11-01T00:00:00\",\"2021-11-02T00:00:00\",\"2021-11-03T00:00:00\",\"2021-11-04T00:00:00\",\"2021-11-05T00:00:00\",\"2021-11-06T00:00:00\",\"2021-11-07T00:00:00\",\"2021-11-08T00:00:00\",\"2021-11-09T00:00:00\",\"2021-11-10T00:00:00\",\"2021-11-11T00:00:00\",\"2021-11-12T00:00:00\",\"2021-11-13T00:00:00\",\"2021-11-14T00:00:00\",\"2021-11-15T00:00:00\"],\"xaxis\":\"x\",\"y\":[1,1,2,2,4,1,1,4,1,1,1,2,1,1,2,1,3,7,23,47,23,35,41,84,157,186,186,142,103,345,596,755,991,1459,1303,980,2035,3026,3599,4056,4043,3356,2262,3729,4880,5676,5900,5980,4720,3075,4117,6059,6254,6546,6193,4342,2535,3660,5188,5273,4906,3353,2884,1864,1596,2463,3321,3415,3042,2106,1374,1709,2182,2486,2088,1903,1272,703,1117,1460,1430,1457,919,620,424,729,1089,1221,1198,979,678,341,685,854,909,808,727,459,315,542,727,828,419,524,337,218,412,617,648,529,444,374,179,137,304,496,528,437,285,164,295,425,518,281,352,299,172,259,518,862,763,996,569,222,442,540,506,564,574,325,200,415,457,482,472,426,292,142,322,391,450,425,424,276,131,326,465,540,553,521,440,179,453,522,699,694,805,541,211,527,753,909,860,914,561,305,789,947,1106,1165,1003,710,319,1101,1194,1541,1490,1374,754,492,1546,1533,1754,1620,1656,918,565,1426,1485,1615,1538,1390,833,536,1182,1317,1414,1518,1490,1103,582,1408,1376,1743,1591,1651,1223,761,1484,2004,2191,2351,2167,1393,689,1654,1810,2207,2391,2325,1786,871,1830,2163,2730,2922,2920,2196,1152,2403,3582,4482,4651,5054,3626,2266,4182,5356,7241,7908,7958,5687,3672,6476,9426,12382,13907,14018,11097,7433,12008,15922,19218,19825,19404,13984,10511,15232,19323,21187,22247,21552,15912,10106,15922,19591,22676,23399,21316,15787,8839,14672,20325,23665,23705,22265,14770,8818,15059,19389,22034,22751,20117,14923,8782,13275,19202,23183,24401,22234,15710,10231,16432,22776,27632,29020,27245,20598,12490,19046,26921,31349,31951,29759,21695,13890,20281,28963,33965,21152,13166,11534,9801,15723,27561,31048,19573,10263,9999,8820,14284,27409,27962,26101,24510,16657,8463,13460,22578,24091,20385,18285,13431,6593,9145,18455,19482,16799,15017,11569,5015,6737,15504,15815,13353,12554,9937,4196,5857,12292,13405,11500,9998,8383,3091,4182,9093,10275,9357,8534,5593,3759,4379,9236,9998,9221,8720,7782,3037,4399,10179,11289,9909,9449,7651,3450,4677,10950,11301,10119,9658,8291,3360,4834,11493,13985,13143,12532,10473,4839,6819,15783,18354,16713,15700,13213,5956,8874,19447,22644,21864,20026,15769,7577,10987,20380,23994,21424,15480,10632,7147,7041,11506,23715,25759,23289,18039,8857,12100,26714,28541,25062,23071,17699,8819,12279,27932,29370,25450,22947,18007,8675,12196,25244,24996,21421,19152,15061,6658,9124,20975,20847,17151,15476,12044,5325,7386,16751,16485,9671,7628,8590,4276,5235,12329,11306,8425,7579,5815,1999,1802,3667,7140,6811,5154,3686,1604,2440,5102,4488,2937,2272,2305,1125,1710,3527,2861,2269,1841,1305,514,932,1700,1443,1151,1027,739,274,599,1054,900,821,737,485,222,512,895,860,707,667,508,209,548,1057,962,958,945,790,313,790,1767,1625,1516,1618,1282,497,1426,2336,2289,2222,2116,1595,641,1660,3091,2838,2634,2524,1962,783,2111,3753,3550,3530,3531,2794,1137,2924,5557,5642,5439,5787,4630,2072,4507,8912,8753,8664,8832,6828,3104,6554,12888,12718,11615,10386,8392,3748,7060,14568,14731,12710,12049,9480,4053,7000,15121,14149,12370,11136,8564,3286,6859,13381,12219,10261,8878,7041,2779,5411,11244,10443,9088,8400,6350,2640,5760,12631,11375,9496,8381,6151,2644,5648,12204,11085,10113,9197,7019,2637,6225,12628,12049,11297,11118,8479,3404,8059,19075,17914,17209,16628,13291,5162,11788,26300,27298,24262,22522,17071,7462,11399,24294,36031,36374,33622,23747,11834,24024,46575,50214,48466,43442,31699,17441,21088],\"yaxis\":\"y\"}],                        {\"barmode\":\"relative\",\"coloraxis\":{\"colorbar\":{\"title\":{\"text\":\"cases\"}},\"colorscale\":[[0.0,\"rgb(103,0,31)\"],[0.1,\"rgb(178,24,43)\"],[0.2,\"rgb(214,96,77)\"],[0.3,\"rgb(244,165,130)\"],[0.4,\"rgb(253,219,199)\"],[0.5,\"rgb(247,247,247)\"],[0.6,\"rgb(209,229,240)\"],[0.7,\"rgb(146,197,222)\"],[0.8,\"rgb(67,147,195)\"],[0.9,\"rgb(33,102,172)\"],[1.0,\"rgb(5,48,97)\"]]},\"height\":400,\"legend\":{\"tracegroupgap\":0},\"template\":{\"data\":{\"bar\":[{\"error_x\":{\"color\":\"#2a3f5f\"},\"error_y\":{\"color\":\"#2a3f5f\"},\"marker\":{\"line\":{\"color\":\"#E5ECF6\",\"width\":0.5},\"pattern\":{\"fillmode\":\"overlay\",\"size\":10,\"solidity\":0.2}},\"type\":\"bar\"}],\"barpolar\":[{\"marker\":{\"line\":{\"color\":\"#E5ECF6\",\"width\":0.5},\"pattern\":{\"fillmode\":\"overlay\",\"size\":10,\"solidity\":0.2}},\"type\":\"barpolar\"}],\"carpet\":[{\"aaxis\":{\"endlinecolor\":\"#2a3f5f\",\"gridcolor\":\"white\",\"linecolor\":\"white\",\"minorgridcolor\":\"white\",\"startlinecolor\":\"#2a3f5f\"},\"baxis\":{\"endlinecolor\":\"#2a3f5f\",\"gridcolor\":\"white\",\"linecolor\":\"white\",\"minorgridcolor\":\"white\",\"startlinecolor\":\"#2a3f5f\"},\"type\":\"carpet\"}],\"choropleth\":[{\"colorbar\":{\"outlinewidth\":0,\"ticks\":\"\"},\"type\":\"choropleth\"}],\"contour\":[{\"colorbar\":{\"outlinewidth\":0,\"ticks\":\"\"},\"colorscale\":[[0.0,\"#0d0887\"],[0.1111111111111111,\"#46039f\"],[0.2222222222222222,\"#7201a8\"],[0.3333333333333333,\"#9c179e\"],[0.4444444444444444,\"#bd3786\"],[0.5555555555555556,\"#d8576b\"],[0.6666666666666666,\"#ed7953\"],[0.7777777777777778,\"#fb9f3a\"],[0.8888888888888888,\"#fdca26\"],[1.0,\"#f0f921\"]],\"type\":\"contour\"}],\"contourcarpet\":[{\"colorbar\":{\"outlinewidth\":0,\"ticks\":\"\"},\"type\":\"contourcarpet\"}],\"heatmap\":[{\"colorbar\":{\"outlinewidth\":0,\"ticks\":\"\"},\"colorscale\":[[0.0,\"#0d0887\"],[0.1111111111111111,\"#46039f\"],[0.2222222222222222,\"#7201a8\"],[0.3333333333333333,\"#9c179e\"],[0.4444444444444444,\"#bd3786\"],[0.5555555555555556,\"#d8576b\"],[0.6666666666666666,\"#ed7953\"],[0.7777777777777778,\"#fb9f3a\"],[0.8888888888888888,\"#fdca26\"],[1.0,\"#f0f921\"]],\"type\":\"heatmap\"}],\"heatmapgl\":[{\"colorbar\":{\"outlinewidth\":0,\"ticks\":\"\"},\"colorscale\":[[0.0,\"#0d0887\"],[0.1111111111111111,\"#46039f\"],[0.2222222222222222,\"#7201a8\"],[0.3333333333333333,\"#9c179e\"],[0.4444444444444444,\"#bd3786\"],[0.5555555555555556,\"#d8576b\"],[0.6666666666666666,\"#ed7953\"],[0.7777777777777778,\"#fb9f3a\"],[0.8888888888888888,\"#fdca26\"],[1.0,\"#f0f921\"]],\"type\":\"heatmapgl\"}],\"histogram\":[{\"marker\":{\"pattern\":{\"fillmode\":\"overlay\",\"size\":10,\"solidity\":0.2}},\"type\":\"histogram\"}],\"histogram2d\":[{\"colorbar\":{\"outlinewidth\":0,\"ticks\":\"\"},\"colorscale\":[[0.0,\"#0d0887\"],[0.1111111111111111,\"#46039f\"],[0.2222222222222222,\"#7201a8\"],[0.3333333333333333,\"#9c179e\"],[0.4444444444444444,\"#bd3786\"],[0.5555555555555556,\"#d8576b\"],[0.6666666666666666,\"#ed7953\"],[0.7777777777777778,\"#fb9f3a\"],[0.8888888888888888,\"#fdca26\"],[1.0,\"#f0f921\"]],\"type\":\"histogram2d\"}],\"histogram2dcontour\":[{\"colorbar\":{\"outlinewidth\":0,\"ticks\":\"\"},\"colorscale\":[[0.0,\"#0d0887\"],[0.1111111111111111,\"#46039f\"],[0.2222222222222222,\"#7201a8\"],[0.3333333333333333,\"#9c179e\"],[0.4444444444444444,\"#bd3786\"],[0.5555555555555556,\"#d8576b\"],[0.6666666666666666,\"#ed7953\"],[0.7777777777777778,\"#fb9f3a\"],[0.8888888888888888,\"#fdca26\"],[1.0,\"#f0f921\"]],\"type\":\"histogram2dcontour\"}],\"mesh3d\":[{\"colorbar\":{\"outlinewidth\":0,\"ticks\":\"\"},\"type\":\"mesh3d\"}],\"parcoords\":[{\"line\":{\"colorbar\":{\"outlinewidth\":0,\"ticks\":\"\"}},\"type\":\"parcoords\"}],\"pie\":[{\"automargin\":true,\"type\":\"pie\"}],\"scatter\":[{\"marker\":{\"colorbar\":{\"outlinewidth\":0,\"ticks\":\"\"}},\"type\":\"scatter\"}],\"scatter3d\":[{\"line\":{\"colorbar\":{\"outlinewidth\":0,\"ticks\":\"\"}},\"marker\":{\"colorbar\":{\"outlinewidth\":0,\"ticks\":\"\"}},\"type\":\"scatter3d\"}],\"scattercarpet\":[{\"marker\":{\"colorbar\":{\"outlinewidth\":0,\"ticks\":\"\"}},\"type\":\"scattercarpet\"}],\"scattergeo\":[{\"marker\":{\"colorbar\":{\"outlinewidth\":0,\"ticks\":\"\"}},\"type\":\"scattergeo\"}],\"scattergl\":[{\"marker\":{\"colorbar\":{\"outlinewidth\":0,\"ticks\":\"\"}},\"type\":\"scattergl\"}],\"scattermapbox\":[{\"marker\":{\"colorbar\":{\"outlinewidth\":0,\"ticks\":\"\"}},\"type\":\"scattermapbox\"}],\"scatterpolar\":[{\"marker\":{\"colorbar\":{\"outlinewidth\":0,\"ticks\":\"\"}},\"type\":\"scatterpolar\"}],\"scatterpolargl\":[{\"marker\":{\"colorbar\":{\"outlinewidth\":0,\"ticks\":\"\"}},\"type\":\"scatterpolargl\"}],\"scatterternary\":[{\"marker\":{\"colorbar\":{\"outlinewidth\":0,\"ticks\":\"\"}},\"type\":\"scatterternary\"}],\"surface\":[{\"colorbar\":{\"outlinewidth\":0,\"ticks\":\"\"},\"colorscale\":[[0.0,\"#0d0887\"],[0.1111111111111111,\"#46039f\"],[0.2222222222222222,\"#7201a8\"],[0.3333333333333333,\"#9c179e\"],[0.4444444444444444,\"#bd3786\"],[0.5555555555555556,\"#d8576b\"],[0.6666666666666666,\"#ed7953\"],[0.7777777777777778,\"#fb9f3a\"],[0.8888888888888888,\"#fdca26\"],[1.0,\"#f0f921\"]],\"type\":\"surface\"}],\"table\":[{\"cells\":{\"fill\":{\"color\":\"#EBF0F8\"},\"line\":{\"color\":\"white\"}},\"header\":{\"fill\":{\"color\":\"#C8D4E3\"},\"line\":{\"color\":\"white\"}},\"type\":\"table\"}]},\"layout\":{\"annotationdefaults\":{\"arrowcolor\":\"#2a3f5f\",\"arrowhead\":0,\"arrowwidth\":1},\"autotypenumbers\":\"strict\",\"coloraxis\":{\"colorbar\":{\"outlinewidth\":0,\"ticks\":\"\"}},\"colorscale\":{\"diverging\":[[0,\"#8e0152\"],[0.1,\"#c51b7d\"],[0.2,\"#de77ae\"],[0.3,\"#f1b6da\"],[0.4,\"#fde0ef\"],[0.5,\"#f7f7f7\"],[0.6,\"#e6f5d0\"],[0.7,\"#b8e186\"],[0.8,\"#7fbc41\"],[0.9,\"#4d9221\"],[1,\"#276419\"]],\"sequential\":[[0.0,\"#0d0887\"],[0.1111111111111111,\"#46039f\"],[0.2222222222222222,\"#7201a8\"],[0.3333333333333333,\"#9c179e\"],[0.4444444444444444,\"#bd3786\"],[0.5555555555555556,\"#d8576b\"],[0.6666666666666666,\"#ed7953\"],[0.7777777777777778,\"#fb9f3a\"],[0.8888888888888888,\"#fdca26\"],[1.0,\"#f0f921\"]],\"sequentialminus\":[[0.0,\"#0d0887\"],[0.1111111111111111,\"#46039f\"],[0.2222222222222222,\"#7201a8\"],[0.3333333333333333,\"#9c179e\"],[0.4444444444444444,\"#bd3786\"],[0.5555555555555556,\"#d8576b\"],[0.6666666666666666,\"#ed7953\"],[0.7777777777777778,\"#fb9f3a\"],[0.8888888888888888,\"#fdca26\"],[1.0,\"#f0f921\"]]},\"colorway\":[\"#636efa\",\"#EF553B\",\"#00cc96\",\"#ab63fa\",\"#FFA15A\",\"#19d3f3\",\"#FF6692\",\"#B6E880\",\"#FF97FF\",\"#FECB52\"],\"font\":{\"color\":\"#2a3f5f\"},\"geo\":{\"bgcolor\":\"white\",\"lakecolor\":\"white\",\"landcolor\":\"#E5ECF6\",\"showlakes\":true,\"showland\":true,\"subunitcolor\":\"white\"},\"hoverlabel\":{\"align\":\"left\"},\"hovermode\":\"closest\",\"mapbox\":{\"style\":\"light\"},\"paper_bgcolor\":\"white\",\"plot_bgcolor\":\"#E5ECF6\",\"polar\":{\"angularaxis\":{\"gridcolor\":\"white\",\"linecolor\":\"white\",\"ticks\":\"\"},\"bgcolor\":\"#E5ECF6\",\"radialaxis\":{\"gridcolor\":\"white\",\"linecolor\":\"white\",\"ticks\":\"\"}},\"scene\":{\"xaxis\":{\"backgroundcolor\":\"#E5ECF6\",\"gridcolor\":\"white\",\"gridwidth\":2,\"linecolor\":\"white\",\"showbackground\":true,\"ticks\":\"\",\"zerolinecolor\":\"white\"},\"yaxis\":{\"backgroundcolor\":\"#E5ECF6\",\"gridcolor\":\"white\",\"gridwidth\":2,\"linecolor\":\"white\",\"showbackground\":true,\"ticks\":\"\",\"zerolinecolor\":\"white\"},\"zaxis\":{\"backgroundcolor\":\"#E5ECF6\",\"gridcolor\":\"white\",\"gridwidth\":2,\"linecolor\":\"white\",\"showbackground\":true,\"ticks\":\"\",\"zerolinecolor\":\"white\"}},\"shapedefaults\":{\"line\":{\"color\":\"#2a3f5f\"}},\"ternary\":{\"aaxis\":{\"gridcolor\":\"white\",\"linecolor\":\"white\",\"ticks\":\"\"},\"baxis\":{\"gridcolor\":\"white\",\"linecolor\":\"white\",\"ticks\":\"\"},\"bgcolor\":\"#E5ECF6\",\"caxis\":{\"gridcolor\":\"white\",\"linecolor\":\"white\",\"ticks\":\"\"}},\"title\":{\"x\":0.05},\"xaxis\":{\"automargin\":true,\"gridcolor\":\"white\",\"linecolor\":\"white\",\"ticks\":\"\",\"title\":{\"standoff\":15},\"zerolinecolor\":\"white\",\"zerolinewidth\":2},\"yaxis\":{\"automargin\":true,\"gridcolor\":\"white\",\"linecolor\":\"white\",\"ticks\":\"\",\"title\":{\"standoff\":15},\"zerolinecolor\":\"white\",\"zerolinewidth\":2}}},\"title\":{\"text\":\"Daily Cases of COVID-19 in Germany\"},\"xaxis\":{\"anchor\":\"y\",\"domain\":[0.0,1.0],\"title\":{\"text\":\"date\"}},\"yaxis\":{\"anchor\":\"x\",\"domain\":[0.0,1.0],\"title\":{\"text\":\"cases\"}}},                        {\"responsive\": true}                    ).then(function(){\n",
       "                            \n",
       "var gd = document.getElementById('12a213ec-feee-4a3b-9146-77388a013b51');\n",
       "var x = new MutationObserver(function (mutations, observer) {{\n",
       "        var display = window.getComputedStyle(gd).display;\n",
       "        if (!display || display === 'none') {{\n",
       "            console.log([gd, 'removed!']);\n",
       "            Plotly.purge(gd);\n",
       "            observer.disconnect();\n",
       "        }}\n",
       "}});\n",
       "\n",
       "// Listen for the removal of the full notebook cells\n",
       "var notebookContainer = gd.closest('#notebook-container');\n",
       "if (notebookContainer) {{\n",
       "    x.observe(notebookContainer, {childList: true});\n",
       "}}\n",
       "\n",
       "// Listen for the clearing of the current output cell\n",
       "var outputEl = gd.closest('.output');\n",
       "if (outputEl) {{\n",
       "    x.observe(outputEl, {childList: true});\n",
       "}}\n",
       "\n",
       "                        })                };                });            </script>        </div>"
      ]
     },
     "metadata": {},
     "output_type": "display_data"
    }
   ],
   "source": [
    "# Grouping the data by date\n",
    "cases = covid.groupby('date', as_index = False).agg({'cases' : 'sum'})\n",
    "\n",
    "# Plot bar chart\n",
    "fig = px.bar(cases, x = 'date', y = 'cases',height = 400,\n",
    "             color = 'cases', \n",
    "             color_continuous_scale = px.colors.diverging.RdBu,\n",
    "             title = 'Daily Cases of COVID-19 in Germany')\n",
    "fig.show()"
   ]
  },
  {
   "cell_type": "markdown",
   "id": "51bd90f4",
   "metadata": {
    "papermill": {
     "duration": 0.035725,
     "end_time": "2021-11-17T12:23:43.000565",
     "exception": false,
     "start_time": "2021-11-17T12:23:42.964840",
     "status": "completed"
    },
    "tags": []
   },
   "source": [
    "<b>Observations :</b> \n",
    "\n",
    "The daily cases graph shows that the COVID-19 pandemic has known **4 peak infection periods concentrated around April 2020, January 2021, April 2021 and a fourth peak currently happening**. These peaks are separated by low infection periods, but we notice that it only took approximately 9 months between the first and second peak, approximately 4 months between the second and third, and 7 months between the third and the start of the fourth one.\n",
    "\n",
    "**The current peak, or what is also designated as an infection wave, is the most severe so far, registering the highest number of cases in one day so far at 34.696 cases on 03-11-2021.**\n",
    "\n",
    "**We can see a pattern in the timing of the waves so far, occuring in the Easter period and the Christmas/ New Year period.** This can be explained by the rise in travels and family gatherings in these periods which are known to have a school break."
   ]
  },
  {
   "cell_type": "markdown",
   "id": "bdea9fb2",
   "metadata": {
    "papermill": {
     "duration": 0.034438,
     "end_time": "2021-11-17T12:23:43.071721",
     "exception": false,
     "start_time": "2021-11-17T12:23:43.037283",
     "status": "completed"
    },
    "tags": []
   },
   "source": [
    "#### 2.2.2 Daily Deaths<a name=\"222\"></a>"
   ]
  },
  {
   "cell_type": "markdown",
   "id": "939f6abd",
   "metadata": {
    "papermill": {
     "duration": 0.03397,
     "end_time": "2021-11-17T12:23:43.140798",
     "exception": false,
     "start_time": "2021-11-17T12:23:43.106828",
     "status": "completed"
    },
    "tags": []
   },
   "source": [
    "We group the **`covid`** dataset by date, to be able to see the total daily deaths."
   ]
  },
  {
   "cell_type": "code",
   "execution_count": 11,
   "id": "9dfb8cec",
   "metadata": {
    "execution": {
     "iopub.execute_input": "2021-11-17T12:23:43.213155Z",
     "iopub.status.busy": "2021-11-17T12:23:43.212496Z",
     "iopub.status.idle": "2021-11-17T12:23:43.303786Z",
     "shell.execute_reply": "2021-11-17T12:23:43.302987Z",
     "shell.execute_reply.started": "2021-11-11T16:41:49.335469Z"
    },
    "papermill": {
     "duration": 0.128761,
     "end_time": "2021-11-17T12:23:43.303938",
     "exception": false,
     "start_time": "2021-11-17T12:23:43.175177",
     "status": "completed"
    },
    "tags": []
   },
   "outputs": [
    {
     "data": {
      "text/html": [
       "<div>                            <div id=\"d5e3cc4d-56cd-44a2-85f6-867c173845f8\" class=\"plotly-graph-div\" style=\"height:400px; width:100%;\"></div>            <script type=\"text/javascript\">                require([\"plotly\"], function(Plotly) {                    window.PLOTLYENV=window.PLOTLYENV || {};                                    if (document.getElementById(\"d5e3cc4d-56cd-44a2-85f6-867c173845f8\")) {                    Plotly.newPlot(                        \"d5e3cc4d-56cd-44a2-85f6-867c173845f8\",                        [{\"alignmentgroup\":\"True\",\"hovertemplate\":\"date=%{x}<br>deaths=%{marker.color}<extra></extra>\",\"legendgroup\":\"\",\"marker\":{\"color\":[0,0,0,0,0,0,0,0,0,0,0,0,0,0,1,0,0,0,0,0,0,0,0,0,2,1,4,4,1,7,4,10,12,16,20,15,35,44,63,64,96,95,79,131,168,217,267,264,248,166,267,382,376,417,397,245,184,291,340,342,326,208,201,167,163,218,231,191,175,123,119,150,139,126,117,84,80,30,75,83,58,71,48,36,16,41,45,40,49,45,23,14,26,32,27,20,31,20,8,23,27,23,7,16,11,5,13,15,12,9,8,4,3,5,8,11,7,5,5,4,3,1,10,1,11,1,6,4,11,7,3,9,4,3,1,7,2,5,7,2,0,4,1,5,4,6,2,4,6,4,6,5,3,0,1,5,2,6,7,6,0,4,4,4,9,3,10,3,0,7,5,5,5,13,1,1,8,6,3,6,5,2,2,2,2,10,2,6,4,5,8,10,1,7,3,2,0,5,2,2,1,3,2,3,4,3,3,7,7,8,4,6,19,9,6,12,8,8,5,16,15,9,15,12,10,18,15,11,18,15,26,7,19,15,16,26,25,12,9,34,27,35,42,44,38,25,59,56,63,81,90,60,54,87,129,143,205,199,123,126,240,237,249,269,258,195,170,278,329,313,337,253,218,163,318,343,419,429,417,371,222,447,508,533,564,528,342,283,472,506,588,655,624,402,327,536,654,734,850,809,513,359,692,859,847,1076,976,767,516,826,1014,1065,1162,1043,771,542,919,1198,1247,711,508,576,526,889,1245,1283,776,413,583,493,772,1035,913,1029,926,598,423,584,891,963,943,817,536,322,534,759,767,708,630,444,212,424,575,619,476,474,305,188,314,391,443,439,311,238,101,241,303,306,304,252,161,106,192,291,273,238,220,156,97,180,218,229,198,182,130,73,161,195,169,165,140,132,82,135,178,207,196,173,125,75,147,231,215,236,196,143,106,161,272,263,254,256,195,110,234,288,301,250,198,175,125,163,263,291,279,248,213,112,198,289,309,259,234,195,128,214,298,287,277,244,181,98,208,237,225,207,181,134,95,139,205,187,148,153,96,68,102,140,129,75,85,79,48,80,88,73,61,68,45,23,23,51,61,43,35,27,17,25,25,31,19,14,16,10,12,12,10,10,11,4,7,13,10,9,7,4,0,2,5,9,3,5,6,0,2,4,6,1,5,3,2,2,2,5,3,2,7,5,0,4,6,6,2,3,5,3,4,8,7,5,4,9,1,5,7,19,10,13,7,6,12,11,10,16,17,14,5,17,24,21,27,18,19,13,21,35,42,36,35,27,21,46,53,59,44,51,51,29,48,73,71,72,62,54,22,66,80,58,68,65,53,23,55,67,78,47,47,36,19,53,52,53,48,50,39,23,56,57,77,57,55,42,22,47,79,81,74,62,38,27,65,80,68,73,80,38,36,105,132,106,127,113,84,38,98,121,136,119,106,65,55,70,133,128,106,81,39,34,64,66,38,35,24,5,9,7],\"coloraxis\":\"coloraxis\",\"pattern\":{\"shape\":\"\"}},\"name\":\"\",\"offsetgroup\":\"\",\"orientation\":\"v\",\"showlegend\":false,\"textposition\":\"auto\",\"type\":\"bar\",\"x\":[\"2020-01-02T00:00:00\",\"2020-01-23T00:00:00\",\"2020-01-28T00:00:00\",\"2020-01-29T00:00:00\",\"2020-01-31T00:00:00\",\"2020-02-01T00:00:00\",\"2020-02-03T00:00:00\",\"2020-02-04T00:00:00\",\"2020-02-05T00:00:00\",\"2020-02-06T00:00:00\",\"2020-02-07T00:00:00\",\"2020-02-11T00:00:00\",\"2020-02-17T00:00:00\",\"2020-02-18T00:00:00\",\"2020-02-20T00:00:00\",\"2020-02-24T00:00:00\",\"2020-02-25T00:00:00\",\"2020-02-26T00:00:00\",\"2020-02-27T00:00:00\",\"2020-02-28T00:00:00\",\"2020-02-29T00:00:00\",\"2020-03-01T00:00:00\",\"2020-03-02T00:00:00\",\"2020-03-03T00:00:00\",\"2020-03-04T00:00:00\",\"2020-03-05T00:00:00\",\"2020-03-06T00:00:00\",\"2020-03-07T00:00:00\",\"2020-03-08T00:00:00\",\"2020-03-09T00:00:00\",\"2020-03-10T00:00:00\",\"2020-03-11T00:00:00\",\"2020-03-12T00:00:00\",\"2020-03-13T00:00:00\",\"2020-03-14T00:00:00\",\"2020-03-15T00:00:00\",\"2020-03-16T00:00:00\",\"2020-03-17T00:00:00\",\"2020-03-18T00:00:00\",\"2020-03-19T00:00:00\",\"2020-03-20T00:00:00\",\"2020-03-21T00:00:00\",\"2020-03-22T00:00:00\",\"2020-03-23T00:00:00\",\"2020-03-24T00:00:00\",\"2020-03-25T00:00:00\",\"2020-03-26T00:00:00\",\"2020-03-27T00:00:00\",\"2020-03-28T00:00:00\",\"2020-03-29T00:00:00\",\"2020-03-30T00:00:00\",\"2020-03-31T00:00:00\",\"2020-04-01T00:00:00\",\"2020-04-02T00:00:00\",\"2020-04-03T00:00:00\",\"2020-04-04T00:00:00\",\"2020-04-05T00:00:00\",\"2020-04-06T00:00:00\",\"2020-04-07T00:00:00\",\"2020-04-08T00:00:00\",\"2020-04-09T00:00:00\",\"2020-04-10T00:00:00\",\"2020-04-11T00:00:00\",\"2020-04-12T00:00:00\",\"2020-04-13T00:00:00\",\"2020-04-14T00:00:00\",\"2020-04-15T00:00:00\",\"2020-04-16T00:00:00\",\"2020-04-17T00:00:00\",\"2020-04-18T00:00:00\",\"2020-04-19T00:00:00\",\"2020-04-20T00:00:00\",\"2020-04-21T00:00:00\",\"2020-04-22T00:00:00\",\"2020-04-23T00:00:00\",\"2020-04-24T00:00:00\",\"2020-04-25T00:00:00\",\"2020-04-26T00:00:00\",\"2020-04-27T00:00:00\",\"2020-04-28T00:00:00\",\"2020-04-29T00:00:00\",\"2020-04-30T00:00:00\",\"2020-05-01T00:00:00\",\"2020-05-02T00:00:00\",\"2020-05-03T00:00:00\",\"2020-05-04T00:00:00\",\"2020-05-05T00:00:00\",\"2020-05-06T00:00:00\",\"2020-05-07T00:00:00\",\"2020-05-08T00:00:00\",\"2020-05-09T00:00:00\",\"2020-05-10T00:00:00\",\"2020-05-11T00:00:00\",\"2020-05-12T00:00:00\",\"2020-05-13T00:00:00\",\"2020-05-14T00:00:00\",\"2020-05-15T00:00:00\",\"2020-05-16T00:00:00\",\"2020-05-17T00:00:00\",\"2020-05-18T00:00:00\",\"2020-05-19T00:00:00\",\"2020-05-20T00:00:00\",\"2020-05-21T00:00:00\",\"2020-05-22T00:00:00\",\"2020-05-23T00:00:00\",\"2020-05-24T00:00:00\",\"2020-05-25T00:00:00\",\"2020-05-26T00:00:00\",\"2020-05-27T00:00:00\",\"2020-05-28T00:00:00\",\"2020-05-29T00:00:00\",\"2020-05-30T00:00:00\",\"2020-05-31T00:00:00\",\"2020-06-01T00:00:00\",\"2020-06-02T00:00:00\",\"2020-06-03T00:00:00\",\"2020-06-04T00:00:00\",\"2020-06-05T00:00:00\",\"2020-06-06T00:00:00\",\"2020-06-07T00:00:00\",\"2020-06-08T00:00:00\",\"2020-06-09T00:00:00\",\"2020-06-10T00:00:00\",\"2020-06-11T00:00:00\",\"2020-06-12T00:00:00\",\"2020-06-13T00:00:00\",\"2020-06-14T00:00:00\",\"2020-06-15T00:00:00\",\"2020-06-16T00:00:00\",\"2020-06-17T00:00:00\",\"2020-06-18T00:00:00\",\"2020-06-19T00:00:00\",\"2020-06-20T00:00:00\",\"2020-06-21T00:00:00\",\"2020-06-22T00:00:00\",\"2020-06-23T00:00:00\",\"2020-06-24T00:00:00\",\"2020-06-25T00:00:00\",\"2020-06-26T00:00:00\",\"2020-06-27T00:00:00\",\"2020-06-28T00:00:00\",\"2020-06-29T00:00:00\",\"2020-06-30T00:00:00\",\"2020-07-01T00:00:00\",\"2020-07-02T00:00:00\",\"2020-07-03T00:00:00\",\"2020-07-04T00:00:00\",\"2020-07-05T00:00:00\",\"2020-07-06T00:00:00\",\"2020-07-07T00:00:00\",\"2020-07-08T00:00:00\",\"2020-07-09T00:00:00\",\"2020-07-10T00:00:00\",\"2020-07-11T00:00:00\",\"2020-07-12T00:00:00\",\"2020-07-13T00:00:00\",\"2020-07-14T00:00:00\",\"2020-07-15T00:00:00\",\"2020-07-16T00:00:00\",\"2020-07-17T00:00:00\",\"2020-07-18T00:00:00\",\"2020-07-19T00:00:00\",\"2020-07-20T00:00:00\",\"2020-07-21T00:00:00\",\"2020-07-22T00:00:00\",\"2020-07-23T00:00:00\",\"2020-07-24T00:00:00\",\"2020-07-25T00:00:00\",\"2020-07-26T00:00:00\",\"2020-07-27T00:00:00\",\"2020-07-28T00:00:00\",\"2020-07-29T00:00:00\",\"2020-07-30T00:00:00\",\"2020-07-31T00:00:00\",\"2020-08-01T00:00:00\",\"2020-08-02T00:00:00\",\"2020-08-03T00:00:00\",\"2020-08-04T00:00:00\",\"2020-08-05T00:00:00\",\"2020-08-06T00:00:00\",\"2020-08-07T00:00:00\",\"2020-08-08T00:00:00\",\"2020-08-09T00:00:00\",\"2020-08-10T00:00:00\",\"2020-08-11T00:00:00\",\"2020-08-12T00:00:00\",\"2020-08-13T00:00:00\",\"2020-08-14T00:00:00\",\"2020-08-15T00:00:00\",\"2020-08-16T00:00:00\",\"2020-08-17T00:00:00\",\"2020-08-18T00:00:00\",\"2020-08-19T00:00:00\",\"2020-08-20T00:00:00\",\"2020-08-21T00:00:00\",\"2020-08-22T00:00:00\",\"2020-08-23T00:00:00\",\"2020-08-24T00:00:00\",\"2020-08-25T00:00:00\",\"2020-08-26T00:00:00\",\"2020-08-27T00:00:00\",\"2020-08-28T00:00:00\",\"2020-08-29T00:00:00\",\"2020-08-30T00:00:00\",\"2020-08-31T00:00:00\",\"2020-09-01T00:00:00\",\"2020-09-02T00:00:00\",\"2020-09-03T00:00:00\",\"2020-09-04T00:00:00\",\"2020-09-05T00:00:00\",\"2020-09-06T00:00:00\",\"2020-09-07T00:00:00\",\"2020-09-08T00:00:00\",\"2020-09-09T00:00:00\",\"2020-09-10T00:00:00\",\"2020-09-11T00:00:00\",\"2020-09-12T00:00:00\",\"2020-09-13T00:00:00\",\"2020-09-14T00:00:00\",\"2020-09-15T00:00:00\",\"2020-09-16T00:00:00\",\"2020-09-17T00:00:00\",\"2020-09-18T00:00:00\",\"2020-09-19T00:00:00\",\"2020-09-20T00:00:00\",\"2020-09-21T00:00:00\",\"2020-09-22T00:00:00\",\"2020-09-23T00:00:00\",\"2020-09-24T00:00:00\",\"2020-09-25T00:00:00\",\"2020-09-26T00:00:00\",\"2020-09-27T00:00:00\",\"2020-09-28T00:00:00\",\"2020-09-29T00:00:00\",\"2020-09-30T00:00:00\",\"2020-10-01T00:00:00\",\"2020-10-02T00:00:00\",\"2020-10-03T00:00:00\",\"2020-10-04T00:00:00\",\"2020-10-05T00:00:00\",\"2020-10-06T00:00:00\",\"2020-10-07T00:00:00\",\"2020-10-08T00:00:00\",\"2020-10-09T00:00:00\",\"2020-10-10T00:00:00\",\"2020-10-11T00:00:00\",\"2020-10-12T00:00:00\",\"2020-10-13T00:00:00\",\"2020-10-14T00:00:00\",\"2020-10-15T00:00:00\",\"2020-10-16T00:00:00\",\"2020-10-17T00:00:00\",\"2020-10-18T00:00:00\",\"2020-10-19T00:00:00\",\"2020-10-20T00:00:00\",\"2020-10-21T00:00:00\",\"2020-10-22T00:00:00\",\"2020-10-23T00:00:00\",\"2020-10-24T00:00:00\",\"2020-10-25T00:00:00\",\"2020-10-26T00:00:00\",\"2020-10-27T00:00:00\",\"2020-10-28T00:00:00\",\"2020-10-29T00:00:00\",\"2020-10-30T00:00:00\",\"2020-10-31T00:00:00\",\"2020-11-01T00:00:00\",\"2020-11-02T00:00:00\",\"2020-11-03T00:00:00\",\"2020-11-04T00:00:00\",\"2020-11-05T00:00:00\",\"2020-11-06T00:00:00\",\"2020-11-07T00:00:00\",\"2020-11-08T00:00:00\",\"2020-11-09T00:00:00\",\"2020-11-10T00:00:00\",\"2020-11-11T00:00:00\",\"2020-11-12T00:00:00\",\"2020-11-13T00:00:00\",\"2020-11-14T00:00:00\",\"2020-11-15T00:00:00\",\"2020-11-16T00:00:00\",\"2020-11-17T00:00:00\",\"2020-11-18T00:00:00\",\"2020-11-19T00:00:00\",\"2020-11-20T00:00:00\",\"2020-11-21T00:00:00\",\"2020-11-22T00:00:00\",\"2020-11-23T00:00:00\",\"2020-11-24T00:00:00\",\"2020-11-25T00:00:00\",\"2020-11-26T00:00:00\",\"2020-11-27T00:00:00\",\"2020-11-28T00:00:00\",\"2020-11-29T00:00:00\",\"2020-11-30T00:00:00\",\"2020-12-01T00:00:00\",\"2020-12-02T00:00:00\",\"2020-12-03T00:00:00\",\"2020-12-04T00:00:00\",\"2020-12-05T00:00:00\",\"2020-12-06T00:00:00\",\"2020-12-07T00:00:00\",\"2020-12-08T00:00:00\",\"2020-12-09T00:00:00\",\"2020-12-10T00:00:00\",\"2020-12-11T00:00:00\",\"2020-12-12T00:00:00\",\"2020-12-13T00:00:00\",\"2020-12-14T00:00:00\",\"2020-12-15T00:00:00\",\"2020-12-16T00:00:00\",\"2020-12-17T00:00:00\",\"2020-12-18T00:00:00\",\"2020-12-19T00:00:00\",\"2020-12-20T00:00:00\",\"2020-12-21T00:00:00\",\"2020-12-22T00:00:00\",\"2020-12-23T00:00:00\",\"2020-12-24T00:00:00\",\"2020-12-25T00:00:00\",\"2020-12-26T00:00:00\",\"2020-12-27T00:00:00\",\"2020-12-28T00:00:00\",\"2020-12-29T00:00:00\",\"2020-12-30T00:00:00\",\"2020-12-31T00:00:00\",\"2021-01-01T00:00:00\",\"2021-01-02T00:00:00\",\"2021-01-03T00:00:00\",\"2021-01-04T00:00:00\",\"2021-01-05T00:00:00\",\"2021-01-06T00:00:00\",\"2021-01-07T00:00:00\",\"2021-01-08T00:00:00\",\"2021-01-09T00:00:00\",\"2021-01-10T00:00:00\",\"2021-01-11T00:00:00\",\"2021-01-12T00:00:00\",\"2021-01-13T00:00:00\",\"2021-01-14T00:00:00\",\"2021-01-15T00:00:00\",\"2021-01-16T00:00:00\",\"2021-01-17T00:00:00\",\"2021-01-18T00:00:00\",\"2021-01-19T00:00:00\",\"2021-01-20T00:00:00\",\"2021-01-21T00:00:00\",\"2021-01-22T00:00:00\",\"2021-01-23T00:00:00\",\"2021-01-24T00:00:00\",\"2021-01-25T00:00:00\",\"2021-01-26T00:00:00\",\"2021-01-27T00:00:00\",\"2021-01-28T00:00:00\",\"2021-01-29T00:00:00\",\"2021-01-30T00:00:00\",\"2021-01-31T00:00:00\",\"2021-02-01T00:00:00\",\"2021-02-02T00:00:00\",\"2021-02-03T00:00:00\",\"2021-02-04T00:00:00\",\"2021-02-05T00:00:00\",\"2021-02-06T00:00:00\",\"2021-02-07T00:00:00\",\"2021-02-08T00:00:00\",\"2021-02-09T00:00:00\",\"2021-02-10T00:00:00\",\"2021-02-11T00:00:00\",\"2021-02-12T00:00:00\",\"2021-02-13T00:00:00\",\"2021-02-14T00:00:00\",\"2021-02-15T00:00:00\",\"2021-02-16T00:00:00\",\"2021-02-17T00:00:00\",\"2021-02-18T00:00:00\",\"2021-02-19T00:00:00\",\"2021-02-20T00:00:00\",\"2021-02-21T00:00:00\",\"2021-02-22T00:00:00\",\"2021-02-23T00:00:00\",\"2021-02-24T00:00:00\",\"2021-02-25T00:00:00\",\"2021-02-26T00:00:00\",\"2021-02-27T00:00:00\",\"2021-02-28T00:00:00\",\"2021-03-01T00:00:00\",\"2021-03-02T00:00:00\",\"2021-03-03T00:00:00\",\"2021-03-04T00:00:00\",\"2021-03-05T00:00:00\",\"2021-03-06T00:00:00\",\"2021-03-07T00:00:00\",\"2021-03-08T00:00:00\",\"2021-03-09T00:00:00\",\"2021-03-10T00:00:00\",\"2021-03-11T00:00:00\",\"2021-03-12T00:00:00\",\"2021-03-13T00:00:00\",\"2021-03-14T00:00:00\",\"2021-03-15T00:00:00\",\"2021-03-16T00:00:00\",\"2021-03-17T00:00:00\",\"2021-03-18T00:00:00\",\"2021-03-19T00:00:00\",\"2021-03-20T00:00:00\",\"2021-03-21T00:00:00\",\"2021-03-22T00:00:00\",\"2021-03-23T00:00:00\",\"2021-03-24T00:00:00\",\"2021-03-25T00:00:00\",\"2021-03-26T00:00:00\",\"2021-03-27T00:00:00\",\"2021-03-28T00:00:00\",\"2021-03-29T00:00:00\",\"2021-03-30T00:00:00\",\"2021-03-31T00:00:00\",\"2021-04-01T00:00:00\",\"2021-04-02T00:00:00\",\"2021-04-03T00:00:00\",\"2021-04-04T00:00:00\",\"2021-04-05T00:00:00\",\"2021-04-06T00:00:00\",\"2021-04-07T00:00:00\",\"2021-04-08T00:00:00\",\"2021-04-09T00:00:00\",\"2021-04-10T00:00:00\",\"2021-04-11T00:00:00\",\"2021-04-12T00:00:00\",\"2021-04-13T00:00:00\",\"2021-04-14T00:00:00\",\"2021-04-15T00:00:00\",\"2021-04-16T00:00:00\",\"2021-04-17T00:00:00\",\"2021-04-18T00:00:00\",\"2021-04-19T00:00:00\",\"2021-04-20T00:00:00\",\"2021-04-21T00:00:00\",\"2021-04-22T00:00:00\",\"2021-04-23T00:00:00\",\"2021-04-24T00:00:00\",\"2021-04-25T00:00:00\",\"2021-04-26T00:00:00\",\"2021-04-27T00:00:00\",\"2021-04-28T00:00:00\",\"2021-04-29T00:00:00\",\"2021-04-30T00:00:00\",\"2021-05-01T00:00:00\",\"2021-05-02T00:00:00\",\"2021-05-03T00:00:00\",\"2021-05-04T00:00:00\",\"2021-05-05T00:00:00\",\"2021-05-06T00:00:00\",\"2021-05-07T00:00:00\",\"2021-05-08T00:00:00\",\"2021-05-09T00:00:00\",\"2021-05-10T00:00:00\",\"2021-05-11T00:00:00\",\"2021-05-12T00:00:00\",\"2021-05-13T00:00:00\",\"2021-05-14T00:00:00\",\"2021-05-15T00:00:00\",\"2021-05-16T00:00:00\",\"2021-05-17T00:00:00\",\"2021-05-18T00:00:00\",\"2021-05-19T00:00:00\",\"2021-05-20T00:00:00\",\"2021-05-21T00:00:00\",\"2021-05-22T00:00:00\",\"2021-05-23T00:00:00\",\"2021-05-24T00:00:00\",\"2021-05-25T00:00:00\",\"2021-05-26T00:00:00\",\"2021-05-27T00:00:00\",\"2021-05-28T00:00:00\",\"2021-05-29T00:00:00\",\"2021-05-30T00:00:00\",\"2021-05-31T00:00:00\",\"2021-06-01T00:00:00\",\"2021-06-02T00:00:00\",\"2021-06-03T00:00:00\",\"2021-06-04T00:00:00\",\"2021-06-05T00:00:00\",\"2021-06-06T00:00:00\",\"2021-06-07T00:00:00\",\"2021-06-08T00:00:00\",\"2021-06-09T00:00:00\",\"2021-06-10T00:00:00\",\"2021-06-11T00:00:00\",\"2021-06-12T00:00:00\",\"2021-06-13T00:00:00\",\"2021-06-14T00:00:00\",\"2021-06-15T00:00:00\",\"2021-06-16T00:00:00\",\"2021-06-17T00:00:00\",\"2021-06-18T00:00:00\",\"2021-06-19T00:00:00\",\"2021-06-20T00:00:00\",\"2021-06-21T00:00:00\",\"2021-06-22T00:00:00\",\"2021-06-23T00:00:00\",\"2021-06-24T00:00:00\",\"2021-06-25T00:00:00\",\"2021-06-26T00:00:00\",\"2021-06-27T00:00:00\",\"2021-06-28T00:00:00\",\"2021-06-29T00:00:00\",\"2021-06-30T00:00:00\",\"2021-07-01T00:00:00\",\"2021-07-02T00:00:00\",\"2021-07-03T00:00:00\",\"2021-07-04T00:00:00\",\"2021-07-05T00:00:00\",\"2021-07-06T00:00:00\",\"2021-07-07T00:00:00\",\"2021-07-08T00:00:00\",\"2021-07-09T00:00:00\",\"2021-07-10T00:00:00\",\"2021-07-11T00:00:00\",\"2021-07-12T00:00:00\",\"2021-07-13T00:00:00\",\"2021-07-14T00:00:00\",\"2021-07-15T00:00:00\",\"2021-07-16T00:00:00\",\"2021-07-17T00:00:00\",\"2021-07-18T00:00:00\",\"2021-07-19T00:00:00\",\"2021-07-20T00:00:00\",\"2021-07-21T00:00:00\",\"2021-07-22T00:00:00\",\"2021-07-23T00:00:00\",\"2021-07-24T00:00:00\",\"2021-07-25T00:00:00\",\"2021-07-26T00:00:00\",\"2021-07-27T00:00:00\",\"2021-07-28T00:00:00\",\"2021-07-29T00:00:00\",\"2021-07-30T00:00:00\",\"2021-07-31T00:00:00\",\"2021-08-01T00:00:00\",\"2021-08-02T00:00:00\",\"2021-08-03T00:00:00\",\"2021-08-04T00:00:00\",\"2021-08-05T00:00:00\",\"2021-08-06T00:00:00\",\"2021-08-07T00:00:00\",\"2021-08-08T00:00:00\",\"2021-08-09T00:00:00\",\"2021-08-10T00:00:00\",\"2021-08-11T00:00:00\",\"2021-08-12T00:00:00\",\"2021-08-13T00:00:00\",\"2021-08-14T00:00:00\",\"2021-08-15T00:00:00\",\"2021-08-16T00:00:00\",\"2021-08-17T00:00:00\",\"2021-08-18T00:00:00\",\"2021-08-19T00:00:00\",\"2021-08-20T00:00:00\",\"2021-08-21T00:00:00\",\"2021-08-22T00:00:00\",\"2021-08-23T00:00:00\",\"2021-08-24T00:00:00\",\"2021-08-25T00:00:00\",\"2021-08-26T00:00:00\",\"2021-08-27T00:00:00\",\"2021-08-28T00:00:00\",\"2021-08-29T00:00:00\",\"2021-08-30T00:00:00\",\"2021-08-31T00:00:00\",\"2021-09-01T00:00:00\",\"2021-09-02T00:00:00\",\"2021-09-03T00:00:00\",\"2021-09-04T00:00:00\",\"2021-09-05T00:00:00\",\"2021-09-06T00:00:00\",\"2021-09-07T00:00:00\",\"2021-09-08T00:00:00\",\"2021-09-09T00:00:00\",\"2021-09-10T00:00:00\",\"2021-09-11T00:00:00\",\"2021-09-12T00:00:00\",\"2021-09-13T00:00:00\",\"2021-09-14T00:00:00\",\"2021-09-15T00:00:00\",\"2021-09-16T00:00:00\",\"2021-09-17T00:00:00\",\"2021-09-18T00:00:00\",\"2021-09-19T00:00:00\",\"2021-09-20T00:00:00\",\"2021-09-21T00:00:00\",\"2021-09-22T00:00:00\",\"2021-09-23T00:00:00\",\"2021-09-24T00:00:00\",\"2021-09-25T00:00:00\",\"2021-09-26T00:00:00\",\"2021-09-27T00:00:00\",\"2021-09-28T00:00:00\",\"2021-09-29T00:00:00\",\"2021-09-30T00:00:00\",\"2021-10-01T00:00:00\",\"2021-10-02T00:00:00\",\"2021-10-03T00:00:00\",\"2021-10-04T00:00:00\",\"2021-10-05T00:00:00\",\"2021-10-06T00:00:00\",\"2021-10-07T00:00:00\",\"2021-10-08T00:00:00\",\"2021-10-09T00:00:00\",\"2021-10-10T00:00:00\",\"2021-10-11T00:00:00\",\"2021-10-12T00:00:00\",\"2021-10-13T00:00:00\",\"2021-10-14T00:00:00\",\"2021-10-15T00:00:00\",\"2021-10-16T00:00:00\",\"2021-10-17T00:00:00\",\"2021-10-18T00:00:00\",\"2021-10-19T00:00:00\",\"2021-10-20T00:00:00\",\"2021-10-21T00:00:00\",\"2021-10-22T00:00:00\",\"2021-10-23T00:00:00\",\"2021-10-24T00:00:00\",\"2021-10-25T00:00:00\",\"2021-10-26T00:00:00\",\"2021-10-27T00:00:00\",\"2021-10-28T00:00:00\",\"2021-10-29T00:00:00\",\"2021-10-30T00:00:00\",\"2021-10-31T00:00:00\",\"2021-11-01T00:00:00\",\"2021-11-02T00:00:00\",\"2021-11-03T00:00:00\",\"2021-11-04T00:00:00\",\"2021-11-05T00:00:00\",\"2021-11-06T00:00:00\",\"2021-11-07T00:00:00\",\"2021-11-08T00:00:00\",\"2021-11-09T00:00:00\",\"2021-11-10T00:00:00\",\"2021-11-11T00:00:00\",\"2021-11-12T00:00:00\",\"2021-11-13T00:00:00\",\"2021-11-14T00:00:00\",\"2021-11-15T00:00:00\"],\"xaxis\":\"x\",\"y\":[0,0,0,0,0,0,0,0,0,0,0,0,0,0,1,0,0,0,0,0,0,0,0,0,2,1,4,4,1,7,4,10,12,16,20,15,35,44,63,64,96,95,79,131,168,217,267,264,248,166,267,382,376,417,397,245,184,291,340,342,326,208,201,167,163,218,231,191,175,123,119,150,139,126,117,84,80,30,75,83,58,71,48,36,16,41,45,40,49,45,23,14,26,32,27,20,31,20,8,23,27,23,7,16,11,5,13,15,12,9,8,4,3,5,8,11,7,5,5,4,3,1,10,1,11,1,6,4,11,7,3,9,4,3,1,7,2,5,7,2,0,4,1,5,4,6,2,4,6,4,6,5,3,0,1,5,2,6,7,6,0,4,4,4,9,3,10,3,0,7,5,5,5,13,1,1,8,6,3,6,5,2,2,2,2,10,2,6,4,5,8,10,1,7,3,2,0,5,2,2,1,3,2,3,4,3,3,7,7,8,4,6,19,9,6,12,8,8,5,16,15,9,15,12,10,18,15,11,18,15,26,7,19,15,16,26,25,12,9,34,27,35,42,44,38,25,59,56,63,81,90,60,54,87,129,143,205,199,123,126,240,237,249,269,258,195,170,278,329,313,337,253,218,163,318,343,419,429,417,371,222,447,508,533,564,528,342,283,472,506,588,655,624,402,327,536,654,734,850,809,513,359,692,859,847,1076,976,767,516,826,1014,1065,1162,1043,771,542,919,1198,1247,711,508,576,526,889,1245,1283,776,413,583,493,772,1035,913,1029,926,598,423,584,891,963,943,817,536,322,534,759,767,708,630,444,212,424,575,619,476,474,305,188,314,391,443,439,311,238,101,241,303,306,304,252,161,106,192,291,273,238,220,156,97,180,218,229,198,182,130,73,161,195,169,165,140,132,82,135,178,207,196,173,125,75,147,231,215,236,196,143,106,161,272,263,254,256,195,110,234,288,301,250,198,175,125,163,263,291,279,248,213,112,198,289,309,259,234,195,128,214,298,287,277,244,181,98,208,237,225,207,181,134,95,139,205,187,148,153,96,68,102,140,129,75,85,79,48,80,88,73,61,68,45,23,23,51,61,43,35,27,17,25,25,31,19,14,16,10,12,12,10,10,11,4,7,13,10,9,7,4,0,2,5,9,3,5,6,0,2,4,6,1,5,3,2,2,2,5,3,2,7,5,0,4,6,6,2,3,5,3,4,8,7,5,4,9,1,5,7,19,10,13,7,6,12,11,10,16,17,14,5,17,24,21,27,18,19,13,21,35,42,36,35,27,21,46,53,59,44,51,51,29,48,73,71,72,62,54,22,66,80,58,68,65,53,23,55,67,78,47,47,36,19,53,52,53,48,50,39,23,56,57,77,57,55,42,22,47,79,81,74,62,38,27,65,80,68,73,80,38,36,105,132,106,127,113,84,38,98,121,136,119,106,65,55,70,133,128,106,81,39,34,64,66,38,35,24,5,9,7],\"yaxis\":\"y\"}],                        {\"barmode\":\"relative\",\"coloraxis\":{\"colorbar\":{\"title\":{\"text\":\"deaths\"}},\"colorscale\":[[0.0,\"rgb(103,0,31)\"],[0.1,\"rgb(178,24,43)\"],[0.2,\"rgb(214,96,77)\"],[0.3,\"rgb(244,165,130)\"],[0.4,\"rgb(253,219,199)\"],[0.5,\"rgb(247,247,247)\"],[0.6,\"rgb(209,229,240)\"],[0.7,\"rgb(146,197,222)\"],[0.8,\"rgb(67,147,195)\"],[0.9,\"rgb(33,102,172)\"],[1.0,\"rgb(5,48,97)\"]]},\"height\":400,\"legend\":{\"tracegroupgap\":0},\"template\":{\"data\":{\"bar\":[{\"error_x\":{\"color\":\"#2a3f5f\"},\"error_y\":{\"color\":\"#2a3f5f\"},\"marker\":{\"line\":{\"color\":\"#E5ECF6\",\"width\":0.5},\"pattern\":{\"fillmode\":\"overlay\",\"size\":10,\"solidity\":0.2}},\"type\":\"bar\"}],\"barpolar\":[{\"marker\":{\"line\":{\"color\":\"#E5ECF6\",\"width\":0.5},\"pattern\":{\"fillmode\":\"overlay\",\"size\":10,\"solidity\":0.2}},\"type\":\"barpolar\"}],\"carpet\":[{\"aaxis\":{\"endlinecolor\":\"#2a3f5f\",\"gridcolor\":\"white\",\"linecolor\":\"white\",\"minorgridcolor\":\"white\",\"startlinecolor\":\"#2a3f5f\"},\"baxis\":{\"endlinecolor\":\"#2a3f5f\",\"gridcolor\":\"white\",\"linecolor\":\"white\",\"minorgridcolor\":\"white\",\"startlinecolor\":\"#2a3f5f\"},\"type\":\"carpet\"}],\"choropleth\":[{\"colorbar\":{\"outlinewidth\":0,\"ticks\":\"\"},\"type\":\"choropleth\"}],\"contour\":[{\"colorbar\":{\"outlinewidth\":0,\"ticks\":\"\"},\"colorscale\":[[0.0,\"#0d0887\"],[0.1111111111111111,\"#46039f\"],[0.2222222222222222,\"#7201a8\"],[0.3333333333333333,\"#9c179e\"],[0.4444444444444444,\"#bd3786\"],[0.5555555555555556,\"#d8576b\"],[0.6666666666666666,\"#ed7953\"],[0.7777777777777778,\"#fb9f3a\"],[0.8888888888888888,\"#fdca26\"],[1.0,\"#f0f921\"]],\"type\":\"contour\"}],\"contourcarpet\":[{\"colorbar\":{\"outlinewidth\":0,\"ticks\":\"\"},\"type\":\"contourcarpet\"}],\"heatmap\":[{\"colorbar\":{\"outlinewidth\":0,\"ticks\":\"\"},\"colorscale\":[[0.0,\"#0d0887\"],[0.1111111111111111,\"#46039f\"],[0.2222222222222222,\"#7201a8\"],[0.3333333333333333,\"#9c179e\"],[0.4444444444444444,\"#bd3786\"],[0.5555555555555556,\"#d8576b\"],[0.6666666666666666,\"#ed7953\"],[0.7777777777777778,\"#fb9f3a\"],[0.8888888888888888,\"#fdca26\"],[1.0,\"#f0f921\"]],\"type\":\"heatmap\"}],\"heatmapgl\":[{\"colorbar\":{\"outlinewidth\":0,\"ticks\":\"\"},\"colorscale\":[[0.0,\"#0d0887\"],[0.1111111111111111,\"#46039f\"],[0.2222222222222222,\"#7201a8\"],[0.3333333333333333,\"#9c179e\"],[0.4444444444444444,\"#bd3786\"],[0.5555555555555556,\"#d8576b\"],[0.6666666666666666,\"#ed7953\"],[0.7777777777777778,\"#fb9f3a\"],[0.8888888888888888,\"#fdca26\"],[1.0,\"#f0f921\"]],\"type\":\"heatmapgl\"}],\"histogram\":[{\"marker\":{\"pattern\":{\"fillmode\":\"overlay\",\"size\":10,\"solidity\":0.2}},\"type\":\"histogram\"}],\"histogram2d\":[{\"colorbar\":{\"outlinewidth\":0,\"ticks\":\"\"},\"colorscale\":[[0.0,\"#0d0887\"],[0.1111111111111111,\"#46039f\"],[0.2222222222222222,\"#7201a8\"],[0.3333333333333333,\"#9c179e\"],[0.4444444444444444,\"#bd3786\"],[0.5555555555555556,\"#d8576b\"],[0.6666666666666666,\"#ed7953\"],[0.7777777777777778,\"#fb9f3a\"],[0.8888888888888888,\"#fdca26\"],[1.0,\"#f0f921\"]],\"type\":\"histogram2d\"}],\"histogram2dcontour\":[{\"colorbar\":{\"outlinewidth\":0,\"ticks\":\"\"},\"colorscale\":[[0.0,\"#0d0887\"],[0.1111111111111111,\"#46039f\"],[0.2222222222222222,\"#7201a8\"],[0.3333333333333333,\"#9c179e\"],[0.4444444444444444,\"#bd3786\"],[0.5555555555555556,\"#d8576b\"],[0.6666666666666666,\"#ed7953\"],[0.7777777777777778,\"#fb9f3a\"],[0.8888888888888888,\"#fdca26\"],[1.0,\"#f0f921\"]],\"type\":\"histogram2dcontour\"}],\"mesh3d\":[{\"colorbar\":{\"outlinewidth\":0,\"ticks\":\"\"},\"type\":\"mesh3d\"}],\"parcoords\":[{\"line\":{\"colorbar\":{\"outlinewidth\":0,\"ticks\":\"\"}},\"type\":\"parcoords\"}],\"pie\":[{\"automargin\":true,\"type\":\"pie\"}],\"scatter\":[{\"marker\":{\"colorbar\":{\"outlinewidth\":0,\"ticks\":\"\"}},\"type\":\"scatter\"}],\"scatter3d\":[{\"line\":{\"colorbar\":{\"outlinewidth\":0,\"ticks\":\"\"}},\"marker\":{\"colorbar\":{\"outlinewidth\":0,\"ticks\":\"\"}},\"type\":\"scatter3d\"}],\"scattercarpet\":[{\"marker\":{\"colorbar\":{\"outlinewidth\":0,\"ticks\":\"\"}},\"type\":\"scattercarpet\"}],\"scattergeo\":[{\"marker\":{\"colorbar\":{\"outlinewidth\":0,\"ticks\":\"\"}},\"type\":\"scattergeo\"}],\"scattergl\":[{\"marker\":{\"colorbar\":{\"outlinewidth\":0,\"ticks\":\"\"}},\"type\":\"scattergl\"}],\"scattermapbox\":[{\"marker\":{\"colorbar\":{\"outlinewidth\":0,\"ticks\":\"\"}},\"type\":\"scattermapbox\"}],\"scatterpolar\":[{\"marker\":{\"colorbar\":{\"outlinewidth\":0,\"ticks\":\"\"}},\"type\":\"scatterpolar\"}],\"scatterpolargl\":[{\"marker\":{\"colorbar\":{\"outlinewidth\":0,\"ticks\":\"\"}},\"type\":\"scatterpolargl\"}],\"scatterternary\":[{\"marker\":{\"colorbar\":{\"outlinewidth\":0,\"ticks\":\"\"}},\"type\":\"scatterternary\"}],\"surface\":[{\"colorbar\":{\"outlinewidth\":0,\"ticks\":\"\"},\"colorscale\":[[0.0,\"#0d0887\"],[0.1111111111111111,\"#46039f\"],[0.2222222222222222,\"#7201a8\"],[0.3333333333333333,\"#9c179e\"],[0.4444444444444444,\"#bd3786\"],[0.5555555555555556,\"#d8576b\"],[0.6666666666666666,\"#ed7953\"],[0.7777777777777778,\"#fb9f3a\"],[0.8888888888888888,\"#fdca26\"],[1.0,\"#f0f921\"]],\"type\":\"surface\"}],\"table\":[{\"cells\":{\"fill\":{\"color\":\"#EBF0F8\"},\"line\":{\"color\":\"white\"}},\"header\":{\"fill\":{\"color\":\"#C8D4E3\"},\"line\":{\"color\":\"white\"}},\"type\":\"table\"}]},\"layout\":{\"annotationdefaults\":{\"arrowcolor\":\"#2a3f5f\",\"arrowhead\":0,\"arrowwidth\":1},\"autotypenumbers\":\"strict\",\"coloraxis\":{\"colorbar\":{\"outlinewidth\":0,\"ticks\":\"\"}},\"colorscale\":{\"diverging\":[[0,\"#8e0152\"],[0.1,\"#c51b7d\"],[0.2,\"#de77ae\"],[0.3,\"#f1b6da\"],[0.4,\"#fde0ef\"],[0.5,\"#f7f7f7\"],[0.6,\"#e6f5d0\"],[0.7,\"#b8e186\"],[0.8,\"#7fbc41\"],[0.9,\"#4d9221\"],[1,\"#276419\"]],\"sequential\":[[0.0,\"#0d0887\"],[0.1111111111111111,\"#46039f\"],[0.2222222222222222,\"#7201a8\"],[0.3333333333333333,\"#9c179e\"],[0.4444444444444444,\"#bd3786\"],[0.5555555555555556,\"#d8576b\"],[0.6666666666666666,\"#ed7953\"],[0.7777777777777778,\"#fb9f3a\"],[0.8888888888888888,\"#fdca26\"],[1.0,\"#f0f921\"]],\"sequentialminus\":[[0.0,\"#0d0887\"],[0.1111111111111111,\"#46039f\"],[0.2222222222222222,\"#7201a8\"],[0.3333333333333333,\"#9c179e\"],[0.4444444444444444,\"#bd3786\"],[0.5555555555555556,\"#d8576b\"],[0.6666666666666666,\"#ed7953\"],[0.7777777777777778,\"#fb9f3a\"],[0.8888888888888888,\"#fdca26\"],[1.0,\"#f0f921\"]]},\"colorway\":[\"#636efa\",\"#EF553B\",\"#00cc96\",\"#ab63fa\",\"#FFA15A\",\"#19d3f3\",\"#FF6692\",\"#B6E880\",\"#FF97FF\",\"#FECB52\"],\"font\":{\"color\":\"#2a3f5f\"},\"geo\":{\"bgcolor\":\"white\",\"lakecolor\":\"white\",\"landcolor\":\"#E5ECF6\",\"showlakes\":true,\"showland\":true,\"subunitcolor\":\"white\"},\"hoverlabel\":{\"align\":\"left\"},\"hovermode\":\"closest\",\"mapbox\":{\"style\":\"light\"},\"paper_bgcolor\":\"white\",\"plot_bgcolor\":\"#E5ECF6\",\"polar\":{\"angularaxis\":{\"gridcolor\":\"white\",\"linecolor\":\"white\",\"ticks\":\"\"},\"bgcolor\":\"#E5ECF6\",\"radialaxis\":{\"gridcolor\":\"white\",\"linecolor\":\"white\",\"ticks\":\"\"}},\"scene\":{\"xaxis\":{\"backgroundcolor\":\"#E5ECF6\",\"gridcolor\":\"white\",\"gridwidth\":2,\"linecolor\":\"white\",\"showbackground\":true,\"ticks\":\"\",\"zerolinecolor\":\"white\"},\"yaxis\":{\"backgroundcolor\":\"#E5ECF6\",\"gridcolor\":\"white\",\"gridwidth\":2,\"linecolor\":\"white\",\"showbackground\":true,\"ticks\":\"\",\"zerolinecolor\":\"white\"},\"zaxis\":{\"backgroundcolor\":\"#E5ECF6\",\"gridcolor\":\"white\",\"gridwidth\":2,\"linecolor\":\"white\",\"showbackground\":true,\"ticks\":\"\",\"zerolinecolor\":\"white\"}},\"shapedefaults\":{\"line\":{\"color\":\"#2a3f5f\"}},\"ternary\":{\"aaxis\":{\"gridcolor\":\"white\",\"linecolor\":\"white\",\"ticks\":\"\"},\"baxis\":{\"gridcolor\":\"white\",\"linecolor\":\"white\",\"ticks\":\"\"},\"bgcolor\":\"#E5ECF6\",\"caxis\":{\"gridcolor\":\"white\",\"linecolor\":\"white\",\"ticks\":\"\"}},\"title\":{\"x\":0.05},\"xaxis\":{\"automargin\":true,\"gridcolor\":\"white\",\"linecolor\":\"white\",\"ticks\":\"\",\"title\":{\"standoff\":15},\"zerolinecolor\":\"white\",\"zerolinewidth\":2},\"yaxis\":{\"automargin\":true,\"gridcolor\":\"white\",\"linecolor\":\"white\",\"ticks\":\"\",\"title\":{\"standoff\":15},\"zerolinecolor\":\"white\",\"zerolinewidth\":2}}},\"title\":{\"text\":\"Daily Deaths of COVID-19 in Germany\"},\"xaxis\":{\"anchor\":\"y\",\"domain\":[0.0,1.0],\"title\":{\"text\":\"date\"}},\"yaxis\":{\"anchor\":\"x\",\"domain\":[0.0,1.0],\"title\":{\"text\":\"deaths\"}}},                        {\"responsive\": true}                    ).then(function(){\n",
       "                            \n",
       "var gd = document.getElementById('d5e3cc4d-56cd-44a2-85f6-867c173845f8');\n",
       "var x = new MutationObserver(function (mutations, observer) {{\n",
       "        var display = window.getComputedStyle(gd).display;\n",
       "        if (!display || display === 'none') {{\n",
       "            console.log([gd, 'removed!']);\n",
       "            Plotly.purge(gd);\n",
       "            observer.disconnect();\n",
       "        }}\n",
       "}});\n",
       "\n",
       "// Listen for the removal of the full notebook cells\n",
       "var notebookContainer = gd.closest('#notebook-container');\n",
       "if (notebookContainer) {{\n",
       "    x.observe(notebookContainer, {childList: true});\n",
       "}}\n",
       "\n",
       "// Listen for the clearing of the current output cell\n",
       "var outputEl = gd.closest('.output');\n",
       "if (outputEl) {{\n",
       "    x.observe(outputEl, {childList: true});\n",
       "}}\n",
       "\n",
       "                        })                };                });            </script>        </div>"
      ]
     },
     "metadata": {},
     "output_type": "display_data"
    }
   ],
   "source": [
    "# Grouping the data by date\n",
    "deaths = covid.groupby('date', as_index = False).agg({'deaths' : 'sum'})\n",
    "\n",
    "# Plot bar chart\n",
    "fig = px.bar(deaths, x = 'date', y = 'deaths',height = 400,\n",
    "             color = 'deaths', \n",
    "             color_continuous_scale = px.colors.diverging.RdBu,\n",
    "             title = 'Daily Deaths of COVID-19 in Germany')\n",
    "fig.show()"
   ]
  },
  {
   "cell_type": "markdown",
   "id": "492b0a91",
   "metadata": {
    "papermill": {
     "duration": 0.035081,
     "end_time": "2021-11-17T12:23:43.375603",
     "exception": false,
     "start_time": "2021-11-17T12:23:43.340522",
     "status": "completed"
    },
    "tags": []
   },
   "source": [
    "<b>Observations :</b> \n",
    "\n",
    "The daily deaths graph shows similarly to the cases graph 4 peaks signifying the 4 waves the pandemic has known. 3 of these peaks are low, but **the second peak or wave has known the highest death counts**, where starting from 26.09.2020, prior to which the death count was stable between 0 and 20 deaths since 06.05.2020, **we notice an exponential growth in the number of deaths, reaching its peak on 30-12-2020, at 1282 deaths in the day.** \n",
    "\n",
    "\n",
    "**By 28-01-2020 the number of deaths had dropped below 500, and then below 100 starting the 13-05-2021, to stay below this limit until today.**\n",
    "\n",
    "\n",
    "\n"
   ]
  },
  {
   "cell_type": "markdown",
   "id": "5bba6190",
   "metadata": {
    "papermill": {
     "duration": 0.036337,
     "end_time": "2021-11-17T12:23:43.447422",
     "exception": false,
     "start_time": "2021-11-17T12:23:43.411085",
     "status": "completed"
    },
    "tags": []
   },
   "source": [
    "#### 2.2.3 Daily Recoveries<a name=\"223\"></a>"
   ]
  },
  {
   "cell_type": "code",
   "execution_count": 12,
   "id": "bcef8e5c",
   "metadata": {
    "execution": {
     "iopub.execute_input": "2021-11-17T12:23:43.525731Z",
     "iopub.status.busy": "2021-11-17T12:23:43.524731Z",
     "iopub.status.idle": "2021-11-17T12:23:43.611048Z",
     "shell.execute_reply": "2021-11-17T12:23:43.611454Z",
     "shell.execute_reply.started": "2021-11-11T16:41:49.44964Z"
    },
    "papermill": {
     "duration": 0.128656,
     "end_time": "2021-11-17T12:23:43.611618",
     "exception": false,
     "start_time": "2021-11-17T12:23:43.482962",
     "status": "completed"
    },
    "tags": []
   },
   "outputs": [
    {
     "data": {
      "text/html": [
       "<div>                            <div id=\"c874b518-f2f8-4af9-8a52-4a701839b854\" class=\"plotly-graph-div\" style=\"height:400px; width:100%;\"></div>            <script type=\"text/javascript\">                require([\"plotly\"], function(Plotly) {                    window.PLOTLYENV=window.PLOTLYENV || {};                                    if (document.getElementById(\"c874b518-f2f8-4af9-8a52-4a701839b854\")) {                    Plotly.newPlot(                        \"c874b518-f2f8-4af9-8a52-4a701839b854\",                        [{\"alignmentgroup\":\"True\",\"hovertemplate\":\"date=%{x}<br>recovered=%{marker.color}<extra></extra>\",\"legendgroup\":\"\",\"marker\":{\"color\":[1,1,2,2,4,1,1,4,1,1,1,2,1,1,1,1,3,7,23,47,23,35,41,84,155,185,182,138,102,338,592,745,979,1443,1283,965,2000,2982,3536,3992,3947,3261,2183,3598,4712,5459,5633,5716,4472,2909,3850,5677,5878,6129,5796,4097,2351,3369,4848,4931,4580,3145,2683,1697,1433,2245,3090,3224,2867,1983,1255,1559,2043,2360,1971,1819,1192,673,1042,1377,1372,1386,871,584,408,688,1044,1181,1149,934,655,327,659,822,882,788,696,439,307,519,700,805,412,508,326,213,399,602,636,520,436,370,176,132,296,485,521,432,280,160,292,424,508,280,341,298,166,255,507,855,760,987,565,219,441,533,504,559,567,323,200,411,456,477,468,420,290,138,316,387,444,420,421,276,130,321,463,534,546,515,440,175,449,518,690,691,795,538,211,520,748,904,855,901,560,304,781,941,1103,1159,998,708,317,1099,1192,1531,1488,1368,750,487,1538,1523,1753,1613,1653,916,565,1421,1483,1613,1537,1387,831,533,1178,1314,1411,1511,1483,1095,578,1401,1357,1734,1585,1639,1215,753,1479,1988,2176,2342,2152,1381,679,1636,1795,2196,2373,2310,1760,864,1811,2148,2714,2896,2895,2184,1143,2369,3555,4447,4609,5009,3588,2241,4123,5300,7178,7827,7868,5627,3618,6389,9297,12239,13700,13819,10974,7307,11766,15685,18969,19553,19146,13789,10341,14954,18994,20873,21906,21295,15694,9941,15603,19246,22256,22966,20898,15415,8615,14224,19815,23128,23139,21737,14425,8535,14585,18883,21445,22096,19491,14521,8455,12737,18548,22449,23551,21425,15197,9872,15740,21917,26784,27944,26269,19831,11974,18220,25907,30284,30789,28716,20924,13348,19362,27765,32718,20441,12658,10958,9274,14834,26316,29765,18797,9850,9416,8327,13512,26374,27049,25072,23583,16058,8039,12874,21686,23126,19441,17468,12895,6271,8611,17696,18713,16091,14386,11125,4803,6313,14928,15196,12877,12080,9632,4008,5543,11901,12962,11061,9687,8145,2990,3941,8790,9969,9053,8282,5432,3653,4187,8945,9725,8983,8500,7626,2940,4219,9961,11060,9711,9267,7521,3377,4515,10755,11132,9954,9518,8159,3278,4699,11315,13778,12947,12359,10348,4764,6670,15552,18139,16477,15504,13070,5850,8712,19173,22380,21610,19769,15574,7467,10753,20090,23693,21174,15282,10457,7022,6878,11242,23424,25480,23041,17826,8745,11902,26425,28231,24803,22837,17504,8691,12065,27634,29083,25173,22703,17826,8577,11988,25007,24771,21214,18969,14927,6563,8985,20770,20660,17003,15323,11948,5257,7284,16608,16356,9594,7543,8510,4228,5155,12241,11233,8364,7511,5770,1976,1779,3616,7079,6767,5118,3659,1587,2415,5075,4457,2918,2258,2289,1115,1698,3515,2851,2259,1830,1301,507,919,1690,1434,1144,1023,739,272,594,1045,897,816,731,485,220,508,889,859,702,664,506,207,546,1051,959,956,938,785,313,786,1761,1619,1514,1615,1276,494,1422,2327,2282,2217,2112,1586,640,1655,3084,2819,2624,2510,1954,777,2097,3741,3540,3513,3514,2780,1132,2907,5533,5620,5411,5769,4611,2059,4486,8877,8711,8628,8796,6801,3083,6508,12835,12659,11571,10335,8340,3719,7011,14494,14660,12638,11987,9426,4031,6934,15040,14091,12302,11071,8509,3263,6803,13314,12140,10214,8831,7005,2760,5357,11189,10390,9036,8349,6309,2614,5702,12570,11291,9434,8321,6106,2621,5597,12120,10996,10030,9130,6973,2608,6150,12536,11969,11211,11021,8417,3361,7916,18863,14707,13684,12371,9550,3650,8100,17930,18090,15553,14102,10671,4565,6559,12876,13563,11256,6941,2989,1173,1704,1477,958,527,249,107,25,50],\"coloraxis\":\"coloraxis\",\"pattern\":{\"shape\":\"\"}},\"name\":\"\",\"offsetgroup\":\"\",\"orientation\":\"v\",\"showlegend\":false,\"textposition\":\"auto\",\"type\":\"bar\",\"x\":[\"2020-01-02T00:00:00\",\"2020-01-23T00:00:00\",\"2020-01-28T00:00:00\",\"2020-01-29T00:00:00\",\"2020-01-31T00:00:00\",\"2020-02-01T00:00:00\",\"2020-02-03T00:00:00\",\"2020-02-04T00:00:00\",\"2020-02-05T00:00:00\",\"2020-02-06T00:00:00\",\"2020-02-07T00:00:00\",\"2020-02-11T00:00:00\",\"2020-02-17T00:00:00\",\"2020-02-18T00:00:00\",\"2020-02-20T00:00:00\",\"2020-02-24T00:00:00\",\"2020-02-25T00:00:00\",\"2020-02-26T00:00:00\",\"2020-02-27T00:00:00\",\"2020-02-28T00:00:00\",\"2020-02-29T00:00:00\",\"2020-03-01T00:00:00\",\"2020-03-02T00:00:00\",\"2020-03-03T00:00:00\",\"2020-03-04T00:00:00\",\"2020-03-05T00:00:00\",\"2020-03-06T00:00:00\",\"2020-03-07T00:00:00\",\"2020-03-08T00:00:00\",\"2020-03-09T00:00:00\",\"2020-03-10T00:00:00\",\"2020-03-11T00:00:00\",\"2020-03-12T00:00:00\",\"2020-03-13T00:00:00\",\"2020-03-14T00:00:00\",\"2020-03-15T00:00:00\",\"2020-03-16T00:00:00\",\"2020-03-17T00:00:00\",\"2020-03-18T00:00:00\",\"2020-03-19T00:00:00\",\"2020-03-20T00:00:00\",\"2020-03-21T00:00:00\",\"2020-03-22T00:00:00\",\"2020-03-23T00:00:00\",\"2020-03-24T00:00:00\",\"2020-03-25T00:00:00\",\"2020-03-26T00:00:00\",\"2020-03-27T00:00:00\",\"2020-03-28T00:00:00\",\"2020-03-29T00:00:00\",\"2020-03-30T00:00:00\",\"2020-03-31T00:00:00\",\"2020-04-01T00:00:00\",\"2020-04-02T00:00:00\",\"2020-04-03T00:00:00\",\"2020-04-04T00:00:00\",\"2020-04-05T00:00:00\",\"2020-04-06T00:00:00\",\"2020-04-07T00:00:00\",\"2020-04-08T00:00:00\",\"2020-04-09T00:00:00\",\"2020-04-10T00:00:00\",\"2020-04-11T00:00:00\",\"2020-04-12T00:00:00\",\"2020-04-13T00:00:00\",\"2020-04-14T00:00:00\",\"2020-04-15T00:00:00\",\"2020-04-16T00:00:00\",\"2020-04-17T00:00:00\",\"2020-04-18T00:00:00\",\"2020-04-19T00:00:00\",\"2020-04-20T00:00:00\",\"2020-04-21T00:00:00\",\"2020-04-22T00:00:00\",\"2020-04-23T00:00:00\",\"2020-04-24T00:00:00\",\"2020-04-25T00:00:00\",\"2020-04-26T00:00:00\",\"2020-04-27T00:00:00\",\"2020-04-28T00:00:00\",\"2020-04-29T00:00:00\",\"2020-04-30T00:00:00\",\"2020-05-01T00:00:00\",\"2020-05-02T00:00:00\",\"2020-05-03T00:00:00\",\"2020-05-04T00:00:00\",\"2020-05-05T00:00:00\",\"2020-05-06T00:00:00\",\"2020-05-07T00:00:00\",\"2020-05-08T00:00:00\",\"2020-05-09T00:00:00\",\"2020-05-10T00:00:00\",\"2020-05-11T00:00:00\",\"2020-05-12T00:00:00\",\"2020-05-13T00:00:00\",\"2020-05-14T00:00:00\",\"2020-05-15T00:00:00\",\"2020-05-16T00:00:00\",\"2020-05-17T00:00:00\",\"2020-05-18T00:00:00\",\"2020-05-19T00:00:00\",\"2020-05-20T00:00:00\",\"2020-05-21T00:00:00\",\"2020-05-22T00:00:00\",\"2020-05-23T00:00:00\",\"2020-05-24T00:00:00\",\"2020-05-25T00:00:00\",\"2020-05-26T00:00:00\",\"2020-05-27T00:00:00\",\"2020-05-28T00:00:00\",\"2020-05-29T00:00:00\",\"2020-05-30T00:00:00\",\"2020-05-31T00:00:00\",\"2020-06-01T00:00:00\",\"2020-06-02T00:00:00\",\"2020-06-03T00:00:00\",\"2020-06-04T00:00:00\",\"2020-06-05T00:00:00\",\"2020-06-06T00:00:00\",\"2020-06-07T00:00:00\",\"2020-06-08T00:00:00\",\"2020-06-09T00:00:00\",\"2020-06-10T00:00:00\",\"2020-06-11T00:00:00\",\"2020-06-12T00:00:00\",\"2020-06-13T00:00:00\",\"2020-06-14T00:00:00\",\"2020-06-15T00:00:00\",\"2020-06-16T00:00:00\",\"2020-06-17T00:00:00\",\"2020-06-18T00:00:00\",\"2020-06-19T00:00:00\",\"2020-06-20T00:00:00\",\"2020-06-21T00:00:00\",\"2020-06-22T00:00:00\",\"2020-06-23T00:00:00\",\"2020-06-24T00:00:00\",\"2020-06-25T00:00:00\",\"2020-06-26T00:00:00\",\"2020-06-27T00:00:00\",\"2020-06-28T00:00:00\",\"2020-06-29T00:00:00\",\"2020-06-30T00:00:00\",\"2020-07-01T00:00:00\",\"2020-07-02T00:00:00\",\"2020-07-03T00:00:00\",\"2020-07-04T00:00:00\",\"2020-07-05T00:00:00\",\"2020-07-06T00:00:00\",\"2020-07-07T00:00:00\",\"2020-07-08T00:00:00\",\"2020-07-09T00:00:00\",\"2020-07-10T00:00:00\",\"2020-07-11T00:00:00\",\"2020-07-12T00:00:00\",\"2020-07-13T00:00:00\",\"2020-07-14T00:00:00\",\"2020-07-15T00:00:00\",\"2020-07-16T00:00:00\",\"2020-07-17T00:00:00\",\"2020-07-18T00:00:00\",\"2020-07-19T00:00:00\",\"2020-07-20T00:00:00\",\"2020-07-21T00:00:00\",\"2020-07-22T00:00:00\",\"2020-07-23T00:00:00\",\"2020-07-24T00:00:00\",\"2020-07-25T00:00:00\",\"2020-07-26T00:00:00\",\"2020-07-27T00:00:00\",\"2020-07-28T00:00:00\",\"2020-07-29T00:00:00\",\"2020-07-30T00:00:00\",\"2020-07-31T00:00:00\",\"2020-08-01T00:00:00\",\"2020-08-02T00:00:00\",\"2020-08-03T00:00:00\",\"2020-08-04T00:00:00\",\"2020-08-05T00:00:00\",\"2020-08-06T00:00:00\",\"2020-08-07T00:00:00\",\"2020-08-08T00:00:00\",\"2020-08-09T00:00:00\",\"2020-08-10T00:00:00\",\"2020-08-11T00:00:00\",\"2020-08-12T00:00:00\",\"2020-08-13T00:00:00\",\"2020-08-14T00:00:00\",\"2020-08-15T00:00:00\",\"2020-08-16T00:00:00\",\"2020-08-17T00:00:00\",\"2020-08-18T00:00:00\",\"2020-08-19T00:00:00\",\"2020-08-20T00:00:00\",\"2020-08-21T00:00:00\",\"2020-08-22T00:00:00\",\"2020-08-23T00:00:00\",\"2020-08-24T00:00:00\",\"2020-08-25T00:00:00\",\"2020-08-26T00:00:00\",\"2020-08-27T00:00:00\",\"2020-08-28T00:00:00\",\"2020-08-29T00:00:00\",\"2020-08-30T00:00:00\",\"2020-08-31T00:00:00\",\"2020-09-01T00:00:00\",\"2020-09-02T00:00:00\",\"2020-09-03T00:00:00\",\"2020-09-04T00:00:00\",\"2020-09-05T00:00:00\",\"2020-09-06T00:00:00\",\"2020-09-07T00:00:00\",\"2020-09-08T00:00:00\",\"2020-09-09T00:00:00\",\"2020-09-10T00:00:00\",\"2020-09-11T00:00:00\",\"2020-09-12T00:00:00\",\"2020-09-13T00:00:00\",\"2020-09-14T00:00:00\",\"2020-09-15T00:00:00\",\"2020-09-16T00:00:00\",\"2020-09-17T00:00:00\",\"2020-09-18T00:00:00\",\"2020-09-19T00:00:00\",\"2020-09-20T00:00:00\",\"2020-09-21T00:00:00\",\"2020-09-22T00:00:00\",\"2020-09-23T00:00:00\",\"2020-09-24T00:00:00\",\"2020-09-25T00:00:00\",\"2020-09-26T00:00:00\",\"2020-09-27T00:00:00\",\"2020-09-28T00:00:00\",\"2020-09-29T00:00:00\",\"2020-09-30T00:00:00\",\"2020-10-01T00:00:00\",\"2020-10-02T00:00:00\",\"2020-10-03T00:00:00\",\"2020-10-04T00:00:00\",\"2020-10-05T00:00:00\",\"2020-10-06T00:00:00\",\"2020-10-07T00:00:00\",\"2020-10-08T00:00:00\",\"2020-10-09T00:00:00\",\"2020-10-10T00:00:00\",\"2020-10-11T00:00:00\",\"2020-10-12T00:00:00\",\"2020-10-13T00:00:00\",\"2020-10-14T00:00:00\",\"2020-10-15T00:00:00\",\"2020-10-16T00:00:00\",\"2020-10-17T00:00:00\",\"2020-10-18T00:00:00\",\"2020-10-19T00:00:00\",\"2020-10-20T00:00:00\",\"2020-10-21T00:00:00\",\"2020-10-22T00:00:00\",\"2020-10-23T00:00:00\",\"2020-10-24T00:00:00\",\"2020-10-25T00:00:00\",\"2020-10-26T00:00:00\",\"2020-10-27T00:00:00\",\"2020-10-28T00:00:00\",\"2020-10-29T00:00:00\",\"2020-10-30T00:00:00\",\"2020-10-31T00:00:00\",\"2020-11-01T00:00:00\",\"2020-11-02T00:00:00\",\"2020-11-03T00:00:00\",\"2020-11-04T00:00:00\",\"2020-11-05T00:00:00\",\"2020-11-06T00:00:00\",\"2020-11-07T00:00:00\",\"2020-11-08T00:00:00\",\"2020-11-09T00:00:00\",\"2020-11-10T00:00:00\",\"2020-11-11T00:00:00\",\"2020-11-12T00:00:00\",\"2020-11-13T00:00:00\",\"2020-11-14T00:00:00\",\"2020-11-15T00:00:00\",\"2020-11-16T00:00:00\",\"2020-11-17T00:00:00\",\"2020-11-18T00:00:00\",\"2020-11-19T00:00:00\",\"2020-11-20T00:00:00\",\"2020-11-21T00:00:00\",\"2020-11-22T00:00:00\",\"2020-11-23T00:00:00\",\"2020-11-24T00:00:00\",\"2020-11-25T00:00:00\",\"2020-11-26T00:00:00\",\"2020-11-27T00:00:00\",\"2020-11-28T00:00:00\",\"2020-11-29T00:00:00\",\"2020-11-30T00:00:00\",\"2020-12-01T00:00:00\",\"2020-12-02T00:00:00\",\"2020-12-03T00:00:00\",\"2020-12-04T00:00:00\",\"2020-12-05T00:00:00\",\"2020-12-06T00:00:00\",\"2020-12-07T00:00:00\",\"2020-12-08T00:00:00\",\"2020-12-09T00:00:00\",\"2020-12-10T00:00:00\",\"2020-12-11T00:00:00\",\"2020-12-12T00:00:00\",\"2020-12-13T00:00:00\",\"2020-12-14T00:00:00\",\"2020-12-15T00:00:00\",\"2020-12-16T00:00:00\",\"2020-12-17T00:00:00\",\"2020-12-18T00:00:00\",\"2020-12-19T00:00:00\",\"2020-12-20T00:00:00\",\"2020-12-21T00:00:00\",\"2020-12-22T00:00:00\",\"2020-12-23T00:00:00\",\"2020-12-24T00:00:00\",\"2020-12-25T00:00:00\",\"2020-12-26T00:00:00\",\"2020-12-27T00:00:00\",\"2020-12-28T00:00:00\",\"2020-12-29T00:00:00\",\"2020-12-30T00:00:00\",\"2020-12-31T00:00:00\",\"2021-01-01T00:00:00\",\"2021-01-02T00:00:00\",\"2021-01-03T00:00:00\",\"2021-01-04T00:00:00\",\"2021-01-05T00:00:00\",\"2021-01-06T00:00:00\",\"2021-01-07T00:00:00\",\"2021-01-08T00:00:00\",\"2021-01-09T00:00:00\",\"2021-01-10T00:00:00\",\"2021-01-11T00:00:00\",\"2021-01-12T00:00:00\",\"2021-01-13T00:00:00\",\"2021-01-14T00:00:00\",\"2021-01-15T00:00:00\",\"2021-01-16T00:00:00\",\"2021-01-17T00:00:00\",\"2021-01-18T00:00:00\",\"2021-01-19T00:00:00\",\"2021-01-20T00:00:00\",\"2021-01-21T00:00:00\",\"2021-01-22T00:00:00\",\"2021-01-23T00:00:00\",\"2021-01-24T00:00:00\",\"2021-01-25T00:00:00\",\"2021-01-26T00:00:00\",\"2021-01-27T00:00:00\",\"2021-01-28T00:00:00\",\"2021-01-29T00:00:00\",\"2021-01-30T00:00:00\",\"2021-01-31T00:00:00\",\"2021-02-01T00:00:00\",\"2021-02-02T00:00:00\",\"2021-02-03T00:00:00\",\"2021-02-04T00:00:00\",\"2021-02-05T00:00:00\",\"2021-02-06T00:00:00\",\"2021-02-07T00:00:00\",\"2021-02-08T00:00:00\",\"2021-02-09T00:00:00\",\"2021-02-10T00:00:00\",\"2021-02-11T00:00:00\",\"2021-02-12T00:00:00\",\"2021-02-13T00:00:00\",\"2021-02-14T00:00:00\",\"2021-02-15T00:00:00\",\"2021-02-16T00:00:00\",\"2021-02-17T00:00:00\",\"2021-02-18T00:00:00\",\"2021-02-19T00:00:00\",\"2021-02-20T00:00:00\",\"2021-02-21T00:00:00\",\"2021-02-22T00:00:00\",\"2021-02-23T00:00:00\",\"2021-02-24T00:00:00\",\"2021-02-25T00:00:00\",\"2021-02-26T00:00:00\",\"2021-02-27T00:00:00\",\"2021-02-28T00:00:00\",\"2021-03-01T00:00:00\",\"2021-03-02T00:00:00\",\"2021-03-03T00:00:00\",\"2021-03-04T00:00:00\",\"2021-03-05T00:00:00\",\"2021-03-06T00:00:00\",\"2021-03-07T00:00:00\",\"2021-03-08T00:00:00\",\"2021-03-09T00:00:00\",\"2021-03-10T00:00:00\",\"2021-03-11T00:00:00\",\"2021-03-12T00:00:00\",\"2021-03-13T00:00:00\",\"2021-03-14T00:00:00\",\"2021-03-15T00:00:00\",\"2021-03-16T00:00:00\",\"2021-03-17T00:00:00\",\"2021-03-18T00:00:00\",\"2021-03-19T00:00:00\",\"2021-03-20T00:00:00\",\"2021-03-21T00:00:00\",\"2021-03-22T00:00:00\",\"2021-03-23T00:00:00\",\"2021-03-24T00:00:00\",\"2021-03-25T00:00:00\",\"2021-03-26T00:00:00\",\"2021-03-27T00:00:00\",\"2021-03-28T00:00:00\",\"2021-03-29T00:00:00\",\"2021-03-30T00:00:00\",\"2021-03-31T00:00:00\",\"2021-04-01T00:00:00\",\"2021-04-02T00:00:00\",\"2021-04-03T00:00:00\",\"2021-04-04T00:00:00\",\"2021-04-05T00:00:00\",\"2021-04-06T00:00:00\",\"2021-04-07T00:00:00\",\"2021-04-08T00:00:00\",\"2021-04-09T00:00:00\",\"2021-04-10T00:00:00\",\"2021-04-11T00:00:00\",\"2021-04-12T00:00:00\",\"2021-04-13T00:00:00\",\"2021-04-14T00:00:00\",\"2021-04-15T00:00:00\",\"2021-04-16T00:00:00\",\"2021-04-17T00:00:00\",\"2021-04-18T00:00:00\",\"2021-04-19T00:00:00\",\"2021-04-20T00:00:00\",\"2021-04-21T00:00:00\",\"2021-04-22T00:00:00\",\"2021-04-23T00:00:00\",\"2021-04-24T00:00:00\",\"2021-04-25T00:00:00\",\"2021-04-26T00:00:00\",\"2021-04-27T00:00:00\",\"2021-04-28T00:00:00\",\"2021-04-29T00:00:00\",\"2021-04-30T00:00:00\",\"2021-05-01T00:00:00\",\"2021-05-02T00:00:00\",\"2021-05-03T00:00:00\",\"2021-05-04T00:00:00\",\"2021-05-05T00:00:00\",\"2021-05-06T00:00:00\",\"2021-05-07T00:00:00\",\"2021-05-08T00:00:00\",\"2021-05-09T00:00:00\",\"2021-05-10T00:00:00\",\"2021-05-11T00:00:00\",\"2021-05-12T00:00:00\",\"2021-05-13T00:00:00\",\"2021-05-14T00:00:00\",\"2021-05-15T00:00:00\",\"2021-05-16T00:00:00\",\"2021-05-17T00:00:00\",\"2021-05-18T00:00:00\",\"2021-05-19T00:00:00\",\"2021-05-20T00:00:00\",\"2021-05-21T00:00:00\",\"2021-05-22T00:00:00\",\"2021-05-23T00:00:00\",\"2021-05-24T00:00:00\",\"2021-05-25T00:00:00\",\"2021-05-26T00:00:00\",\"2021-05-27T00:00:00\",\"2021-05-28T00:00:00\",\"2021-05-29T00:00:00\",\"2021-05-30T00:00:00\",\"2021-05-31T00:00:00\",\"2021-06-01T00:00:00\",\"2021-06-02T00:00:00\",\"2021-06-03T00:00:00\",\"2021-06-04T00:00:00\",\"2021-06-05T00:00:00\",\"2021-06-06T00:00:00\",\"2021-06-07T00:00:00\",\"2021-06-08T00:00:00\",\"2021-06-09T00:00:00\",\"2021-06-10T00:00:00\",\"2021-06-11T00:00:00\",\"2021-06-12T00:00:00\",\"2021-06-13T00:00:00\",\"2021-06-14T00:00:00\",\"2021-06-15T00:00:00\",\"2021-06-16T00:00:00\",\"2021-06-17T00:00:00\",\"2021-06-18T00:00:00\",\"2021-06-19T00:00:00\",\"2021-06-20T00:00:00\",\"2021-06-21T00:00:00\",\"2021-06-22T00:00:00\",\"2021-06-23T00:00:00\",\"2021-06-24T00:00:00\",\"2021-06-25T00:00:00\",\"2021-06-26T00:00:00\",\"2021-06-27T00:00:00\",\"2021-06-28T00:00:00\",\"2021-06-29T00:00:00\",\"2021-06-30T00:00:00\",\"2021-07-01T00:00:00\",\"2021-07-02T00:00:00\",\"2021-07-03T00:00:00\",\"2021-07-04T00:00:00\",\"2021-07-05T00:00:00\",\"2021-07-06T00:00:00\",\"2021-07-07T00:00:00\",\"2021-07-08T00:00:00\",\"2021-07-09T00:00:00\",\"2021-07-10T00:00:00\",\"2021-07-11T00:00:00\",\"2021-07-12T00:00:00\",\"2021-07-13T00:00:00\",\"2021-07-14T00:00:00\",\"2021-07-15T00:00:00\",\"2021-07-16T00:00:00\",\"2021-07-17T00:00:00\",\"2021-07-18T00:00:00\",\"2021-07-19T00:00:00\",\"2021-07-20T00:00:00\",\"2021-07-21T00:00:00\",\"2021-07-22T00:00:00\",\"2021-07-23T00:00:00\",\"2021-07-24T00:00:00\",\"2021-07-25T00:00:00\",\"2021-07-26T00:00:00\",\"2021-07-27T00:00:00\",\"2021-07-28T00:00:00\",\"2021-07-29T00:00:00\",\"2021-07-30T00:00:00\",\"2021-07-31T00:00:00\",\"2021-08-01T00:00:00\",\"2021-08-02T00:00:00\",\"2021-08-03T00:00:00\",\"2021-08-04T00:00:00\",\"2021-08-05T00:00:00\",\"2021-08-06T00:00:00\",\"2021-08-07T00:00:00\",\"2021-08-08T00:00:00\",\"2021-08-09T00:00:00\",\"2021-08-10T00:00:00\",\"2021-08-11T00:00:00\",\"2021-08-12T00:00:00\",\"2021-08-13T00:00:00\",\"2021-08-14T00:00:00\",\"2021-08-15T00:00:00\",\"2021-08-16T00:00:00\",\"2021-08-17T00:00:00\",\"2021-08-18T00:00:00\",\"2021-08-19T00:00:00\",\"2021-08-20T00:00:00\",\"2021-08-21T00:00:00\",\"2021-08-22T00:00:00\",\"2021-08-23T00:00:00\",\"2021-08-24T00:00:00\",\"2021-08-25T00:00:00\",\"2021-08-26T00:00:00\",\"2021-08-27T00:00:00\",\"2021-08-28T00:00:00\",\"2021-08-29T00:00:00\",\"2021-08-30T00:00:00\",\"2021-08-31T00:00:00\",\"2021-09-01T00:00:00\",\"2021-09-02T00:00:00\",\"2021-09-03T00:00:00\",\"2021-09-04T00:00:00\",\"2021-09-05T00:00:00\",\"2021-09-06T00:00:00\",\"2021-09-07T00:00:00\",\"2021-09-08T00:00:00\",\"2021-09-09T00:00:00\",\"2021-09-10T00:00:00\",\"2021-09-11T00:00:00\",\"2021-09-12T00:00:00\",\"2021-09-13T00:00:00\",\"2021-09-14T00:00:00\",\"2021-09-15T00:00:00\",\"2021-09-16T00:00:00\",\"2021-09-17T00:00:00\",\"2021-09-18T00:00:00\",\"2021-09-19T00:00:00\",\"2021-09-20T00:00:00\",\"2021-09-21T00:00:00\",\"2021-09-22T00:00:00\",\"2021-09-23T00:00:00\",\"2021-09-24T00:00:00\",\"2021-09-25T00:00:00\",\"2021-09-26T00:00:00\",\"2021-09-27T00:00:00\",\"2021-09-28T00:00:00\",\"2021-09-29T00:00:00\",\"2021-09-30T00:00:00\",\"2021-10-01T00:00:00\",\"2021-10-02T00:00:00\",\"2021-10-03T00:00:00\",\"2021-10-04T00:00:00\",\"2021-10-05T00:00:00\",\"2021-10-06T00:00:00\",\"2021-10-07T00:00:00\",\"2021-10-08T00:00:00\",\"2021-10-09T00:00:00\",\"2021-10-10T00:00:00\",\"2021-10-11T00:00:00\",\"2021-10-12T00:00:00\",\"2021-10-13T00:00:00\",\"2021-10-14T00:00:00\",\"2021-10-15T00:00:00\",\"2021-10-16T00:00:00\",\"2021-10-17T00:00:00\",\"2021-10-18T00:00:00\",\"2021-10-19T00:00:00\",\"2021-10-20T00:00:00\",\"2021-10-21T00:00:00\",\"2021-10-22T00:00:00\",\"2021-10-23T00:00:00\",\"2021-10-24T00:00:00\",\"2021-10-25T00:00:00\",\"2021-10-26T00:00:00\",\"2021-10-27T00:00:00\",\"2021-10-28T00:00:00\",\"2021-10-29T00:00:00\",\"2021-10-30T00:00:00\",\"2021-10-31T00:00:00\",\"2021-11-01T00:00:00\",\"2021-11-02T00:00:00\",\"2021-11-03T00:00:00\",\"2021-11-04T00:00:00\",\"2021-11-05T00:00:00\",\"2021-11-06T00:00:00\",\"2021-11-07T00:00:00\",\"2021-11-08T00:00:00\",\"2021-11-09T00:00:00\",\"2021-11-10T00:00:00\",\"2021-11-11T00:00:00\",\"2021-11-12T00:00:00\",\"2021-11-13T00:00:00\",\"2021-11-14T00:00:00\",\"2021-11-15T00:00:00\"],\"xaxis\":\"x\",\"y\":[1,1,2,2,4,1,1,4,1,1,1,2,1,1,1,1,3,7,23,47,23,35,41,84,155,185,182,138,102,338,592,745,979,1443,1283,965,2000,2982,3536,3992,3947,3261,2183,3598,4712,5459,5633,5716,4472,2909,3850,5677,5878,6129,5796,4097,2351,3369,4848,4931,4580,3145,2683,1697,1433,2245,3090,3224,2867,1983,1255,1559,2043,2360,1971,1819,1192,673,1042,1377,1372,1386,871,584,408,688,1044,1181,1149,934,655,327,659,822,882,788,696,439,307,519,700,805,412,508,326,213,399,602,636,520,436,370,176,132,296,485,521,432,280,160,292,424,508,280,341,298,166,255,507,855,760,987,565,219,441,533,504,559,567,323,200,411,456,477,468,420,290,138,316,387,444,420,421,276,130,321,463,534,546,515,440,175,449,518,690,691,795,538,211,520,748,904,855,901,560,304,781,941,1103,1159,998,708,317,1099,1192,1531,1488,1368,750,487,1538,1523,1753,1613,1653,916,565,1421,1483,1613,1537,1387,831,533,1178,1314,1411,1511,1483,1095,578,1401,1357,1734,1585,1639,1215,753,1479,1988,2176,2342,2152,1381,679,1636,1795,2196,2373,2310,1760,864,1811,2148,2714,2896,2895,2184,1143,2369,3555,4447,4609,5009,3588,2241,4123,5300,7178,7827,7868,5627,3618,6389,9297,12239,13700,13819,10974,7307,11766,15685,18969,19553,19146,13789,10341,14954,18994,20873,21906,21295,15694,9941,15603,19246,22256,22966,20898,15415,8615,14224,19815,23128,23139,21737,14425,8535,14585,18883,21445,22096,19491,14521,8455,12737,18548,22449,23551,21425,15197,9872,15740,21917,26784,27944,26269,19831,11974,18220,25907,30284,30789,28716,20924,13348,19362,27765,32718,20441,12658,10958,9274,14834,26316,29765,18797,9850,9416,8327,13512,26374,27049,25072,23583,16058,8039,12874,21686,23126,19441,17468,12895,6271,8611,17696,18713,16091,14386,11125,4803,6313,14928,15196,12877,12080,9632,4008,5543,11901,12962,11061,9687,8145,2990,3941,8790,9969,9053,8282,5432,3653,4187,8945,9725,8983,8500,7626,2940,4219,9961,11060,9711,9267,7521,3377,4515,10755,11132,9954,9518,8159,3278,4699,11315,13778,12947,12359,10348,4764,6670,15552,18139,16477,15504,13070,5850,8712,19173,22380,21610,19769,15574,7467,10753,20090,23693,21174,15282,10457,7022,6878,11242,23424,25480,23041,17826,8745,11902,26425,28231,24803,22837,17504,8691,12065,27634,29083,25173,22703,17826,8577,11988,25007,24771,21214,18969,14927,6563,8985,20770,20660,17003,15323,11948,5257,7284,16608,16356,9594,7543,8510,4228,5155,12241,11233,8364,7511,5770,1976,1779,3616,7079,6767,5118,3659,1587,2415,5075,4457,2918,2258,2289,1115,1698,3515,2851,2259,1830,1301,507,919,1690,1434,1144,1023,739,272,594,1045,897,816,731,485,220,508,889,859,702,664,506,207,546,1051,959,956,938,785,313,786,1761,1619,1514,1615,1276,494,1422,2327,2282,2217,2112,1586,640,1655,3084,2819,2624,2510,1954,777,2097,3741,3540,3513,3514,2780,1132,2907,5533,5620,5411,5769,4611,2059,4486,8877,8711,8628,8796,6801,3083,6508,12835,12659,11571,10335,8340,3719,7011,14494,14660,12638,11987,9426,4031,6934,15040,14091,12302,11071,8509,3263,6803,13314,12140,10214,8831,7005,2760,5357,11189,10390,9036,8349,6309,2614,5702,12570,11291,9434,8321,6106,2621,5597,12120,10996,10030,9130,6973,2608,6150,12536,11969,11211,11021,8417,3361,7916,18863,14707,13684,12371,9550,3650,8100,17930,18090,15553,14102,10671,4565,6559,12876,13563,11256,6941,2989,1173,1704,1477,958,527,249,107,25,50],\"yaxis\":\"y\"}],                        {\"barmode\":\"relative\",\"coloraxis\":{\"colorbar\":{\"title\":{\"text\":\"recovered\"}},\"colorscale\":[[0.0,\"rgb(103,0,31)\"],[0.1,\"rgb(178,24,43)\"],[0.2,\"rgb(214,96,77)\"],[0.3,\"rgb(244,165,130)\"],[0.4,\"rgb(253,219,199)\"],[0.5,\"rgb(247,247,247)\"],[0.6,\"rgb(209,229,240)\"],[0.7,\"rgb(146,197,222)\"],[0.8,\"rgb(67,147,195)\"],[0.9,\"rgb(33,102,172)\"],[1.0,\"rgb(5,48,97)\"]]},\"height\":400,\"legend\":{\"tracegroupgap\":0},\"template\":{\"data\":{\"bar\":[{\"error_x\":{\"color\":\"#2a3f5f\"},\"error_y\":{\"color\":\"#2a3f5f\"},\"marker\":{\"line\":{\"color\":\"#E5ECF6\",\"width\":0.5},\"pattern\":{\"fillmode\":\"overlay\",\"size\":10,\"solidity\":0.2}},\"type\":\"bar\"}],\"barpolar\":[{\"marker\":{\"line\":{\"color\":\"#E5ECF6\",\"width\":0.5},\"pattern\":{\"fillmode\":\"overlay\",\"size\":10,\"solidity\":0.2}},\"type\":\"barpolar\"}],\"carpet\":[{\"aaxis\":{\"endlinecolor\":\"#2a3f5f\",\"gridcolor\":\"white\",\"linecolor\":\"white\",\"minorgridcolor\":\"white\",\"startlinecolor\":\"#2a3f5f\"},\"baxis\":{\"endlinecolor\":\"#2a3f5f\",\"gridcolor\":\"white\",\"linecolor\":\"white\",\"minorgridcolor\":\"white\",\"startlinecolor\":\"#2a3f5f\"},\"type\":\"carpet\"}],\"choropleth\":[{\"colorbar\":{\"outlinewidth\":0,\"ticks\":\"\"},\"type\":\"choropleth\"}],\"contour\":[{\"colorbar\":{\"outlinewidth\":0,\"ticks\":\"\"},\"colorscale\":[[0.0,\"#0d0887\"],[0.1111111111111111,\"#46039f\"],[0.2222222222222222,\"#7201a8\"],[0.3333333333333333,\"#9c179e\"],[0.4444444444444444,\"#bd3786\"],[0.5555555555555556,\"#d8576b\"],[0.6666666666666666,\"#ed7953\"],[0.7777777777777778,\"#fb9f3a\"],[0.8888888888888888,\"#fdca26\"],[1.0,\"#f0f921\"]],\"type\":\"contour\"}],\"contourcarpet\":[{\"colorbar\":{\"outlinewidth\":0,\"ticks\":\"\"},\"type\":\"contourcarpet\"}],\"heatmap\":[{\"colorbar\":{\"outlinewidth\":0,\"ticks\":\"\"},\"colorscale\":[[0.0,\"#0d0887\"],[0.1111111111111111,\"#46039f\"],[0.2222222222222222,\"#7201a8\"],[0.3333333333333333,\"#9c179e\"],[0.4444444444444444,\"#bd3786\"],[0.5555555555555556,\"#d8576b\"],[0.6666666666666666,\"#ed7953\"],[0.7777777777777778,\"#fb9f3a\"],[0.8888888888888888,\"#fdca26\"],[1.0,\"#f0f921\"]],\"type\":\"heatmap\"}],\"heatmapgl\":[{\"colorbar\":{\"outlinewidth\":0,\"ticks\":\"\"},\"colorscale\":[[0.0,\"#0d0887\"],[0.1111111111111111,\"#46039f\"],[0.2222222222222222,\"#7201a8\"],[0.3333333333333333,\"#9c179e\"],[0.4444444444444444,\"#bd3786\"],[0.5555555555555556,\"#d8576b\"],[0.6666666666666666,\"#ed7953\"],[0.7777777777777778,\"#fb9f3a\"],[0.8888888888888888,\"#fdca26\"],[1.0,\"#f0f921\"]],\"type\":\"heatmapgl\"}],\"histogram\":[{\"marker\":{\"pattern\":{\"fillmode\":\"overlay\",\"size\":10,\"solidity\":0.2}},\"type\":\"histogram\"}],\"histogram2d\":[{\"colorbar\":{\"outlinewidth\":0,\"ticks\":\"\"},\"colorscale\":[[0.0,\"#0d0887\"],[0.1111111111111111,\"#46039f\"],[0.2222222222222222,\"#7201a8\"],[0.3333333333333333,\"#9c179e\"],[0.4444444444444444,\"#bd3786\"],[0.5555555555555556,\"#d8576b\"],[0.6666666666666666,\"#ed7953\"],[0.7777777777777778,\"#fb9f3a\"],[0.8888888888888888,\"#fdca26\"],[1.0,\"#f0f921\"]],\"type\":\"histogram2d\"}],\"histogram2dcontour\":[{\"colorbar\":{\"outlinewidth\":0,\"ticks\":\"\"},\"colorscale\":[[0.0,\"#0d0887\"],[0.1111111111111111,\"#46039f\"],[0.2222222222222222,\"#7201a8\"],[0.3333333333333333,\"#9c179e\"],[0.4444444444444444,\"#bd3786\"],[0.5555555555555556,\"#d8576b\"],[0.6666666666666666,\"#ed7953\"],[0.7777777777777778,\"#fb9f3a\"],[0.8888888888888888,\"#fdca26\"],[1.0,\"#f0f921\"]],\"type\":\"histogram2dcontour\"}],\"mesh3d\":[{\"colorbar\":{\"outlinewidth\":0,\"ticks\":\"\"},\"type\":\"mesh3d\"}],\"parcoords\":[{\"line\":{\"colorbar\":{\"outlinewidth\":0,\"ticks\":\"\"}},\"type\":\"parcoords\"}],\"pie\":[{\"automargin\":true,\"type\":\"pie\"}],\"scatter\":[{\"marker\":{\"colorbar\":{\"outlinewidth\":0,\"ticks\":\"\"}},\"type\":\"scatter\"}],\"scatter3d\":[{\"line\":{\"colorbar\":{\"outlinewidth\":0,\"ticks\":\"\"}},\"marker\":{\"colorbar\":{\"outlinewidth\":0,\"ticks\":\"\"}},\"type\":\"scatter3d\"}],\"scattercarpet\":[{\"marker\":{\"colorbar\":{\"outlinewidth\":0,\"ticks\":\"\"}},\"type\":\"scattercarpet\"}],\"scattergeo\":[{\"marker\":{\"colorbar\":{\"outlinewidth\":0,\"ticks\":\"\"}},\"type\":\"scattergeo\"}],\"scattergl\":[{\"marker\":{\"colorbar\":{\"outlinewidth\":0,\"ticks\":\"\"}},\"type\":\"scattergl\"}],\"scattermapbox\":[{\"marker\":{\"colorbar\":{\"outlinewidth\":0,\"ticks\":\"\"}},\"type\":\"scattermapbox\"}],\"scatterpolar\":[{\"marker\":{\"colorbar\":{\"outlinewidth\":0,\"ticks\":\"\"}},\"type\":\"scatterpolar\"}],\"scatterpolargl\":[{\"marker\":{\"colorbar\":{\"outlinewidth\":0,\"ticks\":\"\"}},\"type\":\"scatterpolargl\"}],\"scatterternary\":[{\"marker\":{\"colorbar\":{\"outlinewidth\":0,\"ticks\":\"\"}},\"type\":\"scatterternary\"}],\"surface\":[{\"colorbar\":{\"outlinewidth\":0,\"ticks\":\"\"},\"colorscale\":[[0.0,\"#0d0887\"],[0.1111111111111111,\"#46039f\"],[0.2222222222222222,\"#7201a8\"],[0.3333333333333333,\"#9c179e\"],[0.4444444444444444,\"#bd3786\"],[0.5555555555555556,\"#d8576b\"],[0.6666666666666666,\"#ed7953\"],[0.7777777777777778,\"#fb9f3a\"],[0.8888888888888888,\"#fdca26\"],[1.0,\"#f0f921\"]],\"type\":\"surface\"}],\"table\":[{\"cells\":{\"fill\":{\"color\":\"#EBF0F8\"},\"line\":{\"color\":\"white\"}},\"header\":{\"fill\":{\"color\":\"#C8D4E3\"},\"line\":{\"color\":\"white\"}},\"type\":\"table\"}]},\"layout\":{\"annotationdefaults\":{\"arrowcolor\":\"#2a3f5f\",\"arrowhead\":0,\"arrowwidth\":1},\"autotypenumbers\":\"strict\",\"coloraxis\":{\"colorbar\":{\"outlinewidth\":0,\"ticks\":\"\"}},\"colorscale\":{\"diverging\":[[0,\"#8e0152\"],[0.1,\"#c51b7d\"],[0.2,\"#de77ae\"],[0.3,\"#f1b6da\"],[0.4,\"#fde0ef\"],[0.5,\"#f7f7f7\"],[0.6,\"#e6f5d0\"],[0.7,\"#b8e186\"],[0.8,\"#7fbc41\"],[0.9,\"#4d9221\"],[1,\"#276419\"]],\"sequential\":[[0.0,\"#0d0887\"],[0.1111111111111111,\"#46039f\"],[0.2222222222222222,\"#7201a8\"],[0.3333333333333333,\"#9c179e\"],[0.4444444444444444,\"#bd3786\"],[0.5555555555555556,\"#d8576b\"],[0.6666666666666666,\"#ed7953\"],[0.7777777777777778,\"#fb9f3a\"],[0.8888888888888888,\"#fdca26\"],[1.0,\"#f0f921\"]],\"sequentialminus\":[[0.0,\"#0d0887\"],[0.1111111111111111,\"#46039f\"],[0.2222222222222222,\"#7201a8\"],[0.3333333333333333,\"#9c179e\"],[0.4444444444444444,\"#bd3786\"],[0.5555555555555556,\"#d8576b\"],[0.6666666666666666,\"#ed7953\"],[0.7777777777777778,\"#fb9f3a\"],[0.8888888888888888,\"#fdca26\"],[1.0,\"#f0f921\"]]},\"colorway\":[\"#636efa\",\"#EF553B\",\"#00cc96\",\"#ab63fa\",\"#FFA15A\",\"#19d3f3\",\"#FF6692\",\"#B6E880\",\"#FF97FF\",\"#FECB52\"],\"font\":{\"color\":\"#2a3f5f\"},\"geo\":{\"bgcolor\":\"white\",\"lakecolor\":\"white\",\"landcolor\":\"#E5ECF6\",\"showlakes\":true,\"showland\":true,\"subunitcolor\":\"white\"},\"hoverlabel\":{\"align\":\"left\"},\"hovermode\":\"closest\",\"mapbox\":{\"style\":\"light\"},\"paper_bgcolor\":\"white\",\"plot_bgcolor\":\"#E5ECF6\",\"polar\":{\"angularaxis\":{\"gridcolor\":\"white\",\"linecolor\":\"white\",\"ticks\":\"\"},\"bgcolor\":\"#E5ECF6\",\"radialaxis\":{\"gridcolor\":\"white\",\"linecolor\":\"white\",\"ticks\":\"\"}},\"scene\":{\"xaxis\":{\"backgroundcolor\":\"#E5ECF6\",\"gridcolor\":\"white\",\"gridwidth\":2,\"linecolor\":\"white\",\"showbackground\":true,\"ticks\":\"\",\"zerolinecolor\":\"white\"},\"yaxis\":{\"backgroundcolor\":\"#E5ECF6\",\"gridcolor\":\"white\",\"gridwidth\":2,\"linecolor\":\"white\",\"showbackground\":true,\"ticks\":\"\",\"zerolinecolor\":\"white\"},\"zaxis\":{\"backgroundcolor\":\"#E5ECF6\",\"gridcolor\":\"white\",\"gridwidth\":2,\"linecolor\":\"white\",\"showbackground\":true,\"ticks\":\"\",\"zerolinecolor\":\"white\"}},\"shapedefaults\":{\"line\":{\"color\":\"#2a3f5f\"}},\"ternary\":{\"aaxis\":{\"gridcolor\":\"white\",\"linecolor\":\"white\",\"ticks\":\"\"},\"baxis\":{\"gridcolor\":\"white\",\"linecolor\":\"white\",\"ticks\":\"\"},\"bgcolor\":\"#E5ECF6\",\"caxis\":{\"gridcolor\":\"white\",\"linecolor\":\"white\",\"ticks\":\"\"}},\"title\":{\"x\":0.05},\"xaxis\":{\"automargin\":true,\"gridcolor\":\"white\",\"linecolor\":\"white\",\"ticks\":\"\",\"title\":{\"standoff\":15},\"zerolinecolor\":\"white\",\"zerolinewidth\":2},\"yaxis\":{\"automargin\":true,\"gridcolor\":\"white\",\"linecolor\":\"white\",\"ticks\":\"\",\"title\":{\"standoff\":15},\"zerolinecolor\":\"white\",\"zerolinewidth\":2}}},\"title\":{\"text\":\"Daily Recoveries of COVID-19 in Germany\"},\"xaxis\":{\"anchor\":\"y\",\"domain\":[0.0,1.0],\"title\":{\"text\":\"date\"}},\"yaxis\":{\"anchor\":\"x\",\"domain\":[0.0,1.0],\"title\":{\"text\":\"recovered\"}}},                        {\"responsive\": true}                    ).then(function(){\n",
       "                            \n",
       "var gd = document.getElementById('c874b518-f2f8-4af9-8a52-4a701839b854');\n",
       "var x = new MutationObserver(function (mutations, observer) {{\n",
       "        var display = window.getComputedStyle(gd).display;\n",
       "        if (!display || display === 'none') {{\n",
       "            console.log([gd, 'removed!']);\n",
       "            Plotly.purge(gd);\n",
       "            observer.disconnect();\n",
       "        }}\n",
       "}});\n",
       "\n",
       "// Listen for the removal of the full notebook cells\n",
       "var notebookContainer = gd.closest('#notebook-container');\n",
       "if (notebookContainer) {{\n",
       "    x.observe(notebookContainer, {childList: true});\n",
       "}}\n",
       "\n",
       "// Listen for the clearing of the current output cell\n",
       "var outputEl = gd.closest('.output');\n",
       "if (outputEl) {{\n",
       "    x.observe(outputEl, {childList: true});\n",
       "}}\n",
       "\n",
       "                        })                };                });            </script>        </div>"
      ]
     },
     "metadata": {},
     "output_type": "display_data"
    }
   ],
   "source": [
    "# Grouping the data by date\n",
    "deaths = covid.groupby('date', as_index = False).agg({'recovered' : 'sum'})\n",
    "\n",
    "# Plot bar chart\n",
    "fig = px.bar(deaths, x = 'date', y = 'recovered',height = 400,\n",
    "             color = 'recovered', \n",
    "             color_continuous_scale = px.colors.diverging.RdBu,\n",
    "             title = 'Daily Recoveries of COVID-19 in Germany')\n",
    "fig.show()"
   ]
  },
  {
   "cell_type": "markdown",
   "id": "797660e7",
   "metadata": {
    "papermill": {
     "duration": 0.039235,
     "end_time": "2021-11-17T12:23:43.687593",
     "exception": false,
     "start_time": "2021-11-17T12:23:43.648358",
     "status": "completed"
    },
    "tags": []
   },
   "source": [
    "## 4. Conclusion :<a name=\"4\"></a>\n"
   ]
  }
 ],
 "metadata": {
  "kernelspec": {
   "display_name": "Python 3",
   "language": "python",
   "name": "python3"
  },
  "language_info": {
   "codemirror_mode": {
    "name": "ipython",
    "version": 3
   },
   "file_extension": ".py",
   "mimetype": "text/x-python",
   "name": "python",
   "nbconvert_exporter": "python",
   "pygments_lexer": "ipython3",
   "version": "3.7.10"
  },
  "papermill": {
   "default_parameters": {},
   "duration": 21.698602,
   "end_time": "2021-11-17T12:23:44.651313",
   "environment_variables": {},
   "exception": null,
   "input_path": "__notebook__.ipynb",
   "output_path": "__notebook__.ipynb",
   "parameters": {},
   "start_time": "2021-11-17T12:23:22.952711",
   "version": "2.3.3"
  }
 },
 "nbformat": 4,
 "nbformat_minor": 5
}
